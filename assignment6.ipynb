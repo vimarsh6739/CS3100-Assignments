{
 "cells": [
  {
   "cell_type": "markdown",
   "metadata": {},
   "source": [
    "Before you turn this problem in, make sure everything runs as expected. First, **restart the kernel** (in the menubar, select Kernel$\\rightarrow$Restart) and then **run all cells** (in the menubar, select Cell$\\rightarrow$Run All).\n",
    "\n",
    "Make sure you fill in any place that says `YOUR CODE HERE` or \"YOUR ANSWER HERE\", as well as your name below:"
   ]
  },
  {
   "cell_type": "code",
   "execution_count": 1,
   "metadata": {},
   "outputs": [
    {
     "data": {
      "text/plain": [
       "val name : string = \"Vimarsh Sathia\"\n"
      ]
     },
     "execution_count": 1,
     "metadata": {},
     "output_type": "execute_result"
    },
    {
     "data": {
      "text/plain": [
       "val rollno : string = \"CS17B046\"\n"
      ]
     },
     "execution_count": 1,
     "metadata": {},
     "output_type": "execute_result"
    }
   ],
   "source": [
    "let name = \"Vimarsh Sathia\"\n",
    "let rollno = \"CS17B046\""
   ]
  },
  {
   "cell_type": "markdown",
   "metadata": {},
   "source": [
    "## Important notes about grading:\n",
    "\n",
    "1. **Compiler errors:** All code you submit must compile. Programs that do not compile will probably receive an automatic zero. If you are having trouble getting your assignment to compile, please visit consulting hours. If you run out of time, it is better to comment out the parts that do not compile, than hand in a more complete file that does not compile.\n",
    "2. **Late assignments:** Please carefully review the course website's policy on late assignments, as all assignments handed in after the deadline will be considered late. Verify on moodle that you have submitted the correct version, before the deadline. Submitting the incorrect version before the deadline and realizing that you have done so after the deadline will be counted as a late submission."
   ]
  },
  {
   "cell_type": "markdown",
   "metadata": {
    "deletable": false,
    "editable": false,
    "nbgrader": {
     "cell_type": "markdown",
     "checksum": "485156e97d9fe896e284ee206e904f16",
     "grade": false,
     "grade_id": "cell-19709d5de597aa34",
     "locked": true,
     "schema_version": 3,
     "solution": false,
     "task": false
    }
   },
   "source": [
    "## A Prolog interpreter in OCaml\n",
    "\n",
    "In this assignment, you will implement a Prolog interpreter in OCaml with support for backtracking (recover from bad choices) and choice points (produce multiple results).\n",
    "\n",
    "We will start with the definition of terms, predicates, clauses, goals and programs."
   ]
  },
  {
   "cell_type": "code",
   "execution_count": 2,
   "metadata": {
    "deletable": false,
    "editable": false,
    "nbgrader": {
     "cell_type": "code",
     "checksum": "6c2da10587cbcf862b42991b85a1694d",
     "grade": false,
     "grade_id": "cell-850219ab9c627b3e",
     "locked": true,
     "schema_version": 3,
     "solution": false,
     "task": false
    }
   },
   "outputs": [
    {
     "data": {
      "text/plain": [
       "type constant = Constant of string\n"
      ]
     },
     "execution_count": 2,
     "metadata": {},
     "output_type": "execute_result"
    },
    {
     "data": {
      "text/plain": [
       "type variable = Variable of string\n"
      ]
     },
     "execution_count": 2,
     "metadata": {},
     "output_type": "execute_result"
    },
    {
     "data": {
      "text/plain": [
       "type func = Function of string * term list\n",
       "and term = C of constant | V of variable | F of func\n"
      ]
     },
     "execution_count": 2,
     "metadata": {},
     "output_type": "execute_result"
    },
    {
     "data": {
      "text/plain": [
       "type predicate = Predicate of string * term list\n"
      ]
     },
     "execution_count": 2,
     "metadata": {},
     "output_type": "execute_result"
    },
    {
     "data": {
      "text/plain": [
       "type head = predicate\n"
      ]
     },
     "execution_count": 2,
     "metadata": {},
     "output_type": "execute_result"
    },
    {
     "data": {
      "text/plain": [
       "type body = predicate list\n"
      ]
     },
     "execution_count": 2,
     "metadata": {},
     "output_type": "execute_result"
    },
    {
     "data": {
      "text/plain": [
       "type clause = Fact of head | Rule of head * body\n"
      ]
     },
     "execution_count": 2,
     "metadata": {},
     "output_type": "execute_result"
    },
    {
     "data": {
      "text/plain": [
       "type goal = predicate list\n"
      ]
     },
     "execution_count": 2,
     "metadata": {},
     "output_type": "execute_result"
    },
    {
     "data": {
      "text/plain": [
       "type program = clause list\n"
      ]
     },
     "execution_count": 2,
     "metadata": {},
     "output_type": "execute_result"
    }
   ],
   "source": [
    "type constant = Constant of string\n",
    "type variable = Variable of string\n",
    "type func = Function of string * term list\n",
    "and term = C of constant | V of variable | F of func\n",
    "\n",
    "type predicate = Predicate of string * term list\n",
    "\n",
    "type head = predicate\n",
    "type body = predicate list\n",
    "\n",
    "type clause = Fact of head | Rule of head * body\n",
    "\n",
    "type goal = predicate list\n",
    "\n",
    "type program = clause list"
   ]
  },
  {
   "cell_type": "markdown",
   "metadata": {
    "deletable": false,
    "editable": false,
    "nbgrader": {
     "cell_type": "markdown",
     "checksum": "51f04252716e8caf4c141b41abffd6e4",
     "grade": false,
     "grade_id": "cell-67006c29f852db56",
     "locked": true,
     "schema_version": 3,
     "solution": false,
     "task": false
    }
   },
   "source": [
    "The following stringification functions should help you debug the interpreter. "
   ]
  },
  {
   "cell_type": "code",
   "execution_count": 3,
   "metadata": {
    "deletable": false,
    "editable": false,
    "nbgrader": {
     "cell_type": "code",
     "checksum": "d30001f0b52434a66087f8917b49cde6",
     "grade": false,
     "grade_id": "cell-1ce7f8577e2f83b6",
     "locked": true,
     "schema_version": 3,
     "solution": false,
     "task": false
    }
   },
   "outputs": [
    {
     "data": {
      "text/plain": [
       "val string_of_f_list : ('a -> string) -> 'a list -> string = <fun>\n"
      ]
     },
     "execution_count": 3,
     "metadata": {},
     "output_type": "execute_result"
    },
    {
     "data": {
      "text/plain": [
       "val string_of_term : term -> string = <fun>\n"
      ]
     },
     "execution_count": 3,
     "metadata": {},
     "output_type": "execute_result"
    },
    {
     "data": {
      "text/plain": [
       "val string_of_predicate : predicate -> string = <fun>\n"
      ]
     },
     "execution_count": 3,
     "metadata": {},
     "output_type": "execute_result"
    },
    {
     "data": {
      "text/plain": [
       "val string_of_predicate_list : predicate list -> string = <fun>\n"
      ]
     },
     "execution_count": 3,
     "metadata": {},
     "output_type": "execute_result"
    },
    {
     "data": {
      "text/plain": [
       "val string_of_goal : predicate list -> string = <fun>\n"
      ]
     },
     "execution_count": 3,
     "metadata": {},
     "output_type": "execute_result"
    },
    {
     "data": {
      "text/plain": [
       "val string_of_clause : clause -> string = <fun>\n"
      ]
     },
     "execution_count": 3,
     "metadata": {},
     "output_type": "execute_result"
    },
    {
     "data": {
      "text/plain": [
       "val string_of_program : clause list -> string = <fun>\n"
      ]
     },
     "execution_count": 3,
     "metadata": {},
     "output_type": "execute_result"
    }
   ],
   "source": [
    "let rec string_of_f_list f tl =\n",
    "  let _, s = List.fold_left (fun (first, s) t -> \n",
    "    let prefix = if first then \"\" else s ^ \", \" in\n",
    "    false, prefix ^ (f t)) (true,\"\") tl\n",
    "  in \n",
    "  s\n",
    "\n",
    "let rec string_of_term t =\n",
    "  match t with\n",
    "  | C (Constant c) -> c\n",
    "  | V (Variable v) -> v\n",
    "  | F (Function (f,tl)) -> \n",
    "      f ^ \"(\" ^ (string_of_f_list string_of_term tl) ^ \")\"\n",
    "\n",
    "let string_of_predicate (Predicate (p,tl)) =\n",
    "  p ^ \"(\" ^ (string_of_f_list string_of_term tl) ^\")\"\n",
    "  \n",
    "let string_of_predicate_list pl =\n",
    "  string_of_f_list string_of_predicate pl\n",
    "  \n",
    "let string_of_goal g =\n",
    "  \"?- \" ^ (string_of_predicate_list g)\n",
    "\n",
    "let string_of_clause c =\n",
    "  match c with\n",
    "  | Fact f -> string_of_predicate f ^ \".\"\n",
    "  | Rule (h,b) -> string_of_predicate h ^ \" :- \" ^ (string_of_predicate_list b) ^ \".\"\n",
    "\n",
    "let string_of_program p =\n",
    "  List.fold_left (fun acc c -> acc ^ (string_of_clause c) ^ \"\\n\") \"\" p"
   ]
  },
  {
   "cell_type": "markdown",
   "metadata": {
    "deletable": false,
    "editable": false,
    "nbgrader": {
     "cell_type": "markdown",
     "checksum": "1e595cdef56b9f287ce409bab691af21",
     "grade": false,
     "grade_id": "cell-e7940771e46d768b",
     "locked": true,
     "schema_version": 3,
     "solution": false,
     "task": false
    }
   },
   "source": [
    "Below are more helper functions:"
   ]
  },
  {
   "cell_type": "code",
   "execution_count": 4,
   "metadata": {
    "deletable": false,
    "editable": false,
    "nbgrader": {
     "cell_type": "code",
     "checksum": "1e1bbaed6a135e897176d18375fceab0",
     "grade": false,
     "grade_id": "cell-ffdac7359cc5accb",
     "locked": true,
     "schema_version": 3,
     "solution": false,
     "task": false
    }
   },
   "outputs": [
    {
     "data": {
      "text/plain": [
       "val var : string -> variable = <fun>\n"
      ]
     },
     "execution_count": 4,
     "metadata": {},
     "output_type": "execute_result"
    },
    {
     "data": {
      "text/plain": [
       "val var_t : string -> term = <fun>\n"
      ]
     },
     "execution_count": 4,
     "metadata": {},
     "output_type": "execute_result"
    },
    {
     "data": {
      "text/plain": [
       "val const : string -> constant = <fun>\n"
      ]
     },
     "execution_count": 4,
     "metadata": {},
     "output_type": "execute_result"
    },
    {
     "data": {
      "text/plain": [
       "val const_t : string -> term = <fun>\n"
      ]
     },
     "execution_count": 4,
     "metadata": {},
     "output_type": "execute_result"
    },
    {
     "data": {
      "text/plain": [
       "val func : string -> term list -> func = <fun>\n"
      ]
     },
     "execution_count": 4,
     "metadata": {},
     "output_type": "execute_result"
    },
    {
     "data": {
      "text/plain": [
       "val func_t : string -> term list -> term = <fun>\n"
      ]
     },
     "execution_count": 4,
     "metadata": {},
     "output_type": "execute_result"
    },
    {
     "data": {
      "text/plain": [
       "val pred : string -> term list -> predicate = <fun>\n"
      ]
     },
     "execution_count": 4,
     "metadata": {},
     "output_type": "execute_result"
    },
    {
     "data": {
      "text/plain": [
       "val fact : head -> clause = <fun>\n"
      ]
     },
     "execution_count": 4,
     "metadata": {},
     "output_type": "execute_result"
    },
    {
     "data": {
      "text/plain": [
       "val rule : head -> body -> clause = <fun>\n"
      ]
     },
     "execution_count": 4,
     "metadata": {},
     "output_type": "execute_result"
    }
   ],
   "source": [
    "let var v = Variable v\n",
    "let var_t v = V (var v)\n",
    "let const c = Constant c\n",
    "let const_t c = C (Constant c)\n",
    "let func f l = Function (f,l)\n",
    "let func_t f l = F (func f l)\n",
    "let pred p l = Predicate (p,l)\n",
    "let fact f = Fact f\n",
    "let rule h b = Rule (h,b)"
   ]
  },
  {
   "cell_type": "markdown",
   "metadata": {
    "deletable": false,
    "editable": false,
    "nbgrader": {
     "cell_type": "markdown",
     "checksum": "c1b2cf4dc599d390b3d7d9a04982e7f2",
     "grade": false,
     "grade_id": "cell-9b1529f4a46180c0",
     "locked": true,
     "schema_version": 3,
     "solution": false,
     "task": false
    }
   },
   "source": [
    "## Problem 1\n",
    "\n",
    "In this problem, you will implement the function:\n",
    "\n",
    "```ocaml\n",
    "occurs_check : variable -> term -> bool\n",
    "```\n",
    "\n",
    "`occurs_check v t` returns `true` if the variable `v` occurs in `t`. "
   ]
  },
  {
   "cell_type": "code",
   "execution_count": 5,
   "metadata": {
    "deletable": false,
    "nbgrader": {
     "cell_type": "code",
     "checksum": "4a7ee742dc0483b2c70c5b93e6e98d67",
     "grade": false,
     "grade_id": "cell-ec625c2e0cf9df17",
     "locked": false,
     "schema_version": 3,
     "solution": true,
     "task": false
    }
   },
   "outputs": [
    {
     "data": {
      "text/plain": [
       "val occurs_check : variable -> term -> bool = <fun>\n"
      ]
     },
     "execution_count": 5,
     "metadata": {},
     "output_type": "execute_result"
    }
   ],
   "source": [
    "let rec occurs_check v t = \n",
    "  match t with\n",
    "  |C c -> false\n",
    "  |V x -> if(v=x)then true else false\n",
    "  |F (Function(f,tl)) -> List.fold_left (fun acc x -> acc || occurs_check v x) (false) (tl);;"
   ]
  },
  {
   "cell_type": "code",
   "execution_count": 6,
   "metadata": {
    "deletable": false,
    "editable": false,
    "nbgrader": {
     "cell_type": "code",
     "checksum": "2fb5b82749fec59f8b687a06d8346245",
     "grade": true,
     "grade_id": "cell-9acf04576c956341",
     "locked": true,
     "points": 5,
     "schema_version": 3,
     "solution": false,
     "task": false
    }
   },
   "outputs": [
    {
     "data": {
      "text/plain": [
       "- : unit = ()\n"
      ]
     },
     "execution_count": 6,
     "metadata": {},
     "output_type": "execute_result"
    },
    {
     "data": {
      "text/plain": [
       "- : unit = ()\n"
      ]
     },
     "execution_count": 6,
     "metadata": {},
     "output_type": "execute_result"
    },
    {
     "data": {
      "text/plain": [
       "- : unit = ()\n"
      ]
     },
     "execution_count": 6,
     "metadata": {},
     "output_type": "execute_result"
    }
   ],
   "source": [
    "assert (occurs_check (var \"X\") (var_t \"X\"));;\n",
    "assert (not (occurs_check (var \"X\") (var_t \"Y\")));;\n",
    "assert (occurs_check (var \"X\") (func_t \"f\" [var_t \"X\"]))"
   ]
  },
  {
   "cell_type": "markdown",
   "metadata": {
    "deletable": false,
    "editable": false,
    "nbgrader": {
     "cell_type": "markdown",
     "checksum": "9946b346c4a01302df754a053ab859e9",
     "grade": false,
     "grade_id": "cell-e9ae49318a87096d",
     "locked": true,
     "schema_version": 3,
     "solution": false,
     "task": false
    }
   },
   "source": [
    "## Problem 2\n",
    "\n",
    "Implement the following functions which return the variables contained in them:\n",
    "\n",
    "```ocaml\n",
    "variables_of_term      : term -> VarSet.t\n",
    "variables_of_predicate : predicate -> VarSet.t\n",
    "variables_of_clause    : clause -> VarSet.t\n",
    "```"
   ]
  },
  {
   "cell_type": "code",
   "execution_count": 7,
   "metadata": {
    "deletable": false,
    "nbgrader": {
     "cell_type": "code",
     "checksum": "ad79e69f998d1010b021da7a5e6acc84",
     "grade": false,
     "grade_id": "cell-ed4d6f79936e1c24",
     "locked": false,
     "schema_version": 3,
     "solution": true,
     "task": false
    }
   },
   "outputs": [
    {
     "data": {
      "text/plain": [
       "module VarSet :\n",
       "  sig\n",
       "    type elt = variable\n",
       "    type t\n",
       "    val empty : t\n",
       "    val is_empty : t -> bool\n",
       "    val mem : elt -> t -> bool\n",
       "    val add : elt -> t -> t\n",
       "    val singleton : elt -> t\n",
       "    val remove : elt -> t -> t\n",
       "    val union : t -> t -> t\n",
       "    val inter : t -> t -> t\n",
       "    val diff : t -> t -> t\n",
       "    val compare : t -> t -> int\n",
       "    val equal : t -> t -> bool\n",
       "    val subset : t -> t -> bool\n",
       "    val iter : (elt -> unit) -> t -> unit\n",
       "    val map : (elt -> elt) -> t -> t\n",
       "    val fold : (elt -> 'a -> 'a) -> t -> 'a -> 'a\n",
       "    val for_all : (elt -> bool) -> t -> bool\n",
       "    val exists : (elt -> bool) -> t -> bool\n",
       "    val filter : (elt -> bool) -> t -> t\n",
       "    val partition : (elt -> bool) -> t -> t * t\n",
       "    val cardinal : t -> int\n",
       "    val elements : t -> elt list\n",
       "    val min_elt : t -> elt\n",
       "    val min_elt_opt : t -> elt option\n",
       "    val max_elt : t -> elt\n",
       "    val max_elt_opt : t -> elt option\n",
       "    val choose : t -> elt\n",
       "    val choose_opt : t -> elt option\n",
       "    val split : elt -> t -> t * bool * t\n",
       "    val find : elt -> t -> elt\n",
       "    val find_opt : elt -> t -> elt option\n",
       "    val find_first : (elt -> bool) -> t -> elt\n",
       "    val find_first_opt : (elt -> bool) -> t -> elt option\n",
       "    val find_last : (elt -> bool) -> t -> elt\n",
       "    val find_last_opt : (elt -> bool) -> t -> elt option\n",
       "    val of_list : elt list -> t\n",
       "    val to_seq_from : elt -> t -> elt Seq.t\n",
       "    val to_seq : t -> elt Seq.t\n",
       "    val add_seq : elt Seq.t -> t -> t\n",
       "    val of_seq : elt Seq.t -> t\n",
       "  end\n"
      ]
     },
     "execution_count": 7,
     "metadata": {},
     "output_type": "execute_result"
    },
    {
     "data": {
      "text/plain": [
       "val variables_of_term : term -> VarSet.t = <fun>\n"
      ]
     },
     "execution_count": 7,
     "metadata": {},
     "output_type": "execute_result"
    },
    {
     "data": {
      "text/plain": [
       "val variables_of_predicate : predicate -> VarSet.t = <fun>\n"
      ]
     },
     "execution_count": 7,
     "metadata": {},
     "output_type": "execute_result"
    },
    {
     "data": {
      "text/plain": [
       "val variables_of_clause : clause -> VarSet.t = <fun>\n"
      ]
     },
     "execution_count": 7,
     "metadata": {},
     "output_type": "execute_result"
    }
   ],
   "source": [
    "module VarSet = Set.Make(struct type t = variable let compare = Pervasives.compare end)\n",
    "(* API Docs for Set : https://caml.inria.fr/pub/docs/manual-ocaml/libref/Set.S.html *)\n",
    "\n",
    "let rec variables_of_term t = \n",
    "  let s = VarSet.empty in \n",
    "    match t with\n",
    "    |C c -> s\n",
    "    |V v -> VarSet.add v s\n",
    "    |F (Function(f,tl)) -> List.fold_left (fun acc x -> VarSet.union (acc) (variables_of_term x)) s tl;;\n",
    "  \n",
    "let rec variables_of_predicate (Predicate (_, l)) =\n",
    "  (* l is a term list *)\n",
    "   List.fold_left (fun acc x -> VarSet.union (acc) (variables_of_term x)) VarSet.empty l;;\n",
    "  \n",
    "let variables_of_clause c =\n",
    "match c with\n",
    "|Fact p -> variables_of_predicate p\n",
    "|Rule (p,pl) -> \n",
    "  let l = List.fold_left (fun acc p -> VarSet.union (acc) (variables_of_predicate p)) VarSet.empty pl in\n",
    "  VarSet.union (variables_of_predicate p) l;;"
   ]
  },
  {
   "cell_type": "code",
   "execution_count": 8,
   "metadata": {
    "deletable": false,
    "editable": false,
    "nbgrader": {
     "cell_type": "code",
     "checksum": "5ccc14b8776e49f2ccbd789b5d7ca381",
     "grade": true,
     "grade_id": "cell-cdba426183c2cb44",
     "locked": true,
     "points": 5,
     "schema_version": 3,
     "solution": false,
     "task": false
    }
   },
   "outputs": [
    {
     "data": {
      "text/plain": [
       "- : unit = ()\n"
      ]
     },
     "execution_count": 8,
     "metadata": {},
     "output_type": "execute_result"
    },
    {
     "data": {
      "text/plain": [
       "- : unit = ()\n"
      ]
     },
     "execution_count": 8,
     "metadata": {},
     "output_type": "execute_result"
    },
    {
     "data": {
      "text/plain": [
       "- : unit = ()\n"
      ]
     },
     "execution_count": 8,
     "metadata": {},
     "output_type": "execute_result"
    },
    {
     "data": {
      "text/plain": [
       "- : unit = ()\n"
      ]
     },
     "execution_count": 8,
     "metadata": {},
     "output_type": "execute_result"
    }
   ],
   "source": [
    "assert (variables_of_term (func_t \"f\" [var_t \"X\"; var_t \"Y\"; const_t \"a\"]) = \n",
    "        VarSet.of_list [var \"X\"; var \"Y\"]);;\n",
    "assert (variables_of_predicate (pred \"p\" [var_t \"X\"; var_t \"Y\"; const_t \"a\"]) = \n",
    "        VarSet.of_list [var \"X\"; var \"Y\"]);;\n",
    "assert (variables_of_clause (fact @@ pred \"p\" [var_t \"X\"; var_t \"Y\"; const_t \"a\"]) = \n",
    "        VarSet.of_list [var \"X\"; var \"Y\"]);;\n",
    "assert (variables_of_clause (rule (pred \"p\" [var_t \"X\"; var_t \"Y\"; const_t \"a\"]) [pred \"q\" [const_t \"a\"; const_t \"b\"; const_t \"a\"]])= \n",
    "        VarSet.of_list [var \"X\"; var \"Y\"])"
   ]
  },
  {
   "cell_type": "markdown",
   "metadata": {
    "deletable": false,
    "editable": false,
    "nbgrader": {
     "cell_type": "markdown",
     "checksum": "62c7436c9abaaeb1827a648c07f6c9c4",
     "grade": false,
     "grade_id": "cell-046fe2476691fbc4",
     "locked": true,
     "schema_version": 3,
     "solution": false,
     "task": false
    }
   },
   "source": [
    "## Problem 3\n",
    "\n",
    "The value of type `term Substitution.t` is a OCaml map whose key is of type `variable` and value is of type `term`. In other words, it is map from variables to terms. Implement substitution functions that takes a `term Substitution.t` and uses that to perform the substitution:\n",
    "\n",
    "```ocaml\n",
    "substitute_in_term : term Substitution.t -> term -> term\n",
    "substitute_in_predicate : term Substitution.t -> predicate -> predicate\n",
    "substitute_in_clause : term Substitution.t -> clause -> clause\n",
    "```"
   ]
  },
  {
   "cell_type": "code",
   "execution_count": 9,
   "metadata": {
    "deletable": false,
    "nbgrader": {
     "cell_type": "code",
     "checksum": "e9867e2de5235fe4946b78369c0fd353",
     "grade": false,
     "grade_id": "cell-99475c4c37156fc5",
     "locked": false,
     "schema_version": 3,
     "solution": true,
     "task": false
    }
   },
   "outputs": [
    {
     "data": {
      "text/plain": [
       "module Substitution :\n",
       "  sig\n",
       "    type key = variable\n",
       "    type +'a t\n",
       "    val empty : 'a t\n",
       "    val is_empty : 'a t -> bool\n",
       "    val mem : key -> 'a t -> bool\n",
       "    val add : key -> 'a -> 'a t -> 'a t\n",
       "    val update : key -> ('a option -> 'a option) -> 'a t -> 'a t\n",
       "    val singleton : key -> 'a -> 'a t\n",
       "    val remove : key -> 'a t -> 'a t\n",
       "    val merge :\n",
       "      (key -> 'a option -> 'b option -> 'c option) -> 'a t -> 'b t -> 'c t\n",
       "    val union : (key -> 'a -> 'a -> 'a option) -> 'a t -> 'a t -> 'a t\n",
       "    val compare : ('a -> 'a -> int) -> 'a t -> 'a t -> int\n",
       "    val equal : ('a -> 'a -> bool) -> 'a t -> 'a t -> bool\n",
       "    val iter : (key -> 'a -> unit) -> 'a t -> unit\n",
       "    val fold : (key -> 'a -> 'b -> 'b) -> 'a t -> 'b -> 'b\n",
       "    val for_all : (key -> 'a -> bool) -> 'a t -> bool\n",
       "    val exists : (key -> 'a -> bool) -> 'a t -> bool\n",
       "    val filter : (key -> 'a -> bool) -> 'a t -> 'a t\n",
       "    val partition : (key -> 'a -> bool) -> 'a t -> 'a t * 'a t\n",
       "    val cardinal : 'a t -> int\n",
       "    val bindings : 'a t -> (key * 'a) list\n",
       "    val min_binding : 'a t -> key * 'a\n",
       "    val min_binding_opt : 'a t -> (key * 'a) option\n",
       "    val max_binding : 'a t -> key * 'a\n",
       "    val max_binding_opt : 'a t -> (key * 'a) option\n",
       "    val choose : 'a t -> key * 'a\n",
       "    val choose_opt : 'a t -> (key * 'a) option\n",
       "    val split : key -> 'a t -> 'a t * 'a option * 'a t\n",
       "    val find : key -> 'a t -> 'a\n",
       "    val find_opt : key -> 'a t -> 'a option\n",
       "    val find_first : (key -> bool) -> 'a t -> key * 'a\n",
       "    val find_first_opt : (key -> bool) -> 'a t -> (key * 'a) option\n",
       "    val find_last : (key -> bool) -> 'a t -> key * 'a\n",
       "    val find_last_opt : (key -> bool) -> 'a t -> (key * 'a) option\n",
       "    val map : ('a -> 'b) -> 'a t -> 'b t\n",
       "    val mapi : (key -> 'a -> 'b) -> 'a t -> 'b t\n",
       "    val to_seq : 'a t -> (key * 'a) Seq.t\n",
       "    val to_seq_from : key -> 'a t -> (key * 'a) Seq.t\n",
       "    val add_seq : (key * 'a) Seq.t -> 'a t -> 'a t\n",
       "    val of_seq : (key * 'a) Seq.t -> 'a t\n",
       "  end\n"
      ]
     },
     "execution_count": 9,
     "metadata": {},
     "output_type": "execute_result"
    },
    {
     "data": {
      "text/plain": [
       "val string_of_substitution : term Substitution.t -> string = <fun>\n"
      ]
     },
     "execution_count": 9,
     "metadata": {},
     "output_type": "execute_result"
    },
    {
     "data": {
      "text/plain": [
       "val substitute_in_term : term Substitution.t -> term -> term = <fun>\n"
      ]
     },
     "execution_count": 9,
     "metadata": {},
     "output_type": "execute_result"
    },
    {
     "data": {
      "text/plain": [
       "val substitute_in_predicate : term Substitution.t -> predicate -> predicate =\n",
       "  <fun>\n"
      ]
     },
     "execution_count": 9,
     "metadata": {},
     "output_type": "execute_result"
    },
    {
     "data": {
      "text/plain": [
       "val substitute_in_clause : term Substitution.t -> clause -> clause = <fun>\n"
      ]
     },
     "execution_count": 9,
     "metadata": {},
     "output_type": "execute_result"
    }
   ],
   "source": [
    "module Substitution = Map.Make(struct type t = variable let compare = Pervasives.compare end)\n",
    "(* See API docs for OCaml Map: https://caml.inria.fr/pub/docs/manual-ocaml/libref/Map.S.html *)\n",
    "\n",
    "let string_of_substitution s =\n",
    "  \"{\" ^ (Substitution.fold (fun (Variable v) t s -> s ^ \"; \" ^ v ^ \" -> \" ^ (string_of_term t)) s \"\") ^ \"}\"\n",
    "\n",
    "let rec substitute_in_term s t =\n",
    "  match t with\n",
    "  |C c -> t\n",
    "  |V x -> if(Substitution.mem x s)then Substitution.find x s else t\n",
    "  |F (Function (f,tl)) -> \n",
    "    F(Function(f,List.fold_left (fun acc x -> acc @ [(substitute_in_term s x)] ) [] tl));;\n",
    "  \n",
    "let rec substitute_in_predicate s (Predicate (p,l)) =\n",
    "  Predicate (p,List.fold_left (fun acc x -> acc @ [(substitute_in_term s x)]) [] l);;\n",
    "  \n",
    "let substitute_in_clause s c =\n",
    "  match c with\n",
    "  |Fact p -> Fact (substitute_in_predicate s p)\n",
    "  |Rule (p,pl) -> \n",
    "   Rule(substitute_in_predicate s p, List.fold_left (fun acc x -> acc @ [substitute_in_predicate s x]) [] pl)\n",
    "    ;;"
   ]
  },
  {
   "cell_type": "code",
   "execution_count": 10,
   "metadata": {
    "deletable": false,
    "editable": false,
    "nbgrader": {
     "cell_type": "code",
     "checksum": "6b2a844125627960eeaee4cd453d1236",
     "grade": true,
     "grade_id": "cell-54f9db0e71e63244",
     "locked": true,
     "points": 10,
     "schema_version": 3,
     "solution": false,
     "task": false
    }
   },
   "outputs": [
    {
     "data": {
      "text/plain": [
       "val s : term Substitution.t = <abstr>\n"
      ]
     },
     "execution_count": 10,
     "metadata": {},
     "output_type": "execute_result"
    },
    {
     "data": {
      "text/plain": [
       "- : unit = ()\n"
      ]
     },
     "execution_count": 10,
     "metadata": {},
     "output_type": "execute_result"
    },
    {
     "data": {
      "text/plain": [
       "- : unit = ()\n"
      ]
     },
     "execution_count": 10,
     "metadata": {},
     "output_type": "execute_result"
    },
    {
     "data": {
      "text/plain": [
       "- : unit = ()\n"
      ]
     },
     "execution_count": 10,
     "metadata": {},
     "output_type": "execute_result"
    },
    {
     "data": {
      "text/plain": [
       "- : unit = ()\n"
      ]
     },
     "execution_count": 10,
     "metadata": {},
     "output_type": "execute_result"
    }
   ],
   "source": [
    "let s = \n",
    "  let open Substitution in \n",
    "  add (var \"Y\") (const_t \"0\") (add (var \"X\") (var_t \"Y\") empty);;\n",
    "\n",
    "assert (substitute_in_term s (func_t \"f\" [var_t \"X\"; var_t \"Y\"; const_t \"a\"]) = \n",
    "        func_t \"f\" [var_t \"Y\"; const_t \"0\"; const_t \"a\"]);;\n",
    "assert (substitute_in_predicate s (pred \"p\" [var_t \"X\"; var_t \"Y\"; const_t \"a\"]) = \n",
    "        pred \"p\" [var_t \"Y\"; const_t \"0\"; const_t \"a\"]);;\n",
    "assert (substitute_in_clause s (fact @@ pred \"p\" [var_t \"X\"; var_t \"Y\"; const_t \"a\"]) = \n",
    "        (fact @@ pred \"p\" [var_t \"Y\"; const_t \"0\"; const_t \"a\"]));;\n",
    "assert (substitute_in_clause s (rule (pred \"p\" [var_t \"X\"; var_t \"Y\"; const_t \"a\"]) [pred \"q\" [const_t \"a\"; const_t \"b\"; const_t \"a\"]]) = \n",
    "        (rule (pred \"p\" [var_t \"Y\"; const_t \"0\"; const_t \"a\"]) [pred \"q\" [const_t \"a\"; const_t \"b\"; const_t \"a\"]]))"
   ]
  },
  {
   "cell_type": "markdown",
   "metadata": {
    "deletable": false,
    "editable": false,
    "nbgrader": {
     "cell_type": "markdown",
     "checksum": "6b46914a350b710b8d3eb56a90fe3083",
     "grade": false,
     "grade_id": "cell-6d4f2f7c721e109a",
     "locked": true,
     "schema_version": 3,
     "solution": false,
     "task": false
    }
   },
   "source": [
    "We define a function `freshen` that given a clause, returns a clause where are the variables have been renamed with fresh variables. "
   ]
  },
  {
   "cell_type": "code",
   "execution_count": 11,
   "metadata": {
    "deletable": false,
    "editable": false,
    "nbgrader": {
     "cell_type": "code",
     "checksum": "e8a0aa89d3680b8570bdff5e77bff84c",
     "grade": false,
     "grade_id": "cell-a1c09fcbea00af26",
     "locked": true,
     "schema_version": 3,
     "solution": false,
     "task": false
    }
   },
   "outputs": [
    {
     "data": {
      "text/plain": [
       "val counter : int ref = {contents = 0}\n"
      ]
     },
     "execution_count": 11,
     "metadata": {},
     "output_type": "execute_result"
    },
    {
     "data": {
      "text/plain": [
       "val fresh : unit -> term = <fun>\n"
      ]
     },
     "execution_count": 11,
     "metadata": {},
     "output_type": "execute_result"
    },
    {
     "data": {
      "text/plain": [
       "val freshen : clause -> clause = <fun>\n"
      ]
     },
     "execution_count": 11,
     "metadata": {},
     "output_type": "execute_result"
    }
   ],
   "source": [
    "let counter = ref 0\n",
    "let fresh () = \n",
    "  let c = !counter in\n",
    "  counter := !counter + 1;\n",
    "  V (Variable (\"_G\" ^ string_of_int c))\n",
    "\n",
    "let freshen c =\n",
    "  let vars = variables_of_clause c in\n",
    "  let s = VarSet.fold (fun v s -> Substitution.add v (fresh()) s) vars Substitution.empty in\n",
    "  substitute_in_clause s c"
   ]
  },
  {
   "cell_type": "markdown",
   "metadata": {
    "deletable": false,
    "editable": false,
    "nbgrader": {
     "cell_type": "markdown",
     "checksum": "412b5e84d8da86c5dc03b26995eaff70",
     "grade": false,
     "grade_id": "cell-b79de977263be26b",
     "locked": true,
     "schema_version": 3,
     "solution": false,
     "task": false
    }
   },
   "source": [
    "For example, "
   ]
  },
  {
   "cell_type": "code",
   "execution_count": 12,
   "metadata": {
    "deletable": false,
    "editable": false,
    "nbgrader": {
     "cell_type": "code",
     "checksum": "b1ed9f9ce1b4948b3a94b8a960d8a844",
     "grade": false,
     "grade_id": "cell-ef219dd17f6f35de",
     "locked": true,
     "schema_version": 3,
     "solution": false,
     "task": false
    }
   },
   "outputs": [
    {
     "data": {
      "text/plain": [
       "val c : clause =\n",
       "  Rule\n",
       "   (Predicate (\"p\", [V (Variable \"X\"); V (Variable \"Y\"); C (Constant \"a\")]),\n",
       "   [Predicate (\"q\", [V (Variable \"X\"); C (Constant \"b\"); C (Constant \"a\")])])\n"
      ]
     },
     "execution_count": 12,
     "metadata": {},
     "output_type": "execute_result"
    },
    {
     "data": {
      "text/plain": [
       "- : string = \"p(X, Y, a) :- q(X, b, a).\"\n"
      ]
     },
     "execution_count": 12,
     "metadata": {},
     "output_type": "execute_result"
    },
    {
     "data": {
      "text/plain": [
       "- : string = \"p(_G0, _G1, a) :- q(_G0, b, a).\"\n"
      ]
     },
     "execution_count": 12,
     "metadata": {},
     "output_type": "execute_result"
    }
   ],
   "source": [
    "let c = (rule (pred \"p\" [var_t \"X\"; var_t \"Y\"; const_t \"a\"]) [pred \"q\" [var_t \"X\"; const_t \"b\"; const_t \"a\"]])\n",
    "let _ = string_of_clause c\n",
    "let _ = string_of_clause (freshen c)"
   ]
  },
  {
   "cell_type": "markdown",
   "metadata": {
    "deletable": false,
    "editable": false,
    "nbgrader": {
     "cell_type": "markdown",
     "checksum": "40f485b9e26f06ddf3c82be44ae87ab4",
     "grade": false,
     "grade_id": "cell-03038038a4a27f91",
     "locked": true,
     "schema_version": 3,
     "solution": false,
     "task": false
    }
   },
   "source": [
    "## Problem 4\n",
    "\n",
    "Implement the function:\n",
    "\n",
    "```ocaml\n",
    "mgu : term -> term -> term Substitution.t\n",
    "```\n",
    "\n",
    "returns the most general unifier of the given terms. The function should raise the exception `Not_unfifiable`, if the given terms are not unifiable. \n",
    "\n",
    "Using `mgu`, implement the function:\n",
    "\n",
    "```ocaml\n",
    "mgu_predicate : predicate -> predicate -> term Substitution.t\n",
    "```\n",
    "\n",
    "which returns the most general unifier of the given predicates. "
   ]
  },
  {
   "cell_type": "code",
   "execution_count": 13,
   "metadata": {
    "deletable": false,
    "nbgrader": {
     "cell_type": "code",
     "checksum": "cae363502bf7f6da33dc05524cff04cf",
     "grade": false,
     "grade_id": "cell-a6686c74cd97b186",
     "locked": false,
     "schema_version": 3,
     "solution": true,
     "task": false
    }
   },
   "outputs": [
    {
     "data": {
      "text/plain": [
       "exception Not_unifiable\n"
      ]
     },
     "execution_count": 13,
     "metadata": {},
     "output_type": "execute_result"
    },
    {
     "data": {
      "text/plain": [
       "val zip : 'a list -> 'b list -> ('a * 'b) list -> ('a * 'b) list = <fun>\n"
      ]
     },
     "execution_count": 13,
     "metadata": {},
     "output_type": "execute_result"
    },
    {
     "data": {
      "text/plain": [
       "val mgu_aux : term -> term -> term Substitution.t -> term Substitution.t =\n",
       "  <fun>\n"
      ]
     },
     "execution_count": 13,
     "metadata": {},
     "output_type": "execute_result"
    },
    {
     "data": {
      "text/plain": [
       "val mgu : term -> term -> term Substitution.t = <fun>\n"
      ]
     },
     "execution_count": 13,
     "metadata": {},
     "output_type": "execute_result"
    },
    {
     "data": {
      "text/plain": [
       "val mgu_predicate : predicate -> predicate -> term Substitution.t = <fun>\n"
      ]
     },
     "execution_count": 13,
     "metadata": {},
     "output_type": "execute_result"
    }
   ],
   "source": [
    "exception Not_unifiable\n",
    "\n",
    "let rec zip l1 l2 acc= \n",
    "  match l1,l2 with\n",
    "  |_,[] -> acc\n",
    "  |[],_ -> acc\n",
    "  |h1::t1,h2::t2 -> zip t1 t2 (acc@[(h1,h2)])\n",
    "\n",
    "\n",
    "let rec mgu_aux tp1 tp2 kvmap =\n",
    "  let t1 = substitute_in_term kvmap tp1 in\n",
    "  let t2 = substitute_in_term kvmap tp2 in\n",
    "   if t1 = t2 then kvmap else \n",
    "  match t1,t2 with\n",
    "  |V x, _ -> \n",
    "    if(occurs_check x t2)then raise Not_unifiable \n",
    "    else Substitution.map (fun v -> substitute_in_term (Substitution.add x t2 Substitution.empty) v )  (Substitution.add x t2 kvmap)\n",
    "\n",
    "  |_,V y -> \n",
    "    if(occurs_check y t1)then raise Not_unifiable \n",
    "    else Substitution.map (fun v -> substitute_in_term (Substitution.add y t1 Substitution.empty) v )  (Substitution.add y t1 kvmap)\n",
    "\n",
    "  |C x, C y -> \n",
    "    if(x=y)then kvmap \n",
    "    else raise Not_unifiable\n",
    "\n",
    "  |F(Function(fx,lx)),F(Function(fy,ly)) -> \n",
    "    if((fx=fy) && (List.length lx = List.length ly))then\n",
    "      List.fold_left (fun acc (t1,t2) -> (mgu_aux t1 t2 acc)) kvmap (zip lx ly [])\n",
    "      else raise Not_unifiable\n",
    "\n",
    "  |_,_ -> raise Not_unifiable\n",
    "\n",
    "  \n",
    " let mgu t1 t2 =  mgu_aux t1 t2 Substitution.empty ;;\n",
    "\n",
    "let rec mgu_predicate (Predicate (p1,l1)) (Predicate (p2,l2)) =\n",
    "  if(p1 <> p2 || (List.length l1 <> List.length l2))then raise Not_unifiable\n",
    "  else\n",
    "    List.fold_left (fun acc (t1,t2) -> (mgu_aux t1 t2 acc)) Substitution.empty (zip l1 l2 [])"
   ]
  },
  {
   "cell_type": "code",
   "execution_count": 14,
   "metadata": {
    "deletable": false,
    "editable": false,
    "nbgrader": {
     "cell_type": "code",
     "checksum": "f52aba6883f69c92035b23b0fca48304",
     "grade": true,
     "grade_id": "cell-ac73e25efdb21c2f",
     "locked": true,
     "points": 15,
     "schema_version": 3,
     "solution": false,
     "task": false
    },
    "scrolled": true
   },
   "outputs": [
    {
     "data": {
      "text/plain": [
       "- : unit = ()\n"
      ]
     },
     "execution_count": 14,
     "metadata": {},
     "output_type": "execute_result"
    },
    {
     "data": {
      "text/plain": [
       "- : unit = ()\n"
      ]
     },
     "execution_count": 14,
     "metadata": {},
     "output_type": "execute_result"
    },
    {
     "data": {
      "text/plain": [
       "- : unit = ()\n"
      ]
     },
     "execution_count": 14,
     "metadata": {},
     "output_type": "execute_result"
    },
    {
     "data": {
      "text/plain": [
       "- : unit = ()\n"
      ]
     },
     "execution_count": 14,
     "metadata": {},
     "output_type": "execute_result"
    },
    {
     "data": {
      "text/plain": [
       "- : unit = ()\n"
      ]
     },
     "execution_count": 14,
     "metadata": {},
     "output_type": "execute_result"
    },
    {
     "data": {
      "text/plain": [
       "- : unit = ()\n"
      ]
     },
     "execution_count": 14,
     "metadata": {},
     "output_type": "execute_result"
    },
    {
     "data": {
      "text/plain": [
       "- : unit = ()\n"
      ]
     },
     "execution_count": 14,
     "metadata": {},
     "output_type": "execute_result"
    },
    {
     "data": {
      "text/plain": [
       "- : unit = ()\n"
      ]
     },
     "execution_count": 14,
     "metadata": {},
     "output_type": "execute_result"
    }
   ],
   "source": [
    "assert (string_of_substitution (mgu (var_t \"X\") (var_t \"Y\")) = \"{; X -> Y}\" ||\n",
    "        string_of_substitution (mgu (var_t \"X\") (var_t \"Y\")) = \"{; Y -> X}\");;\n",
    "assert (string_of_substitution (mgu (var_t \"Y\") (var_t \"X\")) = \"{; X -> Y}\" ||\n",
    "        string_of_substitution (mgu (var_t \"Y\") (var_t \"X\")) = \"{; Y -> X}\");;\n",
    "assert (mgu (var_t \"Y\") (var_t \"Y\") = Substitution.empty);;\n",
    "assert (mgu (const_t \"0\") (const_t \"0\") = Substitution.empty);;\n",
    "assert (mgu (const_t \"0\") (var_t \"Y\") = Substitution.singleton (var \"Y\") (const_t \"0\"));;\n",
    "assert (\n",
    "  match mgu (const_t \"0\") (const_t \"1\") with\n",
    "  | _ -> false \n",
    "  | exception Not_unifiable -> true);;\n",
    "assert (\n",
    "  match mgu (func_t \"f\" [const_t \"0\"]) (func_t \"g\" [const_t \"1\"]) with\n",
    "  | _ -> false \n",
    "  | exception Not_unifiable -> true);;\n",
    "assert (mgu (func_t \"f\" [var_t \"X\"]) (func_t \"f\" [var_t \"Y\"]) = Substitution.singleton (var \"X\") (var_t \"Y\") ||\n",
    "        mgu (func_t \"f\" [var_t \"X\"]) (func_t \"f\" [var_t \"Y\"]) = Substitution.singleton (var \"Y\") (var_t \"X\"));;"
   ]
  },
  {
   "cell_type": "code",
   "execution_count": 15,
   "metadata": {
    "deletable": false,
    "editable": false,
    "nbgrader": {
     "cell_type": "code",
     "checksum": "8d68e4034aca3cde9d9413f6426bed61",
     "grade": true,
     "grade_id": "cell-31521e057323948c",
     "locked": true,
     "points": 15,
     "schema_version": 3,
     "solution": false,
     "task": false
    }
   },
   "outputs": [
    {
     "data": {
      "text/plain": [
       "val t1 : term =\n",
       "  F (Function (\"f\", [V (Variable \"X\"); V (Variable \"Y\"); V (Variable \"Y\")]))\n"
      ]
     },
     "execution_count": 15,
     "metadata": {},
     "output_type": "execute_result"
    },
    {
     "data": {
      "text/plain": [
       "- : string = \"f(X, Y, Y)\"\n"
      ]
     },
     "execution_count": 15,
     "metadata": {},
     "output_type": "execute_result"
    },
    {
     "data": {
      "text/plain": [
       "val t2 : term =\n",
       "  F (Function (\"f\", [V (Variable \"Y\"); V (Variable \"Z\"); V (Variable \"a\")]))\n"
      ]
     },
     "execution_count": 15,
     "metadata": {},
     "output_type": "execute_result"
    },
    {
     "data": {
      "text/plain": [
       "- : string = \"f(Y, Z, a)\"\n"
      ]
     },
     "execution_count": 15,
     "metadata": {},
     "output_type": "execute_result"
    },
    {
     "data": {
      "text/plain": [
       "val u : term Substitution.t = <abstr>\n"
      ]
     },
     "execution_count": 15,
     "metadata": {},
     "output_type": "execute_result"
    },
    {
     "data": {
      "text/plain": [
       "- : unit = ()\n"
      ]
     },
     "execution_count": 15,
     "metadata": {},
     "output_type": "execute_result"
    },
    {
     "data": {
      "text/plain": [
       "- : unit = ()\n"
      ]
     },
     "execution_count": 15,
     "metadata": {},
     "output_type": "execute_result"
    }
   ],
   "source": [
    "let t1 = F (Function(\"f\", [V (Variable \"X\"); V (Variable \"Y\"); V (Variable \"Y\")]))\n",
    "let _ = string_of_term t1\n",
    "let t2 = F (Function(\"f\", [V (Variable \"Y\"); V (Variable \"Z\"); V (Variable \"a\")]))\n",
    "let _ = string_of_term t2\n",
    "let u = mgu t1 t2;;\n",
    "assert (Substitution.cardinal u = 3);;\n",
    "assert (string_of_substitution u = \"{; X -> a; Y -> a; Z -> a}\");;\n"
   ]
  },
  {
   "cell_type": "markdown",
   "metadata": {
    "deletable": false,
    "editable": false,
    "nbgrader": {
     "cell_type": "markdown",
     "checksum": "7ba77700015cb23c207fdd3b81486e87",
     "grade": false,
     "grade_id": "cell-8e65f0eac3712b7d",
     "locked": true,
     "schema_version": 3,
     "solution": false,
     "task": false
    }
   },
   "source": [
    "## Problem 5\n",
    "\n",
    "Implement the function:\n",
    "\n",
    "```ocaml\n",
    "query : ?limit:int -> clause list -> predicate list -> predicate list list \n",
    "```\n",
    "\n",
    "where \n",
    "\n",
    "* the first optional argument is the `limit` i.e, maximum number of results to be returned. By default, the limit is set to 10 (see code below).\n",
    "* the second argument is the `program` which is a list of clauses.\n",
    "* the third argument is the `goal` which is a list of predicates.\n",
    "\n",
    "The function returns a list of predicate lists (`results`). Each of these results is a instance of the original goal and is a logical consequence of the program. If the given goal is not a logical consequence of the program, then the result is an empty list. See tests cases for expected results.\n",
    "\n",
    "For the rule and goal order, choose what Prolog does; choose the left-most subgoal for goal order and first rule in the order in which the rules appear in the program for the rule order. \n",
    "\n",
    "Hint: Implement a purely functional recursive solution. The backtracking and choice points naturally fall out of the implementation. The reference solution is 17 lines long. "
   ]
  },
  {
   "cell_type": "code",
   "execution_count": 16,
   "metadata": {
    "deletable": false,
    "nbgrader": {
     "cell_type": "code",
     "checksum": "cd4f82d6d47199b779f257dbf85f712e",
     "grade": false,
     "grade_id": "cell-5ee2ae1832ba66df",
     "locked": false,
     "schema_version": 3,
     "solution": true,
     "task": false
    }
   },
   "outputs": [
    {
     "data": {
      "text/plain": [
       "val query :\n",
       "  ?limit:int -> clause list -> predicate list -> predicate list list = <fun>\n"
      ]
     },
     "execution_count": 16,
     "metadata": {},
     "output_type": "execute_result"
    }
   ],
   "source": [
    "let query ?(limit=10) program goal =\n",
    "let substitute_in_predicate_list s pl = \n",
    "  List.fold_left (fun acc x -> acc @ [substitute_in_predicate s x]) [] pl\n",
    "in\n",
    "let rec solve p resv g ll =\n",
    "  if(List.length ll >= limit)then ll\n",
    "  else  \n",
    "  List.fold_left (\n",
    "  fun acc c1 -> \n",
    "   let c = freshen c1 in\n",
    "   match c,resv with\n",
    "   |_,[] ->acc\n",
    "   \n",
    "   |Fact f, _ ->\n",
    "     begin match mgu_predicate (List.hd resv) f with\n",
    "     |_ -> let th = mgu_predicate (List.hd resv) f in\n",
    "     if(List.length (List.tl resv) = 0)then \n",
    "     acc @ [(substitute_in_predicate_list th g)] \n",
    "     else\n",
    "solve p (substitute_in_predicate_list th (List.tl resv)) (substitute_in_predicate_list th g) acc\n",
    "     |exception Not_unifiable -> acc\n",
    "     end\n",
    "     \n",
    "          \n",
    "   |Rule (h,b), _ -> \n",
    "     let rnew = b @ (List.tl resv) in\n",
    "     begin match mgu_predicate (List.hd resv) h with    \n",
    "     |_-> let th = mgu_predicate (List.hd resv) h in \n",
    "     if(List.length rnew = 0)then acc @ [(substitute_in_predicate_list th g)] else \n",
    "     solve p (substitute_in_predicate_list th rnew) (substitute_in_predicate_list th g) acc\n",
    "     |exception Not_unifiable -> acc\n",
    "     end\n",
    "   ) ll p\n",
    "  in \n",
    "  solve program goal goal [] "
   ]
  },
  {
   "cell_type": "code",
   "execution_count": 17,
   "metadata": {
    "deletable": false,
    "editable": false,
    "nbgrader": {
     "cell_type": "code",
     "checksum": "84f07ab90350f119fc565d9b648aa84a",
     "grade": true,
     "grade_id": "cell-28f5ebd13eec8f45",
     "locked": true,
     "points": 10,
     "schema_version": 3,
     "solution": false,
     "task": false
    }
   },
   "outputs": [
    {
     "data": {
      "text/plain": [
       "val p : clause list =\n",
       "  [Fact (Predicate (\"f\", [C (Constant \"a\"); C (Constant \"b\")]))]\n"
      ]
     },
     "execution_count": 17,
     "metadata": {},
     "output_type": "execute_result"
    },
    {
     "name": "stdout",
     "output_type": "stream",
     "text": [
      "f(a, b).\n",
      "\n"
     ]
    },
    {
     "data": {
      "text/plain": [
       "- : unit = ()\n"
      ]
     },
     "execution_count": 17,
     "metadata": {},
     "output_type": "execute_result"
    },
    {
     "data": {
      "text/plain": [
       "val g : predicate list =\n",
       "  [Predicate (\"f\", [C (Constant \"a\"); C (Constant \"b\")])]\n"
      ]
     },
     "execution_count": 17,
     "metadata": {},
     "output_type": "execute_result"
    },
    {
     "name": "stdout",
     "output_type": "stream",
     "text": [
      "?- f(a, b)\n"
     ]
    },
    {
     "data": {
      "text/plain": [
       "- : unit = ()\n"
      ]
     },
     "execution_count": 17,
     "metadata": {},
     "output_type": "execute_result"
    },
    {
     "data": {
      "text/plain": [
       "val g' : predicate list =\n",
       "  [Predicate (\"f\", [C (Constant \"a\"); C (Constant \"b\")])]\n"
      ]
     },
     "execution_count": 17,
     "metadata": {},
     "output_type": "execute_result"
    },
    {
     "name": "stdout",
     "output_type": "stream",
     "text": [
      "?- f(a, b)\n"
     ]
    },
    {
     "data": {
      "text/plain": [
       "- : unit = ()\n"
      ]
     },
     "execution_count": 17,
     "metadata": {},
     "output_type": "execute_result"
    }
   ],
   "source": [
    "let p = [fact @@ pred \"f\" [const_t \"a\"; const_t \"b\"]]\n",
    "let _ = print_endline (string_of_program p)\n",
    "\n",
    "let g = [pred \"f\" [const_t \"a\"; const_t \"b\"]]\n",
    "let _ = print_endline (string_of_goal g);;\n",
    "\n",
    "let g' = match query p g with [v] -> v | _ -> failwith \"error\";;\n",
    "assert (g' = g);\n",
    "print_endline (string_of_goal g')"
   ]
  },
  {
   "cell_type": "code",
   "execution_count": 18,
   "metadata": {
    "deletable": false,
    "editable": false,
    "nbgrader": {
     "cell_type": "code",
     "checksum": "d2f6f194143159b405358d2946fd4017",
     "grade": true,
     "grade_id": "cell-a161a762bcff7b43",
     "locked": true,
     "points": 10,
     "schema_version": 3,
     "solution": false,
     "task": false
    }
   },
   "outputs": [
    {
     "data": {
      "text/plain": [
       "val p : clause list =\n",
       "  [Fact (Predicate (\"f\", [C (Constant \"a\"); C (Constant \"b\")]))]\n"
      ]
     },
     "execution_count": 18,
     "metadata": {},
     "output_type": "execute_result"
    },
    {
     "name": "stdout",
     "output_type": "stream",
     "text": [
      "f(a, b).\n",
      "\n"
     ]
    },
    {
     "data": {
      "text/plain": [
       "- : unit = ()\n"
      ]
     },
     "execution_count": 18,
     "metadata": {},
     "output_type": "execute_result"
    },
    {
     "data": {
      "text/plain": [
       "val g : predicate list =\n",
       "  [Predicate (\"f\", [C (Constant \"a\"); C (Constant \"c\")])]\n"
      ]
     },
     "execution_count": 18,
     "metadata": {},
     "output_type": "execute_result"
    },
    {
     "name": "stdout",
     "output_type": "stream",
     "text": [
      "?- f(a, c)\n"
     ]
    },
    {
     "data": {
      "text/plain": [
       "- : unit = ()\n"
      ]
     },
     "execution_count": 18,
     "metadata": {},
     "output_type": "execute_result"
    },
    {
     "data": {
      "text/plain": [
       "- : unit = ()\n"
      ]
     },
     "execution_count": 18,
     "metadata": {},
     "output_type": "execute_result"
    }
   ],
   "source": [
    "let p = [fact @@ pred \"f\" [const_t \"a\"; const_t \"b\"]]\n",
    "let _ = print_endline (string_of_program p)\n",
    "\n",
    "let g = [pred \"f\" [const_t \"a\"; const_t \"c\"]]\n",
    "let _ = print_endline (string_of_goal g);;\n",
    "\n",
    "assert (query p g = [])"
   ]
  },
  {
   "cell_type": "code",
   "execution_count": 19,
   "metadata": {
    "deletable": false,
    "editable": false,
    "nbgrader": {
     "cell_type": "code",
     "checksum": "1643b8fef02bb09d8fc1c9b7051fb352",
     "grade": true,
     "grade_id": "cell-e91146830b55b51f",
     "locked": true,
     "points": 10,
     "schema_version": 3,
     "solution": false,
     "task": false
    },
    "scrolled": true
   },
   "outputs": [
    {
     "data": {
      "text/plain": [
       "val p : clause list =\n",
       "  [Fact (Predicate (\"f\", [C (Constant \"a\"); C (Constant \"b\")]))]\n"
      ]
     },
     "execution_count": 19,
     "metadata": {},
     "output_type": "execute_result"
    },
    {
     "data": {
      "text/plain": [
       "- : unit = ()\n"
      ]
     },
     "execution_count": 19,
     "metadata": {},
     "output_type": "execute_result"
    },
    {
     "name": "stdout",
     "output_type": "stream",
     "text": [
      "f(a, b).\n",
      "\n"
     ]
    },
    {
     "data": {
      "text/plain": [
       "val g : predicate list =\n",
       "  [Predicate (\"f\", [V (Variable \"X\"); C (Constant \"b\")])]\n"
      ]
     },
     "execution_count": 19,
     "metadata": {},
     "output_type": "execute_result"
    },
    {
     "name": "stdout",
     "output_type": "stream",
     "text": [
      "?- f(X, b)\n"
     ]
    },
    {
     "data": {
      "text/plain": [
       "- : unit = ()\n"
      ]
     },
     "execution_count": 19,
     "metadata": {},
     "output_type": "execute_result"
    },
    {
     "data": {
      "text/plain": [
       "val g' : predicate list =\n",
       "  [Predicate (\"f\", [C (Constant \"a\"); C (Constant \"b\")])]\n"
      ]
     },
     "execution_count": 19,
     "metadata": {},
     "output_type": "execute_result"
    },
    {
     "name": "stdout",
     "output_type": "stream",
     "text": [
      "?- f(a, b)\n"
     ]
    },
    {
     "data": {
      "text/plain": [
       "- : unit = ()\n"
      ]
     },
     "execution_count": 19,
     "metadata": {},
     "output_type": "execute_result"
    },
    {
     "data": {
      "text/plain": [
       "val g : predicate list =\n",
       "  [Predicate (\"f\", [V (Variable \"X\"); V (Variable \"Y\")])]\n"
      ]
     },
     "execution_count": 19,
     "metadata": {},
     "output_type": "execute_result"
    },
    {
     "name": "stdout",
     "output_type": "stream",
     "text": [
      "?- f(X, Y)\n"
     ]
    },
    {
     "data": {
      "text/plain": [
       "- : unit = ()\n"
      ]
     },
     "execution_count": 19,
     "metadata": {},
     "output_type": "execute_result"
    },
    {
     "data": {
      "text/plain": [
       "val g' : predicate list =\n",
       "  [Predicate (\"f\", [C (Constant \"a\"); C (Constant \"b\")])]\n"
      ]
     },
     "execution_count": 19,
     "metadata": {},
     "output_type": "execute_result"
    },
    {
     "name": "stdout",
     "output_type": "stream",
     "text": [
      "?- f(a, b)\n"
     ]
    },
    {
     "data": {
      "text/plain": [
       "- : unit = ()\n"
      ]
     },
     "execution_count": 19,
     "metadata": {},
     "output_type": "execute_result"
    }
   ],
   "source": [
    "let p = [fact @@ pred \"f\" [const_t \"a\"; const_t \"b\"]]\n",
    "let _ = print_endline (string_of_program p)\n",
    "\n",
    "let g = [pred \"f\" [var_t \"X\"; const_t \"b\"]]\n",
    "let _ = print_endline (string_of_goal g);;\n",
    "\n",
    "let g' = match query p g with [v] -> v | _ -> failwith \"error\";;\n",
    "assert (g' = [pred \"f\" [const_t \"a\"; const_t \"b\"]]);\n",
    "print_endline (string_of_goal g');;\n",
    "\n",
    "let g = [pred \"f\" [var_t \"X\"; var_t \"Y\"]]\n",
    "let _ = print_endline (string_of_goal g);;\n",
    "\n",
    "let g' = match query p g with [v] -> v | _ -> failwith \"error\";;\n",
    "assert (g' = [pred \"f\" [const_t \"a\"; const_t \"b\"]]);\n",
    "print_endline (string_of_goal g')"
   ]
  },
  {
   "cell_type": "code",
   "execution_count": 20,
   "metadata": {
    "deletable": false,
    "editable": false,
    "nbgrader": {
     "cell_type": "code",
     "checksum": "49b43daa5950827bb0db2f7ec4a0e817",
     "grade": true,
     "grade_id": "cell-47bf9c3272ca0e6a",
     "locked": true,
     "points": 10,
     "schema_version": 3,
     "solution": false,
     "task": false
    },
    "scrolled": true
   },
   "outputs": [
    {
     "data": {
      "text/plain": [
       "val ancestor : term -> term -> predicate = <fun>\n"
      ]
     },
     "execution_count": 20,
     "metadata": {},
     "output_type": "execute_result"
    },
    {
     "data": {
      "text/plain": [
       "val father : term -> term -> predicate = <fun>\n"
      ]
     },
     "execution_count": 20,
     "metadata": {},
     "output_type": "execute_result"
    },
    {
     "data": {
      "text/plain": [
       "val father_consts : string -> string -> predicate = <fun>\n"
      ]
     },
     "execution_count": 20,
     "metadata": {},
     "output_type": "execute_result"
    },
    {
     "data": {
      "text/plain": [
       "val f1 : clause =\n",
       "  Fact (Predicate (\"father\", [C (Constant \"rickard\"); C (Constant \"ned\")]))\n"
      ]
     },
     "execution_count": 20,
     "metadata": {},
     "output_type": "execute_result"
    },
    {
     "data": {
      "text/plain": [
       "val f2 : clause =\n",
       "  Fact (Predicate (\"father\", [C (Constant \"ned\"); C (Constant \"robb\")]))\n"
      ]
     },
     "execution_count": 20,
     "metadata": {},
     "output_type": "execute_result"
    },
    {
     "data": {
      "text/plain": [
       "val r1 : clause =\n",
       "  Rule (Predicate (\"ancestor\", [V (Variable \"X\"); V (Variable \"Y\")]),\n",
       "   [Predicate (\"father\", [V (Variable \"X\"); V (Variable \"Y\")])])\n"
      ]
     },
     "execution_count": 20,
     "metadata": {},
     "output_type": "execute_result"
    },
    {
     "data": {
      "text/plain": [
       "val r2 : clause =\n",
       "  Rule (Predicate (\"ancestor\", [V (Variable \"X\"); V (Variable \"Y\")]),\n",
       "   [Predicate (\"father\", [V (Variable \"X\"); V (Variable \"Z\")]);\n",
       "    Predicate (\"ancestor\", [V (Variable \"Z\"); V (Variable \"Y\")])])\n"
      ]
     },
     "execution_count": 20,
     "metadata": {},
     "output_type": "execute_result"
    },
    {
     "data": {
      "text/plain": [
       "val p : clause list =\n",
       "  [Fact (Predicate (\"father\", [C (Constant \"rickard\"); C (Constant \"ned\")]));\n",
       "   Fact (Predicate (\"father\", [C (Constant \"ned\"); C (Constant \"robb\")]));\n",
       "   Rule (Predicate (\"ancestor\", [V (Variable \"X\"); V (Variable \"Y\")]),\n",
       "    [Predicate (\"father\", [V (Variable \"X\"); V (Variable \"Y\")])]);\n",
       "   Rule (Predicate (\"ancestor\", [V (Variable \"X\"); V (Variable \"Y\")]),\n",
       "    [Predicate (\"father\", [V (Variable \"X\"); V (Variable \"Z\")]);\n",
       "     Predicate (\"ancestor\", [V (Variable \"Z\"); V (Variable \"Y\")])])]\n"
      ]
     },
     "execution_count": 20,
     "metadata": {},
     "output_type": "execute_result"
    },
    {
     "data": {
      "text/plain": [
       "val g : predicate list =\n",
       "  [Predicate (\"ancestor\", [C (Constant \"rickard\"); C (Constant \"ned\")])]\n"
      ]
     },
     "execution_count": 20,
     "metadata": {},
     "output_type": "execute_result"
    },
    {
     "name": "stdout",
     "output_type": "stream",
     "text": [
      "father(rickard, ned).\n",
      "father(ned, robb).\n",
      "ancestor(X, Y) :- father(X, Y).\n",
      "ancestor(X, Y) :- father(X, Z), ancestor(Z, Y).\n",
      "\n"
     ]
    },
    {
     "data": {
      "text/plain": [
       "- : unit = ()\n"
      ]
     },
     "execution_count": 20,
     "metadata": {},
     "output_type": "execute_result"
    },
    {
     "name": "stdout",
     "output_type": "stream",
     "text": [
      "?- ancestor(rickard, ned)\n"
     ]
    },
    {
     "data": {
      "text/plain": [
       "- : unit = ()\n"
      ]
     },
     "execution_count": 20,
     "metadata": {},
     "output_type": "execute_result"
    },
    {
     "data": {
      "text/plain": [
       "val g' : predicate list =\n",
       "  [Predicate (\"ancestor\", [C (Constant \"rickard\"); C (Constant \"ned\")])]\n"
      ]
     },
     "execution_count": 20,
     "metadata": {},
     "output_type": "execute_result"
    },
    {
     "name": "stdout",
     "output_type": "stream",
     "text": [
      "?- ancestor(rickard, ned)\n"
     ]
    },
    {
     "data": {
      "text/plain": [
       "- : unit = ()\n"
      ]
     },
     "execution_count": 20,
     "metadata": {},
     "output_type": "execute_result"
    },
    {
     "data": {
      "text/plain": [
       "- : unit = ()\n"
      ]
     },
     "execution_count": 20,
     "metadata": {},
     "output_type": "execute_result"
    }
   ],
   "source": [
    "let ancestor x y = pred \"ancestor\" [x;y]\n",
    "let father x y = pred \"father\" [x;y]\n",
    "let father_consts x y =  father (C (Constant x)) (C (Constant y))\n",
    "\n",
    "let f1 = Fact (father_consts \"rickard\" \"ned\")\n",
    "let f2 = Fact (father_consts \"ned\" \"robb\")\n",
    "let r1 = Rule (ancestor (var_t \"X\") (var_t \"Y\"), [father (var_t \"X\") (var_t \"Y\")])\n",
    "let r2 = Rule (ancestor (var_t \"X\") (var_t \"Y\"), [father (var_t \"X\") (var_t \"Z\"); ancestor (var_t \"Z\") (var_t \"Y\")])\n",
    "\n",
    "let p = [f1;f2;r1;r2]\n",
    "let g = [ancestor (const_t \"rickard\") (const_t \"ned\")]\n",
    "let _ = print_endline @@ string_of_program p\n",
    "let _ = print_endline @@ string_of_goal g\n",
    "let g' = match query p g with [v] -> v | _ -> failwith \"error\";;\n",
    "let _ = print_endline @@ string_of_goal g';;\n",
    "assert (g' = g)"
   ]
  },
  {
   "cell_type": "code",
   "execution_count": 21,
   "metadata": {
    "deletable": false,
    "editable": false,
    "nbgrader": {
     "cell_type": "code",
     "checksum": "706c1d32eca17eb5306468959bb57d19",
     "grade": true,
     "grade_id": "cell-0877bd2347d397a7",
     "locked": true,
     "points": 20,
     "schema_version": 3,
     "solution": false,
     "task": false
    }
   },
   "outputs": [
    {
     "data": {
      "text/plain": [
       "val g : predicate list =\n",
       "  [Predicate (\"ancestor\", [C (Constant \"rickard\"); C (Constant \"robb\")])]\n"
      ]
     },
     "execution_count": 21,
     "metadata": {},
     "output_type": "execute_result"
    },
    {
     "name": "stdout",
     "output_type": "stream",
     "text": [
      "?- ancestor(rickard, robb)\n"
     ]
    },
    {
     "data": {
      "text/plain": [
       "- : unit = ()\n"
      ]
     },
     "execution_count": 21,
     "metadata": {},
     "output_type": "execute_result"
    },
    {
     "data": {
      "text/plain": [
       "val g' : predicate list =\n",
       "  [Predicate (\"ancestor\", [C (Constant \"rickard\"); C (Constant \"robb\")])]\n"
      ]
     },
     "execution_count": 21,
     "metadata": {},
     "output_type": "execute_result"
    },
    {
     "name": "stdout",
     "output_type": "stream",
     "text": [
      "?- ancestor(rickard, robb)\n"
     ]
    },
    {
     "data": {
      "text/plain": [
       "- : unit = ()\n"
      ]
     },
     "execution_count": 21,
     "metadata": {},
     "output_type": "execute_result"
    },
    {
     "data": {
      "text/plain": [
       "- : unit = ()\n"
      ]
     },
     "execution_count": 21,
     "metadata": {},
     "output_type": "execute_result"
    }
   ],
   "source": [
    "(* Tests backtracking *)\n",
    "let g = [ancestor (const_t \"rickard\") (const_t \"robb\")]\n",
    "let _ = print_endline @@ string_of_goal g\n",
    "let g' = match query p g with [v] -> v | _ -> failwith \"error\";;\n",
    "let _ = print_endline @@ string_of_goal g';;\n",
    "assert (g' = g)"
   ]
  },
  {
   "cell_type": "code",
   "execution_count": 22,
   "metadata": {
    "deletable": false,
    "editable": false,
    "nbgrader": {
     "cell_type": "code",
     "checksum": "9432cb27fe646d38fe8b002eb83aef2c",
     "grade": true,
     "grade_id": "cell-3c98e32698e06615",
     "locked": true,
     "points": 15,
     "schema_version": 3,
     "solution": false,
     "task": false
    }
   },
   "outputs": [
    {
     "data": {
      "text/plain": [
       "val g : predicate list =\n",
       "  [Predicate (\"ancestor\", [V (Variable \"X\"); C (Constant \"robb\")])]\n"
      ]
     },
     "execution_count": 22,
     "metadata": {},
     "output_type": "execute_result"
    },
    {
     "name": "stdout",
     "output_type": "stream",
     "text": [
      "?- ancestor(X, robb)\n"
     ]
    },
    {
     "data": {
      "text/plain": [
       "- : unit = ()\n"
      ]
     },
     "execution_count": 22,
     "metadata": {},
     "output_type": "execute_result"
    },
    {
     "data": {
      "text/plain": [
       "val g1 : predicate list =\n",
       "  [Predicate (\"ancestor\", [C (Constant \"ned\"); C (Constant \"robb\")])]\n",
       "val g2 : predicate list =\n",
       "  [Predicate (\"ancestor\", [C (Constant \"rickard\"); C (Constant \"robb\")])]\n"
      ]
     },
     "execution_count": 22,
     "metadata": {},
     "output_type": "execute_result"
    },
    {
     "name": "stdout",
     "output_type": "stream",
     "text": [
      "?- ancestor(ned, robb)\n"
     ]
    },
    {
     "data": {
      "text/plain": [
       "- : unit = ()\n"
      ]
     },
     "execution_count": 22,
     "metadata": {},
     "output_type": "execute_result"
    },
    {
     "name": "stdout",
     "output_type": "stream",
     "text": [
      "?- ancestor(rickard, robb)\n"
     ]
    },
    {
     "data": {
      "text/plain": [
       "- : unit = ()\n"
      ]
     },
     "execution_count": 22,
     "metadata": {},
     "output_type": "execute_result"
    },
    {
     "data": {
      "text/plain": [
       "- : unit = ()\n"
      ]
     },
     "execution_count": 22,
     "metadata": {},
     "output_type": "execute_result"
    }
   ],
   "source": [
    "(* Tests choice points *)\n",
    "let g = [ancestor (var_t \"X\") (const_t \"robb\")]\n",
    "let _ = print_endline @@ string_of_goal g\n",
    "let g1,g2 = match query p g with [v1;v2] -> v1,v2 | _ -> failwith \"error\";;\n",
    "let _ = print_endline @@ string_of_goal g1;;\n",
    "let _ = print_endline @@ string_of_goal g2;;\n",
    "assert (g1 = [ancestor (const_t \"ned\") (const_t \"robb\")]);\n",
    "assert (g2 = [ancestor (const_t \"rickard\") (const_t \"robb\")])"
   ]
  },
  {
   "cell_type": "code",
   "execution_count": 23,
   "metadata": {
    "deletable": false,
    "editable": false,
    "nbgrader": {
     "cell_type": "code",
     "checksum": "2175c010fa8a2936d80b63d918669b53",
     "grade": true,
     "grade_id": "cell-da8e133cb59f318d",
     "locked": true,
     "points": 15,
     "schema_version": 3,
     "solution": false,
     "task": false
    }
   },
   "outputs": [
    {
     "data": {
      "text/plain": [
       "val nil : term = C (Constant \"nil\")\n"
      ]
     },
     "execution_count": 23,
     "metadata": {},
     "output_type": "execute_result"
    },
    {
     "data": {
      "text/plain": [
       "val cons : term -> term -> term = <fun>\n"
      ]
     },
     "execution_count": 23,
     "metadata": {},
     "output_type": "execute_result"
    },
    {
     "data": {
      "text/plain": [
       "val append : term -> term -> term -> predicate = <fun>\n"
      ]
     },
     "execution_count": 23,
     "metadata": {},
     "output_type": "execute_result"
    },
    {
     "data": {
      "text/plain": [
       "val c1 : clause =\n",
       "  Fact\n",
       "   (Predicate (\"append\",\n",
       "     [C (Constant \"nil\"); V (Variable \"Q\"); V (Variable \"Q\")]))\n"
      ]
     },
     "execution_count": 23,
     "metadata": {},
     "output_type": "execute_result"
    },
    {
     "data": {
      "text/plain": [
       "val c2 : clause =\n",
       "  Rule\n",
       "   (Predicate (\"append\",\n",
       "     [F (Function (\"cons\", [V (Variable \"H\"); V (Variable \"P\")]));\n",
       "      V (Variable \"Q\");\n",
       "      F (Function (\"cons\", [V (Variable \"H\"); V (Variable \"R\")]))]),\n",
       "   [Predicate (\"append\",\n",
       "     [V (Variable \"P\"); V (Variable \"Q\"); V (Variable \"R\")])])\n"
      ]
     },
     "execution_count": 23,
     "metadata": {},
     "output_type": "execute_result"
    },
    {
     "data": {
      "text/plain": [
       "val p : clause list =\n",
       "  [Fact\n",
       "    (Predicate (\"append\",\n",
       "      [C (Constant \"nil\"); V (Variable \"Q\"); V (Variable \"Q\")]));\n",
       "   Rule\n",
       "    (Predicate (\"append\",\n",
       "      [F (Function (\"cons\", [V (Variable \"H\"); V (Variable \"P\")]));\n",
       "       V (Variable \"Q\");\n",
       "       F (Function (\"cons\", [V (Variable \"H\"); V (Variable \"R\")]))]),\n",
       "    [Predicate (\"append\",\n",
       "      [V (Variable \"P\"); V (Variable \"Q\"); V (Variable \"R\")])])]\n"
      ]
     },
     "execution_count": 23,
     "metadata": {},
     "output_type": "execute_result"
    },
    {
     "name": "stdout",
     "output_type": "stream",
     "text": [
      "append(nil, Q, Q).\n",
      "append(cons(H, P), Q, cons(H, R)) :- append(P, Q, R).\n",
      "\n"
     ]
    },
    {
     "data": {
      "text/plain": [
       "- : unit = ()\n"
      ]
     },
     "execution_count": 23,
     "metadata": {},
     "output_type": "execute_result"
    },
    {
     "data": {
      "text/plain": [
       "val g : predicate list =\n",
       "  [Predicate (\"append\",\n",
       "    [V (Variable \"X\"); V (Variable \"Y\");\n",
       "     F\n",
       "      (Function (\"cons\",\n",
       "        [C (Constant \"1\");\n",
       "         F\n",
       "          (Function (\"cons\",\n",
       "            [C (Constant \"2\");\n",
       "             F (Function (\"cons\", [C (Constant \"3\"); C (Constant \"nil\")]))]))]))])]\n"
      ]
     },
     "execution_count": 23,
     "metadata": {},
     "output_type": "execute_result"
    },
    {
     "name": "stdout",
     "output_type": "stream",
     "text": [
      "?- append(X, Y, cons(1, cons(2, cons(3, nil))))\n"
     ]
    },
    {
     "data": {
      "text/plain": [
       "- : unit = ()\n"
      ]
     },
     "execution_count": 23,
     "metadata": {},
     "output_type": "execute_result"
    },
    {
     "data": {
      "text/plain": [
       "val g' : predicate list list =\n",
       "  [[Predicate (\"append\",\n",
       "     [C (Constant \"nil\");\n",
       "      F\n",
       "       (Function (\"cons\",\n",
       "         [C (Constant \"1\");\n",
       "          F\n",
       "           (Function (\"cons\",\n",
       "             [C (Constant \"2\");\n",
       "              F (Function (\"cons\", [C (Constant \"3\"); C (Constant \"nil\")]))]))]));\n",
       "      F\n",
       "       (Function (\"cons\",\n",
       "         [C (Constant \"1\");\n",
       "          F\n",
       "           (Function (\"cons\",\n",
       "             [C (Constant \"2\");\n",
       "              F (Function (\"cons\", [C (Constant \"3\"); C (Constant \"nil\")]))]))]))])];\n",
       "   [Predicate (\"append\",\n",
       "     [F (Function (\"cons\", [C (Constant \"1\"); C (Constant \"nil\")]));\n",
       "      F\n",
       "       (Function (\"cons\",\n",
       "         [C (Constant \"2\");\n",
       "          F (Function (\"cons\", [C (Constant \"3\"); C (Constant \"nil\")]))]));\n",
       "      F\n",
       "       (Function (\"cons\",\n",
       "         [C (Constant \"1\");\n",
       "          F\n",
       "           (Function (\"cons\",\n",
       "             [C (Constant \"2\");\n",
       "              F (Function (\"cons\", [C (Constant \"3\"); C (Constant \"nil\")]))]))]))])];\n",
       "   [Predicate (\"append\",\n",
       "     [F\n",
       "       (Function (\"cons\",\n",
       "         [C (Constant \"1\");\n",
       "          F (Function (\"cons\", [C (Constant \"2\"); C (Constant \"nil\")]))]));\n",
       "      F (Function (\"cons\", [C (Constant \"3\"); C (Constant \"nil\")]));\n",
       "      F\n",
       "       (Function (\"cons\",\n",
       "         [C (Constant \"1\");\n",
       "          F\n",
       "           (Function (\"cons\",\n",
       "             [C (Constant \"2\");\n",
       "              F (Function (\"cons\", [C (Constant \"3\"); C (Constant \"nil\")]))]))]))])];\n",
       "   [Predicate (\"append\",\n",
       "     [F\n",
       "       (Function (\"cons\",\n",
       "         [C (Constant \"1\");\n",
       "          F\n",
       "           (Function (\"cons\",\n",
       "             [C (Constant \"2\");\n",
       "              F (Function (\"cons\", [C (Constant \"3\"); C (Constant \"nil\")]))]))]));\n",
       "      C (Constant \"nil\");\n",
       "      F\n",
       "       (Function (\"cons\",\n",
       "         [C (Constant \"1\");\n",
       "          F\n",
       "           (Function (\"cons\",\n",
       "             [C (Constant \"2\");\n",
       "              F (Function (\"cons\", [C (Constant \"3\"); C (Constant \"nil\")]))]))]))])]]\n"
      ]
     },
     "execution_count": 23,
     "metadata": {},
     "output_type": "execute_result"
    },
    {
     "data": {
      "text/plain": [
       "- : unit = ()\n"
      ]
     },
     "execution_count": 23,
     "metadata": {},
     "output_type": "execute_result"
    },
    {
     "name": "stdout",
     "output_type": "stream",
     "text": [
      "?- append(nil, cons(1, cons(2, cons(3, nil))), cons(1, cons(2, cons(3, nil))))\n",
      "?- append(cons(1, nil), cons(2, cons(3, nil)), cons(1, cons(2, cons(3, nil))))\n",
      "?- append(cons(1, cons(2, nil)), cons(3, nil), cons(1, cons(2, cons(3, nil))))\n",
      "?- append(cons(1, cons(2, cons(3, nil))), nil, cons(1, cons(2, cons(3, nil))))\n"
     ]
    },
    {
     "data": {
      "text/plain": [
       "- : unit = ()\n"
      ]
     },
     "execution_count": 23,
     "metadata": {},
     "output_type": "execute_result"
    }
   ],
   "source": [
    "(* Tests choice points *)\n",
    "let nil = const_t \"nil\"\n",
    "let cons h t = func_t \"cons\" [h;t]\n",
    "let append x y z = pred \"append\" [x;y;z]\n",
    "let c1 = fact @@ append nil (var_t \"Q\") (var_t \"Q\")\n",
    "let c2 = rule (append (cons (var_t \"H\") (var_t \"P\")) (var_t \"Q\") (cons (var_t \"H\") (var_t \"R\")))\n",
    "              [append (var_t \"P\") (var_t \"Q\") (var_t \"R\")]\n",
    "let p = [c1;c2]\n",
    "let _ = print_endline @@ string_of_program p\n",
    "\n",
    "let g = [append (var_t \"X\") (var_t \"Y\") (cons (const_t \"1\") (cons (const_t \"2\") (cons (const_t \"3\") nil)))]\n",
    "let _ = print_endline @@ string_of_goal g\n",
    "\n",
    "let g' = query p g;;\n",
    "assert (List.length g' = 4);;\n",
    "let _ = List.iter (fun g -> print_endline @@ string_of_goal g) g'"
   ]
  },
  {
   "cell_type": "code",
   "execution_count": null,
   "metadata": {},
   "outputs": [],
   "source": []
  }
 ],
 "metadata": {
  "kernelspec": {
   "display_name": "OCaml 4.07.1",
   "language": "OCaml",
   "name": "ocaml-jupyter"
  },
  "language_info": {
   "codemirror_mode": "text/x-ocaml",
   "file_extension": ".ml",
   "mimetype": "text/x-ocaml",
   "name": "OCaml",
   "nbconverter_exporter": null,
   "pygments_lexer": "OCaml",
   "version": "4.07.1"
  }
 },
 "nbformat": 4,
 "nbformat_minor": 2
}
