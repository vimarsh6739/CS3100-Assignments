{
 "cells": [
  {
   "cell_type": "markdown",
   "metadata": {},
   "source": [
    "Before you turn this problem in, make sure everything runs as expected. First, **restart the kernel** (in the menubar, select Kernel$\\rightarrow$Restart) and then **run all cells** (in the menubar, select Cell$\\rightarrow$Run All)."
   ]
  },
  {
   "cell_type": "markdown",
   "metadata": {},
   "source": [
    "## Important notes about grading:\n",
    "\n",
    "1. **Compiler errors:** All code you submit must compile. Programs that do not compile will probably receive an automatic zero. If you are having trouble getting your assignment to compile, please visit consulting hours. If you run out of time, it is better to comment out the parts that do not compile, than hand in a more complete file that does not compile.\n",
    "2. **Late assignments:** Please carefully review the course website's policy on late assignments, as all assignments handed in after the deadline will be considered late. Verify on moodle that you have submitted the correct version, before the deadline. Submitting the incorrect version before the deadline and realizing that you have done so after the deadline will be counted as a late submission."
   ]
  },
  {
   "cell_type": "markdown",
   "metadata": {
    "deletable": false,
    "editable": false,
    "nbgrader": {
     "cell_type": "markdown",
     "checksum": "05e269f2ede4ae045016a0d8167284f3",
     "grade": false,
     "grade_id": "cell-fccdd152af2cd140",
     "locked": true,
     "schema_version": 3,
     "solution": false,
     "task": false
    }
   },
   "source": [
    "# Recursive programs \n",
    "\n",
    "Let us implement a few facts about natural numbers encoded as church numerals. Use the constant `0` for representing `0` and `s(X)` to represent the successor function.\n",
    "\n",
    "## Problem 1\n",
    "\n",
    "Implement the predicate `natural_number` such that the following tests pass. "
   ]
  },
  {
   "cell_type": "code",
   "execution_count": 1,
   "metadata": {
    "deletable": false,
    "nbgrader": {
     "cell_type": "code",
     "checksum": "ac2a51387d1698312b93a5f477309979",
     "grade": false,
     "grade_id": "cell-8a81381a3891ca79",
     "locked": false,
     "schema_version": 3,
     "solution": true,
     "task": false
    }
   },
   "outputs": [
    {
     "name": "stdout",
     "output_type": "stream",
     "text": []
    }
   ],
   "source": [
    "natural_number(0).\n",
    "natural_number(s(N)) :- natural_number(N)."
   ]
  },
  {
   "cell_type": "code",
   "execution_count": 2,
   "metadata": {
    "deletable": false,
    "editable": false,
    "nbgrader": {
     "cell_type": "code",
     "checksum": "d01bcdeeb28c5e44e91b7c7ca569cef7",
     "grade": true,
     "grade_id": "cell-3ab44c06f80c32b5",
     "locked": true,
     "points": 10,
     "schema_version": 3,
     "solution": false,
     "task": false
    }
   },
   "outputs": [
    {
     "name": "stdout",
     "output_type": "stream",
     "text": [
      "true.\n",
      "true.\n",
      "true."
     ]
    }
   ],
   "source": [
    "?- natural_number(0) -> true; abort.\n",
    "?- natural_number(s(s(s(0)))) -> true; abort.\n",
    "?- not(natural_number(s(s(z)))) -> true; abort."
   ]
  },
  {
   "cell_type": "markdown",
   "metadata": {
    "deletable": false,
    "editable": false,
    "nbgrader": {
     "cell_type": "markdown",
     "checksum": "4f0d0c546bb735205d712fb3f8710faa",
     "grade": false,
     "grade_id": "cell-4ede557b4c1d3470",
     "locked": true,
     "schema_version": 3,
     "solution": false,
     "task": false
    }
   },
   "source": [
    "BTW, the strange syntax above is Prolog's way of writing if-then-else. \n",
    "\n",
    "```\n",
    "if g then t else f\n",
    "```\n",
    "\n",
    "gets translated to \n",
    "\n",
    "```\n",
    "g -> t; f\n",
    "```\n",
    "\n",
    "where `g` is the goal. We didn't cover this in class and you will not have to worry about this. "
   ]
  },
  {
   "cell_type": "markdown",
   "metadata": {
    "deletable": false,
    "editable": false,
    "nbgrader": {
     "cell_type": "markdown",
     "checksum": "ff02d737bf5ce02732211660eb1839c4",
     "grade": false,
     "grade_id": "cell-8e970bb55d98c0c2",
     "locked": true,
     "schema_version": 3,
     "solution": false,
     "task": false
    }
   },
   "source": [
    "## Problem 2\n",
    "\n",
    "Implement the predicate \n",
    "\n",
    "```prolog\n",
    "plus(X,Y,Z)\n",
    "```\n",
    "\n",
    "which states that `X+Y=Z`. Encode the following axioms for addition:\n",
    "\n",
    "\\\\[\n",
    "\\begin{array}{c}\n",
    "\\forall x. plus(x,0,x) \\\\\n",
    "\\forall x. plus(0,x,x) \\\\\n",
    "\\forall x,y,z. plus(x,y,z) \\rightarrow plus(s(x),y,s(z))\n",
    "\\end{array}\n",
    "\\\\]"
   ]
  },
  {
   "cell_type": "code",
   "execution_count": 3,
   "metadata": {
    "deletable": false,
    "nbgrader": {
     "cell_type": "code",
     "checksum": "5521c65977049d1503f84f18b36d16be",
     "grade": false,
     "grade_id": "cell-11eb4b43f1dea883",
     "locked": false,
     "schema_version": 3,
     "solution": true,
     "task": false
    }
   },
   "outputs": [
    {
     "name": "stdout",
     "output_type": "stream",
     "text": []
    }
   ],
   "source": [
    "plus(X,0,X).\n",
    "plus(0,X,X).\n",
    "plus(s(X),Y,s(Z)) :- plus(X,Y,Z)."
   ]
  },
  {
   "cell_type": "code",
   "execution_count": 4,
   "metadata": {
    "deletable": false,
    "editable": false,
    "nbgrader": {
     "cell_type": "code",
     "checksum": "3109715f6d1bbbf53d48e7c487285fe7",
     "grade": true,
     "grade_id": "cell-37d35d558a789c51",
     "locked": true,
     "points": 10,
     "schema_version": 3,
     "solution": false,
     "task": false
    }
   },
   "outputs": [
    {
     "name": "stdout",
     "output_type": "stream",
     "text": [
      "true.\n",
      "X = s(s(s(0))) .\n",
      "X = _1822 .\n",
      "Y = s(0), X = s(s(0)) ."
     ]
    }
   ],
   "source": [
    "?- plus(s(s(0)),s(s(0)),s(s(s(s(0))))) -> true; abort.\n",
    "?- plus(s(s(0)),X,s(s(s(s(s(0)))))), X = s(s(s(0))) -> true; abort.\n",
    "?- not(plus(s(s(0)),X,0)) -> true; abort.\n",
    "?- plus(X,Y,s(s(s(0)))), X=s(s(0)), Y=s(0) -> true; abort."
   ]
  },
  {
   "cell_type": "markdown",
   "metadata": {
    "deletable": false,
    "editable": false,
    "nbgrader": {
     "cell_type": "markdown",
     "checksum": "7e1134b4011f8cd3afebab8082fb59d1",
     "grade": false,
     "grade_id": "cell-ebe5ffa7772420c7",
     "locked": true,
     "schema_version": 3,
     "solution": false,
     "task": false
    }
   },
   "source": [
    "## Problem 3\n",
    "\n",
    "We can represent multiplication using repeated addition. Write a predicate `mult(X,Y,Z)` using `plus(X,Y,Z)` where `mult(X,Y,Z)` represents `X*Y=Z`. Do not use built in arithmetic."
   ]
  },
  {
   "cell_type": "code",
   "execution_count": 5,
   "metadata": {
    "deletable": false,
    "nbgrader": {
     "cell_type": "code",
     "checksum": "bc12fd06eb5401a535b044999393dd17",
     "grade": false,
     "grade_id": "cell-43354419c3d2fd23",
     "locked": false,
     "schema_version": 3,
     "solution": true,
     "task": false
    }
   },
   "outputs": [
    {
     "name": "stdout",
     "output_type": "stream",
     "text": []
    }
   ],
   "source": [
    "mult(X,0,0).\n",
    "mult(X,s(Y),Z) :- mult(X,Y,M), plus(M,X,Z)."
   ]
  },
  {
   "cell_type": "code",
   "execution_count": 6,
   "metadata": {
    "deletable": false,
    "editable": false,
    "nbgrader": {
     "cell_type": "code",
     "checksum": "cfc06751c8a6c1e4000297bbbd9911dd",
     "grade": true,
     "grade_id": "cell-1b407fc43b930ff5",
     "locked": true,
     "points": 10,
     "schema_version": 3,
     "solution": false,
     "task": false
    }
   },
   "outputs": [
    {
     "name": "stdout",
     "output_type": "stream",
     "text": [
      "X = s(s(s(s(s(s(0)))))) .\n",
      "X = 0 ."
     ]
    }
   ],
   "source": [
    "?- mult(s(s(s(0))),s(s(0)),X), X = s(s(s(s(s(s(0)))))) -> true; abort.\n",
    "?- mult(s(s(s(0))),0,X), X = 0 -> true; abort."
   ]
  },
  {
   "cell_type": "markdown",
   "metadata": {
    "deletable": false,
    "editable": false,
    "nbgrader": {
     "cell_type": "markdown",
     "checksum": "3f5ae36037d162d90b7e7e1e0f74fbad",
     "grade": false,
     "grade_id": "cell-4fea2bcdb8672a3b",
     "locked": true,
     "schema_version": 3,
     "solution": false,
     "task": false
    }
   },
   "source": [
    "## Problem 4\n",
    "\n",
    "Let's implement a conversion function from Church numerals to Prolog integers. The predicate \n",
    "\n",
    "```prolog\n",
    "to_int(X,Y)\n",
    "```\n",
    "\n",
    "holds if `X` is the church numeral that corresponds to the Prolog integer `Y`. See test cases for what is expected."
   ]
  },
  {
   "cell_type": "code",
   "execution_count": 7,
   "metadata": {
    "deletable": false,
    "nbgrader": {
     "cell_type": "code",
     "checksum": "69c534841747ad522d1844c3d40f62b9",
     "grade": false,
     "grade_id": "cell-4670be924aec250f",
     "locked": false,
     "schema_version": 3,
     "solution": true,
     "task": false
    }
   },
   "outputs": [
    {
     "name": "stdout",
     "output_type": "stream",
     "text": []
    }
   ],
   "source": [
    "to_int(0,0).\n",
    "to_int(s(X),N) :- to_int(X,M), N is M+1."
   ]
  },
  {
   "cell_type": "markdown",
   "metadata": {
    "deletable": false,
    "editable": false,
    "nbgrader": {
     "cell_type": "markdown",
     "checksum": "637f3df4a748a416b46185562fe45de5",
     "grade": false,
     "grade_id": "cell-20c06c12e97a36aa",
     "locked": true,
     "schema_version": 3,
     "solution": false,
     "task": false
    }
   },
   "source": [
    "We now define `of_int` based on `to_int` definition. For example `of_int(1,s(z))`. \n",
    "\n",
    "The exclamation mark at the end is the **cut** operator. We will study the cut operator in the future lectures. You will also see more strategically placed cut operators in the tests. You will not need to understand what they are for solving this programming assignment. "
   ]
  },
  {
   "cell_type": "code",
   "execution_count": 8,
   "metadata": {
    "deletable": false,
    "editable": false,
    "nbgrader": {
     "cell_type": "code",
     "checksum": "14b98250b765aa538b380d3e0597f078",
     "grade": false,
     "grade_id": "cell-b210e636f78d7639",
     "locked": true,
     "schema_version": 3,
     "solution": false,
     "task": false
    }
   },
   "outputs": [
    {
     "name": "stdout",
     "output_type": "stream",
     "text": []
    }
   ],
   "source": [
    "of_int(X,Y) :- to_int(Y,X), !."
   ]
  },
  {
   "cell_type": "code",
   "execution_count": 9,
   "metadata": {
    "deletable": false,
    "editable": false,
    "nbgrader": {
     "cell_type": "code",
     "checksum": "22e53cb4dd982cd10c035be0cd7c4cde",
     "grade": true,
     "grade_id": "cell-75e567cf8e02cf5e",
     "locked": true,
     "points": 10,
     "schema_version": 3,
     "solution": false,
     "task": false
    }
   },
   "outputs": [
    {
     "name": "stdout",
     "output_type": "stream",
     "text": [
      "Y = s(s(s(0))) .\n",
      "X = 2 ."
     ]
    }
   ],
   "source": [
    "?- of_int(3,Y), Y = s(s(s(0))) -> true; abort.\n",
    "?- to_int(s(s(0)),X), X = 2 -> true; abort."
   ]
  },
  {
   "cell_type": "markdown",
   "metadata": {
    "deletable": false,
    "editable": false,
    "nbgrader": {
     "cell_type": "markdown",
     "checksum": "408bc71605d8beced76e8aafb996e2db",
     "grade": false,
     "grade_id": "cell-c6fc791406f49bb2",
     "locked": true,
     "schema_version": 3,
     "solution": false,
     "task": false
    }
   },
   "source": [
    "## Problem 5\n",
    "\n",
    "Implement subtraction predicate `sub(X,Y,Z)` which holds if `X-Y=Z` where X,Y and Z are church numerals. Do not use built in arithmetic subtraction."
   ]
  },
  {
   "cell_type": "code",
   "execution_count": 10,
   "metadata": {
    "deletable": false,
    "nbgrader": {
     "cell_type": "code",
     "checksum": "1137935ace922a3abfe9fe8845e04d63",
     "grade": false,
     "grade_id": "cell-34c04e23a8ccbfaa",
     "locked": false,
     "schema_version": 3,
     "solution": true,
     "task": false
    }
   },
   "outputs": [
    {
     "name": "stdout",
     "output_type": "stream",
     "text": []
    }
   ],
   "source": [
    "sub(X,X,0).\n",
    "sub(X,0,X).\n",
    "sub(s(X),s(Y),Z) :- sub(X,Y,Z)."
   ]
  },
  {
   "cell_type": "code",
   "execution_count": 11,
   "metadata": {
    "deletable": false,
    "editable": false,
    "nbgrader": {
     "cell_type": "code",
     "checksum": "0cb5b2893545de9e584f6c1ec4dc806a",
     "grade": true,
     "grade_id": "cell-1b3ae97d6fa21bfb",
     "locked": true,
     "points": 10,
     "schema_version": 3,
     "solution": false,
     "task": false
    }
   },
   "outputs": [
    {
     "name": "stdout",
     "output_type": "stream",
     "text": [
      "Y = s(s(s(s(0)))), X = s(s(s(s(s(0))))), Z = s(0), Result = 1 .\n",
      "Y = s(s(s(s(0)))), X = s(s(s(s(0)))), Z = 0, Result = 0 .\n",
      "Y = s(s(s(s(s(0))))), X = s(s(s(s(0)))), Z = _2176 ."
     ]
    }
   ],
   "source": [
    "?- of_int(5,X), of_int(4,Y), sub(X,Y,Z), to_int(Z,Result), Result = 1 -> true; abort.\n",
    "?- of_int(4,X), of_int(4,Y), sub(X,Y,Z), to_int(Z,Result), Result = 0 -> true; abort.\n",
    "/* 4-5 is undefined; derives false. */\n",
    "?- of_int(4,X), of_int(5,Y), not(sub(X,Y,Z)) -> true; abort."
   ]
  },
  {
   "cell_type": "markdown",
   "metadata": {
    "deletable": false,
    "editable": false,
    "nbgrader": {
     "cell_type": "markdown",
     "checksum": "a11cba80a5f825cf125560349a78e521",
     "grade": false,
     "grade_id": "cell-1a301288439bad2a",
     "locked": true,
     "schema_version": 3,
     "solution": false,
     "task": false
    }
   },
   "source": [
    "## Problem 6\n",
    "\n",
    "We can represent division using repeated substraction. Implement `div(X,Y,Z)` which stands for `X/Y=Z`. Do not use built in arithmetic division. You can use arithmetic comparison."
   ]
  },
  {
   "cell_type": "code",
   "execution_count": 12,
   "metadata": {
    "deletable": false,
    "nbgrader": {
     "cell_type": "code",
     "checksum": "800e9d3f342e4bf25f7f0d49c05b9b90",
     "grade": false,
     "grade_id": "cell-6658e6bbf8d4f9f7",
     "locked": false,
     "schema_version": 3,
     "solution": true,
     "task": false
    }
   },
   "outputs": [
    {
     "name": "stdout",
     "output_type": "stream",
     "text": []
    }
   ],
   "source": [
    "div(Y,Y,s(0)) :- not(sub(Y,0,0)).\n",
    "div(X,Y,Z) :- not(sub(Y,0,0)),sub(X,Y,R),div(R,Y,M),plus(s(0),M,Z)."
   ]
  },
  {
   "cell_type": "code",
   "execution_count": 13,
   "metadata": {
    "deletable": false,
    "editable": false,
    "nbgrader": {
     "cell_type": "code",
     "checksum": "d24a439772a2d130cbe0001019631d31",
     "grade": true,
     "grade_id": "cell-cdc7c341fe7b9cb5",
     "locked": true,
     "points": 10,
     "schema_version": 3,
     "solution": false,
     "task": false
    }
   },
   "outputs": [
    {
     "name": "stdout",
     "output_type": "stream",
     "text": [
      "Y = s(s(s(s(s(0))))), X = s(s(s(s(s(s(s(s(s(s(0)))))))))), Z = s(s(0)), Result = 2 .\n",
      "Y = s(s(s(s(s(s(s(s(s(s(0)))))))))), X = s(s(s(s(s(0))))), Z = _2188 .\n",
      "Y = 0, X = s(s(s(s(s(0))))), Z = _2176 ."
     ]
    }
   ],
   "source": [
    "?- of_int(10,X), of_int(5,Y), div(X,Y,Z), to_int(Z,Result), Result = 2, ! -> true; abort. \n",
    "/* 5/10 is undefined; derives false. */\n",
    "?- of_int(5,X), of_int(10,Y), not(div(X,Y,Z)) -> true; abort.\n",
    "/* 5/0 is undefined; derives false. */\n",
    "?- of_int(5,X), of_int(0,Y), not(div(X,Y,Z)) -> true; abort."
   ]
  },
  {
   "cell_type": "markdown",
   "metadata": {
    "deletable": false,
    "editable": false,
    "nbgrader": {
     "cell_type": "markdown",
     "checksum": "00f1de35f16538f7f1ed95fb4bc15a1c",
     "grade": false,
     "grade_id": "cell-0870361a89d2728b",
     "locked": true,
     "schema_version": 3,
     "solution": false,
     "task": false
    }
   },
   "source": [
    "## Problem 7\n",
    "\n",
    "Implement a predicate `range(S,E,M)` which holds if the integer `M` is within the range `S` to `E` including `S` and `E`. "
   ]
  },
  {
   "cell_type": "code",
   "execution_count": 14,
   "metadata": {
    "deletable": false,
    "nbgrader": {
     "cell_type": "code",
     "checksum": "a3b80e6627bee8f219db674f98eeac60",
     "grade": false,
     "grade_id": "cell-bf5de045f9d9aa0d",
     "locked": false,
     "schema_version": 3,
     "solution": true,
     "task": false
    }
   },
   "outputs": [
    {
     "name": "stdout",
     "output_type": "stream",
     "text": []
    }
   ],
   "source": [
    "range(S,E,M) :- S=<M,E>=M. "
   ]
  },
  {
   "cell_type": "code",
   "execution_count": 15,
   "metadata": {
    "deletable": false,
    "editable": false,
    "nbgrader": {
     "cell_type": "code",
     "checksum": "21e21fafc6a207b4189839b9943ede6b",
     "grade": true,
     "grade_id": "cell-6689d4798a6c2705",
     "locked": true,
     "points": 10,
     "schema_version": 3,
     "solution": false,
     "task": false
    }
   },
   "outputs": [
    {
     "name": "stdout",
     "output_type": "stream",
     "text": [
      "true.\n",
      "true.\n",
      "true.\n",
      "true."
     ]
    }
   ],
   "source": [
    "?- not(range(1,2,0)) -> true; abort.\n",
    "?- range(1,2,1) -> true; abort.\n",
    "?- range(1,2,2) -> true; abort.\n",
    "?- not(range(1,2,3)) -> true; abort."
   ]
  },
  {
   "cell_type": "markdown",
   "metadata": {
    "deletable": false,
    "editable": false,
    "nbgrader": {
     "cell_type": "markdown",
     "checksum": "da2e757b7f8ffde6abc6ef444a42ef31",
     "grade": false,
     "grade_id": "cell-9b9197a66a98bcda",
     "locked": true,
     "schema_version": 3,
     "solution": false,
     "task": false
    }
   },
   "source": [
    "# Programming with Lists\n",
    "\n",
    "Let's implement some programs over lists.\n",
    "\n",
    "## Problem 8\n",
    "\n",
    "Implement reverse of a list using the predicate `reverse(X,RevX)` where `RevX` is the reverse of the list `X`. You might want to use `append`. "
   ]
  },
  {
   "cell_type": "code",
   "execution_count": 16,
   "metadata": {
    "deletable": false,
    "nbgrader": {
     "cell_type": "code",
     "checksum": "d64b2305a4780b3c706b8333e785dca8",
     "grade": false,
     "grade_id": "cell-fe071a54a1c005f7",
     "locked": false,
     "schema_version": 3,
     "solution": true,
     "task": false
    }
   },
   "outputs": [
    {
     "name": "stdout",
     "output_type": "stream",
     "text": []
    }
   ],
   "source": [
    "append([],E,[E]).\n",
    "append([H|T],E,[H|Y]) :- append(T,E,Y).\n",
    "reverse([],[]).\n",
    "reverse([H],[H]).\n",
    "reverse([H|T],X) :- reverse(T,Y),append(Y,H,X)."
   ]
  },
  {
   "cell_type": "code",
   "execution_count": 17,
   "metadata": {
    "deletable": false,
    "editable": false,
    "nbgrader": {
     "cell_type": "code",
     "checksum": "7f2e63390cfc3fedc293d78a0fc56a20",
     "grade": true,
     "grade_id": "cell-f8094b67909f155e",
     "locked": true,
     "points": 10,
     "schema_version": 3,
     "solution": false,
     "task": false
    }
   },
   "outputs": [
    {
     "name": "stdout",
     "output_type": "stream",
     "text": [
      "X = [  ] .\n",
      "X = [ 3, 2, 1 ] .\n",
      "A = _1866, X = [ _1878, _1872, _1866 ], C = _1878, B = _1872 ."
     ]
    }
   ],
   "source": [
    "?- reverse([],X), X = [] -> true; abort.\n",
    "?- reverse([1,2,3],X), X = [3,2,1] -> true; abort.\n",
    "?- reverse([A,B,C],X), X = [C,B,A] -> true; abort."
   ]
  },
  {
   "cell_type": "markdown",
   "metadata": {
    "deletable": false,
    "editable": false,
    "nbgrader": {
     "cell_type": "markdown",
     "checksum": "b525a444e05acdeddcee668feed0a4e8",
     "grade": false,
     "grade_id": "cell-43de6c787ed16b3c",
     "locked": true,
     "schema_version": 3,
     "solution": false,
     "task": false
    }
   },
   "source": [
    "## Problem 9\n",
    "\n",
    "Implement list membership predicate `member(X,L)` which holds if $X \\in L$."
   ]
  },
  {
   "cell_type": "code",
   "execution_count": 18,
   "metadata": {
    "deletable": false,
    "nbgrader": {
     "cell_type": "code",
     "checksum": "f605a800468fcddc6fda7dd27279ebab",
     "grade": false,
     "grade_id": "cell-2e2535aaa0537d16",
     "locked": false,
     "schema_version": 3,
     "solution": true,
     "task": false
    }
   },
   "outputs": [
    {
     "name": "stdout",
     "output_type": "stream",
     "text": []
    }
   ],
   "source": [
    "member(X,[X|T]).\n",
    "member(X,[Y|T]):- member(X,T)."
   ]
  },
  {
   "cell_type": "code",
   "execution_count": 19,
   "metadata": {
    "deletable": false,
    "editable": false,
    "nbgrader": {
     "cell_type": "code",
     "checksum": "3eb58611f383edc1b076d87b445c93e5",
     "grade": true,
     "grade_id": "cell-48f793200f5a29e1",
     "locked": true,
     "points": 10,
     "schema_version": 3,
     "solution": false,
     "task": false
    }
   },
   "outputs": [
    {
     "name": "stdout",
     "output_type": "stream",
     "text": [
      "true.\n",
      "true."
     ]
    }
   ],
   "source": [
    "?- member(1,[1,2,3]) -> true; abort.\n",
    "?- not(member(4,[1,2,3])) -> true; abort."
   ]
  },
  {
   "cell_type": "markdown",
   "metadata": {
    "deletable": false,
    "editable": false,
    "nbgrader": {
     "cell_type": "markdown",
     "checksum": "65582e05d260d4537bafbbd23186230a",
     "grade": false,
     "grade_id": "cell-7193121836b6a201",
     "locked": true,
     "schema_version": 3,
     "solution": false,
     "task": false
    }
   },
   "source": [
    "## Problem 10\n",
    "\n",
    "Implement `partition(L,P,S)` such that \n",
    "\n",
    "* `P` is the prefix of `L` and\n",
    "* `S` is the suffix of `L` and\n",
    "* `append(P,S,L)` holds\n",
    "* If `L` is `[]`, then `P` and `S` are `[]`.\n",
    "* If `L` is `[H]`, then `P` is `[H]` and `S` is `[]`. \n",
    "* Otherwise, \n",
    "  * let length of `L` be `N`. Then length of `P` is `div(N/2)`. Use Prolog's [built-in integer division](https://www.swi-prolog.org/pldoc/man?function=div/2).\n",
    "  * length of `S` is `N - div(N/2)`. \n",
    "\n",
    "You may need to redefine `len`,`prefix`,`suffix`,`append` predicates that we have seen in class. You may also need to use Prolog comparison operator `>=` or `>` depending on how you write the predicate. "
   ]
  },
  {
   "cell_type": "code",
   "execution_count": 20,
   "metadata": {
    "deletable": false,
    "nbgrader": {
     "cell_type": "code",
     "checksum": "0a523a76a80c134750891170af96647d",
     "grade": false,
     "grade_id": "cell-515b9e3fb62d0bc4",
     "locked": false,
     "schema_version": 3,
     "solution": true,
     "task": false
    }
   },
   "outputs": [
    {
     "name": "stdout",
     "output_type": "stream",
     "text": []
    }
   ],
   "source": [
    "append2([],E,E).\n",
    "append2([H|T],E,[H|Y]) :- append2(T,E,Y).\n",
    "\n",
    "len2([],0).\n",
    "len2([H|T],X) :- len2(T,Y),X is Y+1.\n",
    "\n",
    "partition([],[],[]).\n",
    "partition([H],[H],[]).\n",
    "partition(L,P,S) :- len2(L,N),Plen is div(N,2),len2(P,Plen), Slen is N - Plen, len2(S,Slen),append2(P,S,L)."
   ]
  },
  {
   "cell_type": "code",
   "execution_count": 21,
   "metadata": {
    "deletable": false,
    "editable": false,
    "nbgrader": {
     "cell_type": "code",
     "checksum": "184d52f6d26279e6efde5dafef200a52",
     "grade": true,
     "grade_id": "cell-e2b8e0e7faeb9a63",
     "locked": true,
     "points": 10,
     "schema_version": 3,
     "solution": false,
     "task": false
    }
   },
   "outputs": [
    {
     "name": "stdout",
     "output_type": "stream",
     "text": [
      "true.\n",
      "H = _1806 .\n",
      "true."
     ]
    }
   ],
   "source": [
    "?- partition([],[],[]) -> true; abort.\n",
    "?- partition([H],[H],[]) -> true; abort.\n",
    "?- partition([1,2,3],[1],[2,3]) -> true; abort."
   ]
  },
  {
   "cell_type": "markdown",
   "metadata": {
    "deletable": false,
    "editable": false,
    "nbgrader": {
     "cell_type": "markdown",
     "checksum": "7e2aeac949dca74fc23c2d07c3d1121b",
     "grade": false,
     "grade_id": "cell-f68a00c292f40d2b",
     "locked": true,
     "schema_version": 3,
     "solution": false,
     "task": false
    }
   },
   "source": [
    "## Problem 11\n",
    "\n",
    "Implement the predicate `merge(X,Y,Z)` where `X` and `Y` are sorted, and `Z` contains the same elements as `U` where `append(X,Y,U)` but `Z` is also additionally sorted."
   ]
  },
  {
   "cell_type": "code",
   "execution_count": 22,
   "metadata": {
    "deletable": false,
    "nbgrader": {
     "cell_type": "code",
     "checksum": "54e099abafa5eb499a014c509b6f8634",
     "grade": false,
     "grade_id": "cell-f2d999dc61fef749",
     "locked": false,
     "schema_version": 3,
     "solution": true,
     "task": false
    }
   },
   "outputs": [
    {
     "name": "stdout",
     "output_type": "stream",
     "text": []
    }
   ],
   "source": [
    "merge([],[],[]).\n",
    "merge([],X,X).\n",
    "merge(X,[],X).\n",
    "merge([H1|T1],[H2|T2],[H1|T3]) :- H1=<H2,merge(T1,[H2|T2],T3).\n",
    "merge([H1|T1],[H2|T2],[H2|T3]) :- H2<H1,merge([H1|T1],T2,T3)."
   ]
  },
  {
   "cell_type": "code",
   "execution_count": 23,
   "metadata": {
    "deletable": false,
    "editable": false,
    "nbgrader": {
     "cell_type": "code",
     "checksum": "9fb7f82e385d16f97dec6af5e7616007",
     "grade": true,
     "grade_id": "cell-01713499f0c437b5",
     "locked": true,
     "points": 10,
     "schema_version": 3,
     "solution": false,
     "task": false
    }
   },
   "outputs": [
    {
     "name": "stdout",
     "output_type": "stream",
     "text": [
      "true.\n",
      "true.\n",
      "true."
     ]
    }
   ],
   "source": [
    "?- merge([],[1],[1]) -> true; abort.\n",
    "?- merge([1],[],[1]) -> true; abort.\n",
    "?- merge([1,3,5],[2,4,6],[1,2,3,4,5,6]) -> true; abort."
   ]
  },
  {
   "cell_type": "markdown",
   "metadata": {
    "deletable": false,
    "editable": false,
    "nbgrader": {
     "cell_type": "markdown",
     "checksum": "ac33b56fe0ffdce00509ae36a448d07a",
     "grade": false,
     "grade_id": "cell-35433d7ff74e5624",
     "locked": true,
     "schema_version": 3,
     "solution": false,
     "task": false
    }
   },
   "source": [
    "## Problem 12\n",
    "\n",
    "Implement predicate `mergesort(L,SL)` where `SL` is the sorted version of `L`. Use the predicate to partition the list `L` into two, sort each on separately (using `mergesort`) and combine the individual sorted list using `merge`. "
   ]
  },
  {
   "cell_type": "code",
   "execution_count": 24,
   "metadata": {
    "deletable": false,
    "nbgrader": {
     "cell_type": "code",
     "checksum": "439f9fc1d1edcadd4edcfa89411497d6",
     "grade": false,
     "grade_id": "cell-74680ae9d990d6a6",
     "locked": false,
     "schema_version": 3,
     "solution": true,
     "task": false
    }
   },
   "outputs": [
    {
     "name": "stdout",
     "output_type": "stream",
     "text": []
    }
   ],
   "source": [
    "mergesort([],[]).\n",
    "mergesort([H],[H]).\n",
    "mergesort(L,SL) :- partition(L,P,S), mergesort(P,Pnice),mergesort(S,Snice),merge(Pnice,Snice,SL)."
   ]
  },
  {
   "cell_type": "code",
   "execution_count": 25,
   "metadata": {
    "deletable": false,
    "editable": false,
    "nbgrader": {
     "cell_type": "code",
     "checksum": "8029d7212cfa430971c6e1b34e545a43",
     "grade": true,
     "grade_id": "cell-c3dcfa7223e13980",
     "locked": true,
     "points": 10,
     "schema_version": 3,
     "solution": false,
     "task": false
    }
   },
   "outputs": [
    {
     "name": "stdout",
     "output_type": "stream",
     "text": [
      "true.\n",
      "true.\n",
      "true."
     ]
    }
   ],
   "source": [
    "?- mergesort([3,2,1],[1,2,3]), ! -> true; abort.\n",
    "?- mergesort([1,2,3],[1,2,3]), ! -> true; abort.\n",
    "?- mergesort([],[]), ! -> true; abort."
   ]
  },
  {
   "cell_type": "code",
   "execution_count": null,
   "metadata": {},
   "outputs": [],
   "source": []
  }
 ],
 "metadata": {
  "kernelspec": {
   "display_name": "SWI-Prolog",
   "language": "",
   "name": "jswipl"
  },
  "language_info": {
   "mimetype": "text/plain",
   "name": "swipl"
  }
 },
 "nbformat": 4,
 "nbformat_minor": 2
}
