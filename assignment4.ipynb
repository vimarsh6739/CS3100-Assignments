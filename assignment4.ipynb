{
 "cells": [
  {
   "cell_type": "markdown",
   "metadata": {},
   "source": [
    "Before you turn this problem in, make sure everything runs as expected. First, **restart the kernel** (in the menubar, select Kernel$\\rightarrow$Restart) and then **run all cells** (in the menubar, select Cell$\\rightarrow$Run All).\n",
    "\n",
    "Make sure you fill in any place that says `YOUR CODE HERE` or \"YOUR ANSWER HERE\", as well as your name below:"
   ]
  },
  {
   "cell_type": "code",
   "execution_count": 1,
   "metadata": {},
   "outputs": [
    {
     "name": "stdout",
     "output_type": "stream",
     "text": [
      "Findlib has been successfully loaded. Additional directives:\n",
      "  #require \"package\";;      to load a package\n",
      "  #list;;                   to list the available packages\n",
      "  #camlp4o;;                to load camlp4 (standard syntax)\n",
      "  #camlp4r;;                to load camlp4 (revised syntax)\n",
      "  #predicates \"p,q,...\";;   to set these predicates\n",
      "  Topfind.reset();;         to force that packages will be reloaded\n",
      "  #thread;;                 to enable threads\n",
      "\n"
     ]
    },
    {
     "data": {
      "text/plain": [
       "val name : string = \"Vimarsh Sathia\"\n"
      ]
     },
     "execution_count": 1,
     "metadata": {},
     "output_type": "execute_result"
    },
    {
     "data": {
      "text/plain": [
       "val rollno : string = \"CS17B046\"\n"
      ]
     },
     "execution_count": 1,
     "metadata": {},
     "output_type": "execute_result"
    }
   ],
   "source": [
    "let name = \"Vimarsh Sathia\"\n",
    "let rollno = \"CS17B046\""
   ]
  },
  {
   "cell_type": "markdown",
   "metadata": {},
   "source": [
    "## Important notes about grading:\n",
    "\n",
    "1. **Compiler errors:** All code you submit must compile. Programs that do not compile will probably receive an automatic zero. If you are having trouble getting your assignment to compile, please visit consulting hours. If you run out of time, it is better to comment out the parts that do not compile, than hand in a more complete file that does not compile.\n",
    "2. **Late assignments:** Please carefully review the course website's policy on late assignments, as all assignments handed in after the deadline will be considered late. Verify on moodle that you have submitted the correct version, before the deadline. Submitting the incorrect version before the deadline and realizing that you have done so after the deadline will be counted as a late submission."
   ]
  },
  {
   "cell_type": "markdown",
   "metadata": {
    "deletable": false,
    "editable": false,
    "nbgrader": {
     "cell_type": "markdown",
     "checksum": "57ddc00bf465577d4598873fb0e7820a",
     "grade": false,
     "grade_id": "cell-dd6a438293120d72",
     "locked": true,
     "schema_version": 3,
     "solution": false,
     "task": false
    }
   },
   "source": [
    "# Monads\n",
    "\n",
    "In this section, we will extend the state monad example from class to implement OCaml-like references. The idea is to use the functional heaps that we briefly saw at the beginning of the lambda calculus lectures and use this as the state used in the state monad. The definition of functional heap is below:"
   ]
  },
  {
   "cell_type": "code",
   "execution_count": 2,
   "metadata": {
    "deletable": false,
    "editable": false,
    "nbgrader": {
     "cell_type": "code",
     "checksum": "d243af23901b74bc844e53508b275406",
     "grade": false,
     "grade_id": "cell-b4476d9ad0e000f1",
     "locked": true,
     "schema_version": 3,
     "solution": false,
     "task": false
    }
   },
   "outputs": [
    {
     "data": {
      "text/plain": [
       "module type FHEAP =\n",
       "  sig\n",
       "    type ('k, 'v) t\n",
       "    val empty_heap : ('k, 'v) t\n",
       "    val set : ('k, 'v) t -> 'k -> 'v -> ('k, 'v) t\n",
       "    val get : ('k, 'v) t -> 'k -> 'v option\n",
       "  end\n"
      ]
     },
     "execution_count": 2,
     "metadata": {},
     "output_type": "execute_result"
    },
    {
     "data": {
      "text/plain": [
       "module FHeap : FHEAP\n"
      ]
     },
     "execution_count": 2,
     "metadata": {},
     "output_type": "execute_result"
    }
   ],
   "source": [
    "module type FHEAP = sig\n",
    "  type ('k,'v) t\n",
    "  val empty_heap : ('k,'v) t\n",
    "  val set        : ('k,'v) t -> 'k -> 'v -> ('k,'v) t\n",
    "  val get        : ('k,'v) t -> 'k -> 'v option\n",
    "end\n",
    "\n",
    "module FHeap : FHEAP = struct\n",
    "  type ('k,'v) t = 'k -> 'v option\n",
    "  let empty_heap = fun k -> None\n",
    "  let set h x v = fun k -> if k = x then Some v else h k\n",
    "  let get h x = h x\n",
    "end"
   ]
  },
  {
   "cell_type": "markdown",
   "metadata": {
    "deletable": false,
    "editable": false,
    "nbgrader": {
     "cell_type": "markdown",
     "checksum": "c4e4dec4b6689d41c3514ce0469bb856",
     "grade": false,
     "grade_id": "cell-9aa37f90f95793eb",
     "locked": true,
     "schema_version": 3,
     "solution": false,
     "task": false
    }
   },
   "source": [
    "Here is the monad signature"
   ]
  },
  {
   "cell_type": "code",
   "execution_count": 3,
   "metadata": {
    "deletable": false,
    "editable": false,
    "nbgrader": {
     "cell_type": "code",
     "checksum": "69daefe6ed14ee5370ba023aae64875e",
     "grade": false,
     "grade_id": "cell-89b66befcd052abc",
     "locked": true,
     "schema_version": 3,
     "solution": false,
     "task": false
    }
   },
   "outputs": [
    {
     "data": {
      "text/plain": [
       "module type MONAD =\n",
       "  sig\n",
       "    type 'a t\n",
       "    val return : 'a -> 'a t\n",
       "    val ( >>= ) : 'a t -> ('a -> 'b t) -> 'b t\n",
       "  end\n"
      ]
     },
     "execution_count": 3,
     "metadata": {},
     "output_type": "execute_result"
    }
   ],
   "source": [
    "module type MONAD = sig\n",
    "  type 'a t\n",
    "  val return : 'a -> 'a t\n",
    "  val (>>=)  : 'a t -> ('a -> 'b t) -> 'b t\n",
    "end"
   ]
  },
  {
   "cell_type": "markdown",
   "metadata": {
    "deletable": false,
    "editable": false,
    "nbgrader": {
     "cell_type": "markdown",
     "checksum": "eed5ad8d87de0db0620458324a755c22",
     "grade": false,
     "grade_id": "cell-4ad2601816d11b86",
     "locked": true,
     "schema_version": 3,
     "solution": false,
     "task": false
    }
   },
   "source": [
    "## Multiple References of the same type\n",
    "\n",
    "First we will start with a monad that allows creation of new reference cells, read and update them but restricted to storing the same type of value. You will implement the `Ref_monad` module with the following signature:"
   ]
  },
  {
   "cell_type": "code",
   "execution_count": 4,
   "metadata": {
    "deletable": false,
    "editable": false,
    "nbgrader": {
     "cell_type": "code",
     "checksum": "abfe27acb9f77b0dc181f2be1a24d4af",
     "grade": false,
     "grade_id": "cell-5484fbfc6111e21e",
     "locked": true,
     "schema_version": 3,
     "solution": false,
     "task": false
    }
   },
   "outputs": [
    {
     "data": {
      "text/plain": [
       "module type REF_MONAD =\n",
       "  sig\n",
       "    type value\n",
       "    type ref\n",
       "    type 'a t\n",
       "    val return : 'a -> 'a t\n",
       "    val ( >>= ) : 'a t -> ('a -> 'b t) -> 'b t\n",
       "    val mk_ref : value -> ref t\n",
       "    val ( ! ) : ref -> value t\n",
       "    val ( := ) : ref -> value -> unit t\n",
       "    val run_state : 'a t -> 'a\n",
       "  end\n"
      ]
     },
     "execution_count": 4,
     "metadata": {},
     "output_type": "execute_result"
    }
   ],
   "source": [
    "module type REF_MONAD = sig\n",
    "  type value   (* type of value *)\n",
    "  type ref     (* type of reference *)\n",
    "  include MONAD\n",
    "  val mk_ref : value -> ref t\n",
    "  val (!) : ref -> value t\n",
    "  val (:=) : ref -> value -> unit t\n",
    "  val run_state : 'a t -> 'a\n",
    "end"
   ]
  },
  {
   "cell_type": "markdown",
   "metadata": {
    "deletable": false,
    "editable": false,
    "nbgrader": {
     "cell_type": "markdown",
     "checksum": "b4489c8e8459e1660fdf18d188826c76",
     "grade": false,
     "grade_id": "cell-503c866f8d64a2d8",
     "locked": true,
     "schema_version": 3,
     "solution": false,
     "task": false
    }
   },
   "source": [
    "Notice that `mk_ref` creates \"fresh\" reference cells. These reference cells are different from every other reference cell that has already been created or will be created in this monad. This property is known as **generativity**. We had seen a similar concept when we defined `fresh` for substitutions in the lambda calculus assignement (assignment 2). \n",
    "\n",
    "We can simulate freshness by using a counter value `c`, whose state is also maintained as part of the state. Everytime you want to create a fresh reference, update this counter `c`. We will use this counter to index into the functional heap. Hence, the reference itself (`ref` type) is just an integer. \n",
    "\n",
    "## Problem 1: Implement the Ref_monad"
   ]
  },
  {
   "cell_type": "code",
   "execution_count": 5,
   "metadata": {
    "deletable": false,
    "nbgrader": {
     "cell_type": "code",
     "checksum": "a53ba194a37017d60e6ec25280fa48b2",
     "grade": false,
     "grade_id": "cell-dc4671801c88ce03",
     "locked": false,
     "schema_version": 3,
     "solution": true,
     "task": false
    }
   },
   "outputs": [
    {
     "data": {
      "text/plain": [
       "module Ref_monad :\n",
       "  functor (V : sig type t end) ->\n",
       "    sig\n",
       "      type value = V.t\n",
       "      type ref\n",
       "      type 'a t\n",
       "      val return : 'a -> 'a t\n",
       "      val ( >>= ) : 'a t -> ('a -> 'b t) -> 'b t\n",
       "      val mk_ref : value -> ref t\n",
       "      val ( ! ) : ref -> value t\n",
       "      val ( := ) : ref -> value -> unit t\n",
       "      val run_state : 'a t -> 'a\n",
       "    end\n"
      ]
     },
     "execution_count": 5,
     "metadata": {},
     "output_type": "execute_result"
    }
   ],
   "source": [
    "module Ref_monad (V : sig type t end)(*Module which is like a function*)\n",
    "  : REF_MONAD with type value = V.t = struct\n",
    "  \n",
    "  type value = V.t\n",
    "  type ref = int (* just an index into the FHeap.t *)\n",
    "  type 'a t= \n",
    "    int (* counter *) * (int, value) FHeap.t (* heap indexed by ref *) -> \n",
    "    int (* new counter *) * (int, value) FHeap.t (* new heap *) * 'a \n",
    "    \n",
    "  let return v = fun (c,h) -> (c,h,v)\n",
    "  \n",
    "  let (>>=) m f = fun (c,h) -> \n",
    "    let (c1,h1,v) = (m (c,h)) in \n",
    "    f v (c1,h1)\n",
    "  \n",
    "  let mk_ref v = fun (c,h) -> \n",
    "    let h1 = FHeap.set h (c+1) v in \n",
    "      (c+1,h1,c+1)\n",
    "  \n",
    "  let (!) k = fun (c,h) -> \n",
    "    let x = FHeap.get h k in \n",
    "      match x with \n",
    "      |Some v -> (c,h,v)\n",
    "      |_->raise(Failure \"Key not found\")\n",
    "  \n",
    "  let (:=) k v= fun (c,h) -> let h1 = FHeap.set h k v in (c,h1,());;\n",
    "  \n",
    "  let run_state m = let (c,h,ans) = m (0,FHeap.empty_heap) in ans;;\n",
    "end"
   ]
  },
  {
   "cell_type": "code",
   "execution_count": 6,
   "metadata": {
    "deletable": false,
    "editable": false,
    "nbgrader": {
     "cell_type": "code",
     "checksum": "16f76b9e2d2f152791b15c85a6445678",
     "grade": true,
     "grade_id": "cell-eececbbf45249d3e",
     "locked": true,
     "points": 5,
     "schema_version": 3,
     "solution": false,
     "task": false
    }
   },
   "outputs": [
    {
     "data": {
      "text/plain": [
       "module M :\n",
       "  sig\n",
       "    module R :\n",
       "      sig\n",
       "        type value = int\n",
       "        type ref\n",
       "        type 'a t\n",
       "        val return : 'a -> 'a t\n",
       "        val ( >>= ) : 'a t -> ('a -> 'b t) -> 'b t\n",
       "        val mk_ref : value -> ref t\n",
       "        val ( ! ) : ref -> value t\n",
       "        val ( := ) : ref -> value -> unit t\n",
       "        val run_state : 'a t -> 'a\n",
       "      end\n",
       "    val program : R.value R.t\n",
       "  end\n"
      ]
     },
     "execution_count": 6,
     "metadata": {},
     "output_type": "execute_result"
    }
   ],
   "source": [
    "\n",
    "module M = struct\n",
    "  module R = Ref_monad(struct type t = int end)\n",
    "  open R\n",
    "  let program = \n",
    "    mk_ref 10 >>= fun i -> \n",
    "    !i\n",
    "  ;; \n",
    "  assert (run_state program = 10)\n",
    "end\n"
   ]
  },
  {
   "cell_type": "code",
   "execution_count": 7,
   "metadata": {
    "deletable": false,
    "editable": false,
    "nbgrader": {
     "cell_type": "code",
     "checksum": "3a841d5609962f0d1ce40254f934fce4",
     "grade": true,
     "grade_id": "cell-eececbbf45249d3f",
     "locked": true,
     "points": 5,
     "schema_version": 3,
     "solution": false,
     "task": false
    }
   },
   "outputs": [
    {
     "data": {
      "text/plain": [
       "module M :\n",
       "  sig\n",
       "    module R :\n",
       "      sig\n",
       "        type value = int\n",
       "        type ref\n",
       "        type 'a t\n",
       "        val return : 'a -> 'a t\n",
       "        val ( >>= ) : 'a t -> ('a -> 'b t) -> 'b t\n",
       "        val mk_ref : value -> ref t\n",
       "        val ( ! ) : ref -> value t\n",
       "        val ( := ) : ref -> value -> unit t\n",
       "        val run_state : 'a t -> 'a\n",
       "      end\n",
       "    val program : R.value R.t\n",
       "  end\n"
      ]
     },
     "execution_count": 7,
     "metadata": {},
     "output_type": "execute_result"
    }
   ],
   "source": [
    "module M = struct\n",
    "  module R = Ref_monad(struct type t = int end)\n",
    "  open R\n",
    "  let program = \n",
    "    mk_ref 10 >>= fun i ->\n",
    "    !i >>= fun iv ->\n",
    "    (i := iv + 1) >>= fun () ->\n",
    "    !i\n",
    "  ;; \n",
    "  assert (run_state program = 11)\n",
    "end\n"
   ]
  },
  {
   "cell_type": "code",
   "execution_count": 8,
   "metadata": {
    "deletable": false,
    "editable": false,
    "nbgrader": {
     "cell_type": "code",
     "checksum": "e4be457affeefa417120e908bf640c75",
     "grade": true,
     "grade_id": "cell-3b7dd52d95d10ce7",
     "locked": true,
     "points": 10,
     "schema_version": 3,
     "solution": false,
     "task": false
    }
   },
   "outputs": [
    {
     "data": {
      "text/plain": [
       "module M :\n",
       "  sig\n",
       "    module R :\n",
       "      sig\n",
       "        type value = int\n",
       "        type ref\n",
       "        type 'a t\n",
       "        val return : 'a -> 'a t\n",
       "        val ( >>= ) : 'a t -> ('a -> 'b t) -> 'b t\n",
       "        val mk_ref : value -> ref t\n",
       "        val ( ! ) : ref -> value t\n",
       "        val ( := ) : ref -> value -> unit t\n",
       "        val run_state : 'a t -> 'a\n",
       "      end\n",
       "    val program : int R.t\n",
       "  end\n"
      ]
     },
     "execution_count": 8,
     "metadata": {},
     "output_type": "execute_result"
    }
   ],
   "source": [
    "module M = struct\n",
    "  module R = Ref_monad(struct type t = int end)\n",
    "  open R\n",
    "  let program = \n",
    "    mk_ref 10 >>= fun i ->\n",
    "    mk_ref 20 >>= fun j ->\n",
    "    !i >>= fun iv ->\n",
    "    (i := iv + 1) >>= fun () ->\n",
    "    !j >>= fun jv ->\n",
    "    !i >>= fun iv ->\n",
    "    return (iv + jv)\n",
    "  ;;\n",
    "\n",
    "  assert(run_state program = 31)\n",
    "end\n"
   ]
  },
  {
   "cell_type": "markdown",
   "metadata": {
    "deletable": false,
    "editable": false,
    "nbgrader": {
     "cell_type": "markdown",
     "checksum": "99123f4b491324abe2e785e86777be50",
     "grade": false,
     "grade_id": "cell-36d765855c583814",
     "locked": true,
     "schema_version": 3,
     "solution": false,
     "task": false
    }
   },
   "source": [
    "## Polymorphic Refences\n",
    "\n",
    "Let us now graduate to implementing references of different types. It turns out that storing different typed values in a key-value map and retrieving it back is tricky; every `value` that is put into a given map must be the same. Luckily, we have a concept called universal types that provides a way to safely go from arbitrary types to the universal type and back. Here is an implementation of universal type in OCaml:"
   ]
  },
  {
   "cell_type": "code",
   "execution_count": 9,
   "metadata": {
    "deletable": false,
    "editable": false,
    "nbgrader": {
     "cell_type": "code",
     "checksum": "75ef44a007073bdbe15b9e8c669cb86b",
     "grade": false,
     "grade_id": "cell-d7ab587bd17762ec",
     "locked": true,
     "schema_version": 3,
     "solution": false,
     "task": false
    }
   },
   "outputs": [
    {
     "data": {
      "text/plain": [
       "module Univ :\n",
       "  sig\n",
       "    type t\n",
       "    type 'a packer = { pack : 'a -> t; unpack : t -> 'a option; }\n",
       "    val mk : unit -> 'a packer\n",
       "  end\n"
      ]
     },
     "execution_count": 9,
     "metadata": {},
     "output_type": "execute_result"
    }
   ],
   "source": [
    "module Univ : sig\n",
    "  type t\n",
    "  type 'a packer = {pack : 'a -> t; unpack : t -> 'a option}\n",
    "  val mk : unit -> 'a packer\n",
    "end = struct\n",
    "  type t = exn\n",
    "  type 'a packer = {pack : 'a -> t; unpack : t -> 'a option}\n",
    "  let mk : type a. unit -> a packer = fun () ->\n",
    "    let module M () = struct exception E of a end in\n",
    "    let module F = M () in\n",
    "    {pack = (fun v -> F.E v); \n",
    "     unpack = fun p -> match p with F.E v -> Some v | _ -> None}\n",
    "end"
   ]
  },
  {
   "cell_type": "markdown",
   "metadata": {
    "deletable": false,
    "editable": false,
    "nbgrader": {
     "cell_type": "markdown",
     "checksum": "7a20cf67b727e4dead48ef138d65daf5",
     "grade": false,
     "grade_id": "cell-3b7c6374d908b49b",
     "locked": true,
     "schema_version": 3,
     "solution": false,
     "task": false
    }
   },
   "source": [
    "The implementation details are not important. The `mk` function returns a packer for an arbitrary type, which includes an function to pack values of this arbitrary type to the universal type and unpack such a type. Here is how you might use the functions."
   ]
  },
  {
   "cell_type": "code",
   "execution_count": 10,
   "metadata": {
    "deletable": false,
    "editable": false,
    "nbgrader": {
     "cell_type": "code",
     "checksum": "8ac1919a0aae3046c622bf595eaec2b4",
     "grade": false,
     "grade_id": "cell-2da78575eb013603",
     "locked": true,
     "schema_version": 3,
     "solution": false,
     "task": false
    }
   },
   "outputs": [
    {
     "data": {
      "text/plain": [
       "module M :\n",
       "  sig\n",
       "    type t = Univ.t\n",
       "    type 'a packer =\n",
       "      'a Univ.packer = {\n",
       "      pack : 'a -> t;\n",
       "      unpack : t -> 'a option;\n",
       "    }\n",
       "    val mk : unit -> 'a packer\n",
       "    val int_packer : int packer\n",
       "    val float_packer : float packer\n",
       "    val l : t list\n",
       "    val get : 'a packer -> t list -> 'a option\n",
       "  end\n"
      ]
     },
     "execution_count": 10,
     "metadata": {},
     "output_type": "execute_result"
    },
    {
     "data": {
      "text/plain": [
       "- : int option = Some 10\n"
      ]
     },
     "execution_count": 10,
     "metadata": {},
     "output_type": "execute_result"
    },
    {
     "data": {
      "text/plain": [
       "- : float option = Some 20.25\n"
      ]
     },
     "execution_count": 10,
     "metadata": {},
     "output_type": "execute_result"
    }
   ],
   "source": [
    "module M = struct\n",
    "  include Univ\n",
    "  let int_packer = mk ()\n",
    "  let float_packer = mk ()\n",
    "  \n",
    "  let l = [int_packer.pack 10; float_packer.pack 20.25]\n",
    "  \n",
    "  let rec get packer l =\n",
    "    match l with\n",
    "    | [] -> None\n",
    "    | x::xs -> \n",
    "        match packer.unpack x with\n",
    "        | Some v -> Some v\n",
    "        | None -> get packer xs\n",
    "end;;\n",
    "\n",
    "M.get M.int_packer M.l;;\n",
    "M.get M.float_packer M.l\n"
   ]
  },
  {
   "cell_type": "markdown",
   "metadata": {
    "deletable": false,
    "editable": false,
    "nbgrader": {
     "cell_type": "markdown",
     "checksum": "7da5a61a5562fc3b67b8e07feef234a3",
     "grade": false,
     "grade_id": "cell-b5899e3ec061bef1",
     "locked": true,
     "schema_version": 3,
     "solution": false,
     "task": false
    }
   },
   "source": [
    "The important thing to notice above is the type of `get` function. Given a `'a packer` and a list of universal values, the function retrieves the value packed with the given packer.\n",
    "\n",
    "## Problem 2\n",
    "\n",
    "Use the universal type to implement a polymorphic reference cell monad with the following signature. "
   ]
  },
  {
   "cell_type": "code",
   "execution_count": 11,
   "metadata": {
    "deletable": false,
    "editable": false,
    "nbgrader": {
     "cell_type": "code",
     "checksum": "76d78c50a078168cf14d2c9acb512b70",
     "grade": false,
     "grade_id": "cell-02c485f8ffeeaa92",
     "locked": true,
     "schema_version": 3,
     "solution": false,
     "task": false
    }
   },
   "outputs": [
    {
     "data": {
      "text/plain": [
       "module type POLY_REF_MONAD =\n",
       "  sig\n",
       "    type 'a ref\n",
       "    type 'a t\n",
       "    val return : 'a -> 'a t\n",
       "    val ( >>= ) : 'a t -> ('a -> 'b t) -> 'b t\n",
       "    val mk_ref : 'a -> 'a ref t\n",
       "    val ( ! ) : 'a ref -> 'a t\n",
       "    val ( := ) : 'a ref -> 'a -> unit t\n",
       "    val run_state : 'a t -> 'a\n",
       "  end\n"
      ]
     },
     "execution_count": 11,
     "metadata": {},
     "output_type": "execute_result"
    }
   ],
   "source": [
    "module type POLY_REF_MONAD = sig\n",
    "  type 'a ref (* type of reference *)\n",
    "  include MONAD\n",
    "  val mk_ref : 'a -> 'a ref t\n",
    "  val (!) : 'a ref -> 'a t\n",
    "  val (:=) : 'a ref -> 'a -> unit t\n",
    "  val run_state : 'a t -> 'a\n",
    "end"
   ]
  },
  {
   "cell_type": "markdown",
   "metadata": {
    "deletable": false,
    "editable": false,
    "nbgrader": {
     "cell_type": "markdown",
     "checksum": "adf552edfc6cc0f39e0843a52d8145bf",
     "grade": false,
     "grade_id": "cell-175c57e5a08ae7b8",
     "locked": true,
     "schema_version": 3,
     "solution": false,
     "task": false
    }
   },
   "source": [
    "Observe in the following that the reference cell is not just an integer but also includes the packer. Use this packer to pack the values before inserting into the heap and unpack after retrieving from the heap."
   ]
  },
  {
   "cell_type": "code",
   "execution_count": 12,
   "metadata": {
    "deletable": false,
    "nbgrader": {
     "cell_type": "code",
     "checksum": "6e1b690cfd9f1124b7724163868986ee",
     "grade": false,
     "grade_id": "cell-376afc9e717e4aa2",
     "locked": false,
     "schema_version": 3,
     "solution": true,
     "task": false
    }
   },
   "outputs": [
    {
     "data": {
      "text/plain": [
       "module Poly_ref_monad : POLY_REF_MONAD\n"
      ]
     },
     "execution_count": 12,
     "metadata": {},
     "output_type": "execute_result"
    }
   ],
   "source": [
    "module Poly_ref_monad : POLY_REF_MONAD = struct\n",
    "  type 'a ref = int * 'a Univ.packer\n",
    "  type 'a t = int * (int, Univ.t) FHeap.t -> int * (int, Univ.t) FHeap.t * 'a\n",
    "  \n",
    "  let return v = fun (c,h) -> (c,h,v);;\n",
    "  \n",
    "  let (>>=) m f = fun (c,h) -> \n",
    "    let (c1,h1,v) = (m (c,h)) in \n",
    "    f v (c1,h1);;\n",
    "    \n",
    "  let mk_ref v = let pfn = Univ.mk () in \n",
    "  fun (c,h) -> \n",
    "    let h1 = FHeap.set h (c+1) (pfn.pack v) in (c+1,h1,(c+1,pfn));;\n",
    "    \n",
    "  let (!) ((k,pfn):'a ref) = \n",
    "    fun (c,h) ->\n",
    "      let x = FHeap.get h k in \n",
    "        match x with \n",
    "        |None -> raise(Failure \"Key not found\")\n",
    "        |Some v -> match pfn.unpack v with \n",
    "                    |Some v -> (c,h,v)\n",
    "                    |None -> raise(Failure \"Key not found\")\n",
    "  \n",
    "  let (:=) ((k,pfn):'a ref) v= fun (c,h) -> let h1 = FHeap.set h k (pfn.pack v) in (c,h1,());;\n",
    "  \n",
    "  let run_state m = let (c,h,ans) = m (0,FHeap.empty_heap) in ans;;\n",
    "end"
   ]
  },
  {
   "cell_type": "code",
   "execution_count": 13,
   "metadata": {
    "deletable": false,
    "editable": false,
    "nbgrader": {
     "cell_type": "code",
     "checksum": "e509747c335df9bbc86a657352bdb1ad",
     "grade": true,
     "grade_id": "cell-6e20c081c767dc8b",
     "locked": true,
     "points": 10,
     "schema_version": 3,
     "solution": false,
     "task": false
    }
   },
   "outputs": [
    {
     "data": {
      "text/plain": [
       "module M : sig val program : unit Poly_ref_monad.t end\n"
      ]
     },
     "execution_count": 13,
     "metadata": {},
     "output_type": "execute_result"
    }
   ],
   "source": [
    "module M = struct\n",
    "  open Poly_ref_monad\n",
    "\n",
    "  let program = \n",
    "    mk_ref 10 >>= fun i ->\n",
    "    mk_ref \"20\" >>= fun s ->\n",
    "    return ()\n",
    "  ;;\n",
    "  \n",
    "  assert (run_state program = ())\n",
    "end\n"
   ]
  },
  {
   "cell_type": "code",
   "execution_count": 14,
   "metadata": {
    "deletable": false,
    "editable": false,
    "nbgrader": {
     "cell_type": "code",
     "checksum": "63900b2acc2927b274fbc629991704fe",
     "grade": true,
     "grade_id": "cell-40c81c9b77a40766",
     "locked": true,
     "points": 10,
     "schema_version": 3,
     "solution": false,
     "task": false
    }
   },
   "outputs": [
    {
     "data": {
      "text/plain": [
       "module M : sig val program : int Poly_ref_monad.t end\n"
      ]
     },
     "execution_count": 14,
     "metadata": {},
     "output_type": "execute_result"
    }
   ],
   "source": [
    "module M = struct\n",
    "  open Poly_ref_monad\n",
    "\n",
    "  let program = \n",
    "    mk_ref 10 >>= fun i ->\n",
    "    mk_ref \"20\" >>= fun s ->\n",
    "    !i >>= fun iv ->\n",
    "    (i := iv + 1) >>= fun () ->\n",
    "    !s >>= fun sv ->\n",
    "    !i >>= fun iv ->\n",
    "    return (iv + int_of_string sv)\n",
    "  ;;\n",
    "  assert (run_state program = 31)\n",
    "end\n"
   ]
  },
  {
   "cell_type": "markdown",
   "metadata": {
    "deletable": false,
    "editable": false,
    "nbgrader": {
     "cell_type": "markdown",
     "checksum": "84e6ef24d3fc6db6dcefa49667ae215d",
     "grade": false,
     "grade_id": "cell-043ab7f117b8b9e1",
     "locked": true,
     "schema_version": 3,
     "solution": false,
     "task": false
    }
   },
   "source": [
    "# GADTs"
   ]
  },
  {
   "cell_type": "code",
   "execution_count": 15,
   "metadata": {
    "deletable": false,
    "editable": false,
    "nbgrader": {
     "cell_type": "code",
     "checksum": "f3f34882905158b08e2f6718593f7d19",
     "grade": false,
     "grade_id": "cell-33fd4f007932b164",
     "locked": true,
     "schema_version": 3,
     "solution": false,
     "task": false
    }
   },
   "outputs": [
    {
     "data": {
      "text/plain": [
       "type z = Z\n"
      ]
     },
     "execution_count": 15,
     "metadata": {},
     "output_type": "execute_result"
    },
    {
     "data": {
      "text/plain": [
       "type 'n s = S : 'n -> 'n s\n"
      ]
     },
     "execution_count": 15,
     "metadata": {},
     "output_type": "execute_result"
    }
   ],
   "source": [
    "type z = Z\n",
    "type 'n s = S : 'n -> 'n s"
   ]
  },
  {
   "cell_type": "markdown",
   "metadata": {
    "deletable": false,
    "editable": false,
    "nbgrader": {
     "cell_type": "markdown",
     "checksum": "f9574d8249e5e1658dc89389cdf429a1",
     "grade": false,
     "grade_id": "cell-b2f2349e340427a8",
     "locked": true,
     "schema_version": 3,
     "solution": false,
     "task": false
    }
   },
   "source": [
    "## Cross product\n",
    "\n",
    "A cross product of two lists is given by the function:\n",
    "\n",
    "```ocaml\n",
    "cross : 'a list -> 'b list -> ('a,'b) list\n",
    "```\n",
    "\n",
    "which returns a new list with all possible pairs of the elements of the two lists. The implementation of the function in OCaml is:"
   ]
  },
  {
   "cell_type": "code",
   "execution_count": 16,
   "metadata": {
    "deletable": false,
    "editable": false,
    "nbgrader": {
     "cell_type": "code",
     "checksum": "9b0db629ddb2dc51575ebf1869187671",
     "grade": false,
     "grade_id": "cell-d8fee7d6c5b35973",
     "locked": true,
     "schema_version": 3,
     "solution": false,
     "task": false
    }
   },
   "outputs": [
    {
     "data": {
      "text/plain": [
       "val cross_v_l : 'a -> 'b list -> ('a * 'b) list = <fun>\n"
      ]
     },
     "execution_count": 16,
     "metadata": {},
     "output_type": "execute_result"
    },
    {
     "data": {
      "text/plain": [
       "val cross : 'a list -> 'b list -> ('a * 'b) list = <fun>\n"
      ]
     },
     "execution_count": 16,
     "metadata": {},
     "output_type": "execute_result"
    }
   ],
   "source": [
    "(* scalar product of value with a list *)\n",
    "let rec cross_v_l v l =\n",
    "  match l with\n",
    "  | [] -> []\n",
    "  | x::xs -> (v,x)::cross_v_l v xs\n",
    "  \n",
    "let rec cross l1 l2 = \n",
    "  match l1 with\n",
    "  | [] -> []\n",
    "  | x::xs -> (cross_v_l x l2) @ cross xs l2"
   ]
  },
  {
   "cell_type": "markdown",
   "metadata": {
    "deletable": false,
    "editable": false,
    "nbgrader": {
     "cell_type": "markdown",
     "checksum": "f633a86b902be01156f3066b7f4cb249",
     "grade": false,
     "grade_id": "cell-345216ba6a696328",
     "locked": true,
     "schema_version": 3,
     "solution": false,
     "task": false
    }
   },
   "source": [
    "Here are some examples:"
   ]
  },
  {
   "cell_type": "code",
   "execution_count": 17,
   "metadata": {
    "deletable": false,
    "editable": false,
    "nbgrader": {
     "cell_type": "code",
     "checksum": "2f59122d2587f9e97573a0e090f8b302",
     "grade": false,
     "grade_id": "cell-156a7c7ef1d9c076",
     "locked": true,
     "schema_version": 3,
     "solution": false,
     "task": false
    }
   },
   "outputs": [
    {
     "data": {
      "text/plain": [
       "- : (int * string) list =\n",
       "[(1, \"a\"); (1, \"b\"); (1, \"c\"); (1, \"d\"); (2, \"a\"); (2, \"b\"); (2, \"c\");\n",
       " (2, \"d\")]\n"
      ]
     },
     "execution_count": 17,
     "metadata": {},
     "output_type": "execute_result"
    },
    {
     "data": {
      "text/plain": [
       "- : ('a * 'b) list = []\n"
      ]
     },
     "execution_count": 17,
     "metadata": {},
     "output_type": "execute_result"
    },
    {
     "data": {
      "text/plain": [
       "- : ('a * int) list = []\n"
      ]
     },
     "execution_count": 17,
     "metadata": {},
     "output_type": "execute_result"
    },
    {
     "data": {
      "text/plain": [
       "- : (int * string) list = [(1, \"a\")]\n"
      ]
     },
     "execution_count": 17,
     "metadata": {},
     "output_type": "execute_result"
    }
   ],
   "source": [
    "cross [1;2] [\"a\";\"b\";\"c\";\"d\"];;\n",
    "cross [] [];;\n",
    "cross [] [1];;\n",
    "cross [1] [\"a\"];;"
   ]
  },
  {
   "cell_type": "markdown",
   "metadata": {
    "deletable": false,
    "editable": false,
    "nbgrader": {
     "cell_type": "markdown",
     "checksum": "ff7eab4b48acd04c9981e30fd11677e8",
     "grade": false,
     "grade_id": "cell-ed15255971ed8610",
     "locked": true,
     "schema_version": 3,
     "solution": false,
     "task": false
    }
   },
   "source": [
    "Naturally, if `l1` is of length `n` and `l2` is of length `m`, then the resultant list is of length `n * m`. Let us enforce this property in a length-indexed list."
   ]
  },
  {
   "cell_type": "code",
   "execution_count": 18,
   "metadata": {
    "deletable": false,
    "editable": false,
    "nbgrader": {
     "cell_type": "code",
     "checksum": "8770c4a50e67c06c5cb6ea6c83c246fa",
     "grade": false,
     "grade_id": "cell-a4d7b526dea49520",
     "locked": true,
     "schema_version": 3,
     "solution": false,
     "task": false
    }
   },
   "outputs": [
    {
     "data": {
      "text/plain": [
       "type (_, _) list =\n",
       "    Nil : ('a, z) list\n",
       "  | Cons : 'a * ('a, 'n) list -> ('a, 'n s) list\n"
      ]
     },
     "execution_count": 18,
     "metadata": {},
     "output_type": "execute_result"
    }
   ],
   "source": [
    "(* Length-indexed list *)\n",
    "type (_,_) list =\n",
    "  | Nil  : ('a, z ) list\n",
    "  | Cons : 'a * ('a,'n) list -> ('a, 'n s) list"
   ]
  },
  {
   "cell_type": "markdown",
   "metadata": {
    "deletable": false,
    "editable": false,
    "nbgrader": {
     "cell_type": "markdown",
     "checksum": "67584b5c81f787c057fc7fdc894c18d1",
     "grade": false,
     "grade_id": "cell-b2eabbc8662745be",
     "locked": true,
     "schema_version": 3,
     "solution": false,
     "task": false
    }
   },
   "source": [
    "## Problem 3\n",
    "\n",
    "The scalar product of a value with a list of values does not change the length of the list. Implement the function \n",
    "\n",
    "```ocaml\n",
    "cross_v_l : 'a -> ('b, n) list -> ('a * 'b, n) list\n",
    "```"
   ]
  },
  {
   "cell_type": "code",
   "execution_count": 19,
   "metadata": {
    "deletable": false,
    "nbgrader": {
     "cell_type": "code",
     "checksum": "a86bcc68ae0368d7049e60f96f64c73d",
     "grade": false,
     "grade_id": "cell-6e0afb6fee5582cc",
     "locked": false,
     "schema_version": 3,
     "solution": true,
     "task": false
    }
   },
   "outputs": [
    {
     "data": {
      "text/plain": [
       "val cross_v_l : 'a -> ('b, 'n) list -> ('a * 'b, 'n) list = <fun>\n"
      ]
     },
     "execution_count": 19,
     "metadata": {},
     "output_type": "execute_result"
    }
   ],
   "source": [
    "let rec cross_v_l: type n. 'a -> ('b, n) list -> ('a * 'b, n) list = \n",
    "fun v l ->\n",
    "  match l with \n",
    "  |Nil -> Nil\n",
    "  |Cons(x,xs) -> Cons((v,x),cross_v_l v xs)"
   ]
  },
  {
   "cell_type": "code",
   "execution_count": 20,
   "metadata": {
    "deletable": false,
    "editable": false,
    "nbgrader": {
     "cell_type": "code",
     "checksum": "378d50811e7e2e4f2fbe88d14dc84962",
     "grade": true,
     "grade_id": "cell-42d8a5ada7f067da",
     "locked": true,
     "points": 5,
     "schema_version": 3,
     "solution": false,
     "task": false
    }
   },
   "outputs": [
    {
     "data": {
      "text/plain": [
       "- : unit = ()\n"
      ]
     },
     "execution_count": 20,
     "metadata": {},
     "output_type": "execute_result"
    }
   ],
   "source": [
    "assert (cross_v_l 1 (Cons (\"a\", Cons (\"b\", Nil))) = Cons ((1, \"a\"), Cons ((1, \"b\"), Nil)));"
   ]
  },
  {
   "cell_type": "markdown",
   "metadata": {
    "deletable": false,
    "editable": false,
    "nbgrader": {
     "cell_type": "markdown",
     "checksum": "bb6ad008f88055fdf15987c1222b25e0",
     "grade": false,
     "grade_id": "cell-de828f8f8c001ca8",
     "locked": true,
     "schema_version": 3,
     "solution": false,
     "task": false
    }
   },
   "source": [
    "## Appending lists \n",
    "\n",
    "Observe in `cross` that we have used `append` function. For reference, the append function on regular list is:"
   ]
  },
  {
   "cell_type": "code",
   "execution_count": 21,
   "metadata": {
    "deletable": false,
    "editable": false,
    "nbgrader": {
     "cell_type": "code",
     "checksum": "80d02b8143c5b97624c7df47f4ecd25e",
     "grade": false,
     "grade_id": "cell-46050a2dee294c36",
     "locked": true,
     "schema_version": 3,
     "solution": false,
     "task": false
    }
   },
   "outputs": [
    {
     "data": {
      "text/plain": [
       "val append : 'a list -> 'a list -> 'a list = <fun>\n"
      ]
     },
     "execution_count": 21,
     "metadata": {},
     "output_type": "execute_result"
    }
   ],
   "source": [
    "let rec append l1 l2 =\n",
    "  match l1 with\n",
    "  | [] -> l2 \n",
    "  | x::xs -> x::append xs l2"
   ]
  },
  {
   "cell_type": "markdown",
   "metadata": {
    "deletable": false,
    "editable": false,
    "nbgrader": {
     "cell_type": "markdown",
     "checksum": "bcffc746b1b7a759f3c8bf8bfe1ae801",
     "grade": false,
     "grade_id": "cell-6790ce19f73753de",
     "locked": true,
     "schema_version": 3,
     "solution": false,
     "task": false
    }
   },
   "source": [
    "We need a corresponding implementation of append for the length-indexed case. Since the length of the result of the append of two lists is the sum of the lengths of the two lists, we need carry around proofs for the sum of length as we had seen in the lecture for tail recursive reverse of a list. In particular, we will show that:\n",
    "\n",
    "\\\\[\n",
    "\\begin{array}{c}\n",
    "0 + n = n \\\\\n",
    "m+n = o \\implies (m+1)+n = o+1\n",
    "\\end{array}\n",
    "\\\\]\n",
    "\n",
    "The two axioms above will correspond to the two cases in the body of the append."
   ]
  },
  {
   "cell_type": "markdown",
   "metadata": {
    "deletable": false,
    "editable": false,
    "nbgrader": {
     "cell_type": "markdown",
     "checksum": "f25533e73e0419bd91b78d5c38591a45",
     "grade": false,
     "grade_id": "cell-d132e99da6109323",
     "locked": true,
     "schema_version": 3,
     "solution": false,
     "task": false
    }
   },
   "source": [
    "## Problem 4\n",
    "\n",
    "Complete the implementation of the following definition of `plus` which correspond to the theorems above"
   ]
  },
  {
   "cell_type": "code",
   "execution_count": 22,
   "metadata": {
    "deletable": false,
    "nbgrader": {
     "cell_type": "code",
     "checksum": "c1e2da1eca3dbf9dd35ec4ea7555f439",
     "grade": false,
     "grade_id": "cell-ff3b41b195fa7dcb",
     "locked": false,
     "schema_version": 3,
     "solution": true,
     "task": false
    }
   },
   "outputs": [
    {
     "data": {
      "text/plain": [
       "type (_, _, _) plus =\n",
       "    PlusZero : (z, 'n, 'n) plus\n",
       "  | PlusSucc : ('m, 'n, 'o) plus -> ('m s, 'n, 'o s) plus\n"
      ]
     },
     "execution_count": 22,
     "metadata": {},
     "output_type": "execute_result"
    }
   ],
   "source": [
    "type (_,_,_) plus =\n",
    "  | PlusZero  : (z,'n,'n) plus\n",
    "  | PlusSucc : ('m, 'n, 'o) plus -> ('m s, 'n, 'o s) plus"
   ]
  },
  {
   "cell_type": "code",
   "execution_count": 23,
   "metadata": {
    "deletable": false,
    "editable": false,
    "nbgrader": {
     "cell_type": "code",
     "checksum": "d90fa237b75d61334bb1d437d99e976b",
     "grade": true,
     "grade_id": "cell-e9133e3bbbfe1f95",
     "locked": true,
     "points": 10,
     "schema_version": 3,
     "solution": false,
     "task": false
    }
   },
   "outputs": [
    {
     "data": {
      "text/plain": [
       "val zero_plus_zero_eq_zero : (z, z, z) plus = PlusZero\n"
      ]
     },
     "execution_count": 23,
     "metadata": {},
     "output_type": "execute_result"
    },
    {
     "data": {
      "text/plain": [
       "val two_plus_three_eq_five : (z s s, z s s s, z s s s s s) plus =\n",
       "  PlusSucc (PlusSucc PlusZero)\n"
      ]
     },
     "execution_count": 23,
     "metadata": {},
     "output_type": "execute_result"
    }
   ],
   "source": [
    "let zero_plus_zero_eq_zero : (z,z,z) plus = PlusZero\n",
    "let two_plus_three_eq_five : (z s s, z s s s, z s s s s s) plus = PlusSucc (PlusSucc PlusZero)"
   ]
  },
  {
   "cell_type": "markdown",
   "metadata": {
    "deletable": false,
    "editable": false,
    "nbgrader": {
     "cell_type": "markdown",
     "checksum": "0d6942570db6e006a5b5a6a6a5c6a2d5",
     "grade": false,
     "grade_id": "cell-f8d58cb6e20f95ad",
     "locked": true,
     "schema_version": 3,
     "solution": false,
     "task": false
    }
   },
   "source": [
    "## Problem 5\n",
    "\n",
    "Implement the append for length indexed lists of length `m` and `n`. The first argument is the proof that `m + n = o`."
   ]
  },
  {
   "cell_type": "code",
   "execution_count": 24,
   "metadata": {
    "deletable": false,
    "nbgrader": {
     "cell_type": "code",
     "checksum": "3fc8f74806ef58e01b3bd0ccddee1d18",
     "grade": false,
     "grade_id": "cell-8a3c2550cd9af304",
     "locked": false,
     "schema_version": 3,
     "solution": true,
     "task": false
    }
   },
   "outputs": [
    {
     "data": {
      "text/plain": [
       "val append :\n",
       "  ('m, 'n, 'o) plus -> ('a, 'm) list -> ('a, 'n) list -> ('a, 'o) list =\n",
       "  <fun>\n"
      ]
     },
     "execution_count": 24,
     "metadata": {},
     "output_type": "execute_result"
    }
   ],
   "source": [
    "let rec append : type m n o. (m,n,o) plus -> ('a, m) list -> ('a, n) list -> ('a, o) list =\n",
    "  fun pl l1 l2 ->\n",
    "  match pl,l1 with\n",
    "  | PlusZero,Nil -> l2 \n",
    "  | PlusSucc(x),Cons(lol,llol) -> Cons(lol,append x llol l2 )"
   ]
  },
  {
   "cell_type": "code",
   "execution_count": 25,
   "metadata": {
    "deletable": false,
    "editable": false,
    "nbgrader": {
     "cell_type": "code",
     "checksum": "9cea0f6870a20b457c9fdba0eb285449",
     "grade": true,
     "grade_id": "cell-3dd10e92d3da8f68",
     "locked": true,
     "points": 10,
     "schema_version": 3,
     "solution": false,
     "task": false
    }
   },
   "outputs": [
    {
     "data": {
      "text/plain": [
       "- : unit = ()\n"
      ]
     },
     "execution_count": 25,
     "metadata": {},
     "output_type": "execute_result"
    },
    {
     "data": {
      "text/plain": [
       "- : unit = ()\n"
      ]
     },
     "execution_count": 25,
     "metadata": {},
     "output_type": "execute_result"
    }
   ],
   "source": [
    "assert (append zero_plus_zero_eq_zero Nil Nil = Nil);;\n",
    "assert (append two_plus_three_eq_five (Cons (1,Cons(2,Nil))) (Cons (3, Cons(4,Cons(5,Nil)))) \n",
    "        = Cons (1,Cons(2,Cons(3,Cons(4,Cons(5,Nil))))))\n",
    "        "
   ]
  },
  {
   "cell_type": "markdown",
   "metadata": {
    "deletable": false,
    "editable": false,
    "nbgrader": {
     "cell_type": "markdown",
     "checksum": "9b1d0f7baaa10057e1bd47186b96a706",
     "grade": false,
     "grade_id": "cell-5319f3fe3c881faa",
     "locked": true,
     "schema_version": 3,
     "solution": false,
     "task": false
    }
   },
   "source": [
    "## Multiplication\n",
    "\n",
    "Let's consider the implementation of `cross`:\n",
    "\n",
    "```ocaml\n",
    "let rec cross l1 l2 = \n",
    "  match l1 with\n",
    "  | [] -> []\n",
    "  | x::xs -> (cross_v_l x l2) @ cross xs l2\n",
    "```\n",
    "\n",
    "Given a list `l1` of length `m` and `l2` of length `n`, the result will be a list of length `m * n`. We do not have multiplication on type-level church numerals. Hence, we will implement them ourselves. \n",
    "\n",
    "Let's consider the empty case (first case) in `cross`. If `l1` is empty, then the length of the result list is empty whatever the length of `l2` is. This corresponds to the axiom \n",
    "\n",
    "\\\\[\n",
    "0 * n = 0 \\quad (ax1)\n",
    "\\\\]\n",
    "\n",
    "Now focus on the non-empty case in `cross`. There is a call to `append` (`@`), a call to `cross_v_l` and a recursive call to `cross`. For the corresponding imlementation using length-indexed lists, `cross_v_l` does not need an explicit proof as you have implemented earlier. We know that `cross_v_l x l2` will be of length `n` if `l2` is of length `n`. But we need proofs for `append` and the recursive call of `cross`. \n",
    "\n",
    "Given that `l1` is a non-empty list in the non-empty case, we can represent its length as `m s`. That is to say that the length of `l1` is non-zero. Then `xs` is of length `m`. The recursive call on `cross` is now on lists of length `m` and `n`. Let us say that `m * n = p`. We know that the length of the result of `cross_v_l x l2` call is `n`. Hence, `append` is applied on lists of lengths `n` and `p`. Let us say that `n + p = o`.\n",
    "\n",
    "Putting all the facts together:\n",
    "\n",
    "\\\\[\n",
    "n + p = o ~\\wedge~ m * n = p \\implies (m+1) * n = o \\quad (ax2)\n",
    "\\\\]\n",
    "\n",
    "This can be shown to be true using the arithmetic axioms of distributivity and multiplicative identity. The axioms $ax1$ and $ax2$ are precisely what we need for implementing `cross` for length-indexed lists."
   ]
  },
  {
   "cell_type": "markdown",
   "metadata": {
    "deletable": false,
    "editable": false,
    "nbgrader": {
     "cell_type": "markdown",
     "checksum": "6b09872f0be396de9f320469addf66ab",
     "grade": false,
     "grade_id": "cell-2c2e96f893d9507d",
     "locked": true,
     "schema_version": 3,
     "solution": false,
     "task": false
    }
   },
   "source": [
    "## Problem 6\n",
    "\n",
    "Complete the definition of `mult` type below based on the axioms $ax1$ and $ax2$."
   ]
  },
  {
   "cell_type": "code",
   "execution_count": 26,
   "metadata": {
    "deletable": false,
    "nbgrader": {
     "cell_type": "code",
     "checksum": "6829d772f0aeb3dd0fbb42c7ee721d26",
     "grade": false,
     "grade_id": "cell-42b8403bd59c1217",
     "locked": false,
     "schema_version": 3,
     "solution": true,
     "task": false
    }
   },
   "outputs": [
    {
     "data": {
      "text/plain": [
       "type (_, _, _) mult =\n",
       "    MultZero : (z, 'n, z) mult\n",
       "  | MultSucc : ('n, 'p, 'o) plus * ('m, 'n, 'p) mult -> ('m s, 'n, 'o) mult\n"
      ]
     },
     "execution_count": 26,
     "metadata": {},
     "output_type": "execute_result"
    }
   ],
   "source": [
    "type (_,_,_) mult =\n",
    "  | MultZero : (z, 'n, z) mult\n",
    "  | MultSucc : ('n,'p,'o) plus * ('m,'n,'p) mult -> ('m s, 'n, 'o) mult\n",
    "  "
   ]
  },
  {
   "cell_type": "code",
   "execution_count": 27,
   "metadata": {
    "deletable": false,
    "editable": false,
    "nbgrader": {
     "cell_type": "code",
     "checksum": "d08c0d69351fb40b3b4993b2572c4dd4",
     "grade": true,
     "grade_id": "cell-3b9e84b186e2803d",
     "locked": true,
     "points": 10,
     "schema_version": 3,
     "solution": false,
     "task": false
    }
   },
   "outputs": [
    {
     "data": {
      "text/plain": [
       "val zero_mult_two_eq_zero : (z, z s s, z) mult = MultZero\n"
      ]
     },
     "execution_count": 27,
     "metadata": {},
     "output_type": "execute_result"
    },
    {
     "data": {
      "text/plain": [
       "val one_mult_two_eq_two : (z s, z s s, z s s) mult =\n",
       "  MultSucc (PlusSucc (PlusSucc PlusZero), MultZero)\n"
      ]
     },
     "execution_count": 27,
     "metadata": {},
     "output_type": "execute_result"
    }
   ],
   "source": [
    "let zero_mult_two_eq_zero : (z, z s s, z) mult = MultZero;;\n",
    "let one_mult_two_eq_two : (z s, z s s, z s s) mult = MultSucc (PlusSucc (PlusSucc PlusZero), MultZero);;"
   ]
  },
  {
   "cell_type": "markdown",
   "metadata": {
    "deletable": false,
    "editable": false,
    "nbgrader": {
     "cell_type": "markdown",
     "checksum": "b07bbebe07c8c696a056446b03586f86",
     "grade": false,
     "grade_id": "cell-a38b038ece8c8a8e",
     "locked": true,
     "schema_version": 3,
     "solution": false,
     "task": false
    }
   },
   "source": [
    "## Problem 7\n",
    "\n",
    "In the following, write down terms (proofs) which have those types (theorems)."
   ]
  },
  {
   "cell_type": "code",
   "execution_count": 28,
   "metadata": {
    "deletable": false,
    "nbgrader": {
     "cell_type": "code",
     "checksum": "5c56dc0142aff15f680b6a3cdc1eac2a",
     "grade": false,
     "grade_id": "cell-876eff982df96872",
     "locked": false,
     "schema_version": 3,
     "solution": true,
     "task": false
    }
   },
   "outputs": [
    {
     "data": {
      "text/plain": [
       "val two_mult_two_eq_four : (z s s, z s s, z s s s s) mult =\n",
       "  MultSucc (PlusSucc (PlusSucc PlusZero),\n",
       "   MultSucc (PlusSucc (PlusSucc PlusZero), MultZero))\n"
      ]
     },
     "execution_count": 28,
     "metadata": {},
     "output_type": "execute_result"
    },
    {
     "data": {
      "text/plain": [
       "val two_mult_one_eq_two : (z s s, z s, z s s) mult =\n",
       "  MultSucc (PlusSucc PlusZero, MultSucc (PlusSucc PlusZero, MultZero))\n"
      ]
     },
     "execution_count": 28,
     "metadata": {},
     "output_type": "execute_result"
    }
   ],
   "source": [
    "let two_mult_two_eq_four : (z s s, z s s, z s s s s) mult =\n",
    "  MultSucc(PlusSucc(PlusSucc(PlusZero)),MultSucc(PlusSucc(PlusSucc(PlusZero)),MultZero))    \n",
    "\n",
    "let two_mult_one_eq_two : (z s s, z s, z s s) mult =\n",
    "  MultSucc(PlusSucc(PlusZero),MultSucc(PlusSucc(PlusZero),MultZero))"
   ]
  },
  {
   "cell_type": "code",
   "execution_count": 29,
   "metadata": {
    "deletable": false,
    "editable": false,
    "nbgrader": {
     "cell_type": "code",
     "checksum": "b586184dbba526147fdae2c1f8e1c67d",
     "grade": true,
     "grade_id": "cell-46b8188d0998b9ad",
     "locked": true,
     "points": 10,
     "schema_version": 3,
     "solution": false,
     "task": false
    }
   },
   "outputs": [
    {
     "data": {
      "text/plain": [
       "val two_mult_two_eq_four : (z s s, z s s, z s s s s) mult =\n",
       "  MultSucc (PlusSucc (PlusSucc PlusZero),\n",
       "   MultSucc (PlusSucc (PlusSucc PlusZero), MultZero))\n"
      ]
     },
     "execution_count": 29,
     "metadata": {},
     "output_type": "execute_result"
    },
    {
     "data": {
      "text/plain": [
       "val two_mult_one_eq_two : (z s s, z s, z s s) mult =\n",
       "  MultSucc (PlusSucc PlusZero, MultSucc (PlusSucc PlusZero, MultZero))\n"
      ]
     },
     "execution_count": 29,
     "metadata": {},
     "output_type": "execute_result"
    }
   ],
   "source": [
    "let two_mult_two_eq_four : (z s s, z s s, z s s s s) mult = two_mult_two_eq_four\n",
    "let two_mult_one_eq_two : (z s s, z s, z s s) mult = two_mult_one_eq_two"
   ]
  },
  {
   "cell_type": "markdown",
   "metadata": {
    "deletable": false,
    "editable": false,
    "nbgrader": {
     "cell_type": "markdown",
     "checksum": "447b2b3b39141553781afad7e4abee4e",
     "grade": false,
     "grade_id": "cell-53d2c06eac4522c3",
     "locked": true,
     "schema_version": 3,
     "solution": false,
     "task": false
    }
   },
   "source": [
    "## Problem 8\n",
    "\n",
    "Implement cross which accepts the multiplication proof as the first argument."
   ]
  },
  {
   "cell_type": "code",
   "execution_count": 30,
   "metadata": {
    "deletable": false,
    "nbgrader": {
     "cell_type": "code",
     "checksum": "3f3a57a3e88b5bb27d98d5576896f4fb",
     "grade": false,
     "grade_id": "cell-c335d0a970fff069",
     "locked": false,
     "schema_version": 3,
     "solution": true,
     "task": false
    }
   },
   "outputs": [
    {
     "data": {
      "text/plain": [
       "val cross :\n",
       "  ('m, 'n, 'o) mult -> ('a, 'm) list -> ('b, 'n) list -> ('a * 'b, 'o) list =\n",
       "  <fun>\n"
      ]
     },
     "execution_count": 30,
     "metadata": {},
     "output_type": "execute_result"
    }
   ],
   "source": [
    "let rec cross : type m n o. (m,n,o) mult -> ('a,m) list -> ('b,n) list -> ('a * 'b, o) list =\n",
    "  fun mobj l1 l2 ->\n",
    "  match mobj, l1 with \n",
    "  | MultZero,Nil -> Nil\n",
    "  | MultSucc(pleq,mleq),Cons(x,xs) -> append (pleq) (cross_v_l x l2)  (cross mleq xs l2)"
   ]
  },
  {
   "cell_type": "code",
   "execution_count": 31,
   "metadata": {
    "deletable": false,
    "editable": false,
    "nbgrader": {
     "cell_type": "code",
     "checksum": "aa13295985ed6a81f7aab8dcd2005bb4",
     "grade": true,
     "grade_id": "cell-98c1de1bd6b2cf71",
     "locked": true,
     "points": 20,
     "schema_version": 3,
     "solution": false,
     "task": false
    }
   },
   "outputs": [
    {
     "data": {
      "text/plain": [
       "- : unit = ()\n"
      ]
     },
     "execution_count": 31,
     "metadata": {},
     "output_type": "execute_result"
    },
    {
     "data": {
      "text/plain": [
       "- : unit = ()\n"
      ]
     },
     "execution_count": 31,
     "metadata": {},
     "output_type": "execute_result"
    }
   ],
   "source": [
    "assert (cross zero_mult_two_eq_zero Nil (Cons (1,Cons(2,Nil))) = Nil);;\n",
    "assert (cross one_mult_two_eq_two (Cons(\"a\", Nil)) (Cons (1,Cons(2,Nil))) =\n",
    "        Cons((\"a\",1), Cons((\"a\",2), Nil)));;"
   ]
  },
  {
   "cell_type": "markdown",
   "metadata": {
    "deletable": false,
    "editable": false,
    "nbgrader": {
     "cell_type": "markdown",
     "checksum": "f9d59dc4cfe31b128d9e303fa1932ca6",
     "grade": false,
     "grade_id": "cell-561926a33c77bfe2",
     "locked": true,
     "schema_version": 3,
     "solution": false,
     "task": false
    }
   },
   "source": [
    "# Zipping\n",
    "\n",
    "You will now implement zip functions that will zip length indexed lists.\n",
    "\n",
    "## Problem 9\n",
    "\n",
    "First, implement zip function that works on the same lengthed lists. Compared to the standard library functions such as `map2` and `iter2`, which raises an `Invalid_argument` exception when the lists are of different lengths, your `zip` function will statically reject lists of different lengths. "
   ]
  },
  {
   "cell_type": "code",
   "execution_count": 32,
   "metadata": {
    "deletable": false,
    "nbgrader": {
     "cell_type": "code",
     "checksum": "a9672cdc177dda664e15e8a6d92824a6",
     "grade": false,
     "grade_id": "cell-ab8a33f65bee4977",
     "locked": false,
     "schema_version": 3,
     "solution": true,
     "task": false
    }
   },
   "outputs": [
    {
     "data": {
      "text/plain": [
       "val zip : ('a, 'n) list -> ('b, 'n) list -> ('a * 'b, 'n) list = <fun>\n"
      ]
     },
     "execution_count": 32,
     "metadata": {},
     "output_type": "execute_result"
    }
   ],
   "source": [
    "let rec zip : type n. ('a,n) list -> ('b,n) list -> ('a *'b, n) list =\n",
    "  fun l1 l2 -> match l1,l2 with\n",
    "    |Nil,Nil -> Nil\n",
    "    |Cons(x1,xl1),Cons(x2,xl2) -> Cons((x1,x2), zip xl1 xl2)"
   ]
  },
  {
   "cell_type": "code",
   "execution_count": 33,
   "metadata": {
    "deletable": false,
    "editable": false,
    "nbgrader": {
     "cell_type": "code",
     "checksum": "d06d607c87150490bac8a667fa0d2822",
     "grade": true,
     "grade_id": "cell-9afaf1453f661ab4",
     "locked": true,
     "points": 10,
     "schema_version": 3,
     "solution": false,
     "task": false
    }
   },
   "outputs": [
    {
     "data": {
      "text/plain": [
       "- : unit = ()\n"
      ]
     },
     "execution_count": 33,
     "metadata": {},
     "output_type": "execute_result"
    }
   ],
   "source": [
    "assert (zip (Cons(1,Cons(2,Nil))) (Cons(\"a\",Cons(\"b\",Nil))) = \n",
    "        Cons((1,\"a\"), Cons((2,\"b\"), Nil)));;"
   ]
  },
  {
   "cell_type": "markdown",
   "metadata": {
    "deletable": false,
    "editable": false,
    "nbgrader": {
     "cell_type": "markdown",
     "checksum": "2471bbcebc8fa31524dacabfb67470ff",
     "grade": false,
     "grade_id": "cell-48a5154d51da1f1d",
     "locked": true,
     "schema_version": 3,
     "solution": false,
     "task": false
    }
   },
   "source": [
    "## Zipping lists of unequal length\n",
    "\n",
    "Let's say we want to allow zipping lists of unequal lengths such that we only zip together the first `n` elements where `n` is the smaller of the lengths of the two lists. For example,\n",
    "\n",
    "```ocaml\n",
    "let rec zip_matching l1 l2 =\n",
    "  match l1,l2 with\n",
    "  | [],_ -> []\n",
    "  | _,[] -> []\n",
    "  | x::xs,y::ys -> (x,y)::zip_matching xs ys\n",
    ";;\n",
    "```\n",
    "\n",
    "```ocaml\n",
    "assert (zip_matching [1;2] [1.0;2.0;3.0] = [(1,1.0);(2;2.0)])\n",
    "```\n",
    "\n",
    "The extra element in the second list are ignored. If the lists are of lengths, `m` and `n`, then the result list is of length `o` where `o` is the minimum of `m` and `n`. We do not have minimum function on type level-numerals. Hence, we will implement them. \n",
    "\n",
    "## Problem 10\n",
    "\n",
    "Implement the `min` type that corresponds to the three cases in the body of the zip_matching function"
   ]
  },
  {
   "cell_type": "code",
   "execution_count": 34,
   "metadata": {
    "deletable": false,
    "nbgrader": {
     "cell_type": "code",
     "checksum": "703e4127915272fa207627aae3f6e164",
     "grade": false,
     "grade_id": "cell-228433196cff0503",
     "locked": false,
     "schema_version": 3,
     "solution": true,
     "task": false
    }
   },
   "outputs": [
    {
     "data": {
      "text/plain": [
       "type (_, _, _) min =\n",
       "    MinZero1 : (z, 'n, z) min\n",
       "  | MinZero2 : ('m, z, z) min\n",
       "  | MinSucc : ('m, 'n, 'l) min -> ('m s, 'n s, 'l s) min\n"
      ]
     },
     "execution_count": 34,
     "metadata": {},
     "output_type": "execute_result"
    }
   ],
   "source": [
    "type (_,_,_) min =\n",
    "  | MinZero1 : (z,'n,z) min\n",
    "  | MinZero2 : ('m,z,z) min\n",
    "  | MinSucc  : ('m,'n,'l) min -> ('m s, 'n s, 'l s) min"
   ]
  },
  {
   "cell_type": "code",
   "execution_count": 35,
   "metadata": {
    "deletable": false,
    "editable": false,
    "nbgrader": {
     "cell_type": "code",
     "checksum": "d5c1bbb7d44b90022af9343577c1a282",
     "grade": true,
     "grade_id": "cell-984ec790a3c204ae",
     "locked": true,
     "points": 10,
     "schema_version": 3,
     "solution": false,
     "task": false
    }
   },
   "outputs": [
    {
     "data": {
      "text/plain": [
       "val min_zero_four_zero : (z, z s s s s, z) min = MinZero1\n"
      ]
     },
     "execution_count": 35,
     "metadata": {},
     "output_type": "execute_result"
    }
   ],
   "source": [
    "let min_zero_four_zero : (z, z s s s s, z) min = MinZero1;;"
   ]
  },
  {
   "cell_type": "markdown",
   "metadata": {
    "deletable": false,
    "editable": false,
    "nbgrader": {
     "cell_type": "markdown",
     "checksum": "cd292d86f8ba21c0eb5d29a6f55fda8c",
     "grade": false,
     "grade_id": "cell-9771434cad4814c3",
     "locked": true,
     "schema_version": 3,
     "solution": false,
     "task": false
    }
   },
   "source": [
    "## Problem 11\n",
    "\n",
    "In the following, write down terms (proofs) which have those types (theorems)."
   ]
  },
  {
   "cell_type": "code",
   "execution_count": 36,
   "metadata": {
    "deletable": false,
    "nbgrader": {
     "cell_type": "code",
     "checksum": "3ec1604f3e0472b8fd0b28d2833ed670",
     "grade": false,
     "grade_id": "cell-f6437981ceea2250",
     "locked": false,
     "schema_version": 3,
     "solution": true,
     "task": false
    }
   },
   "outputs": [
    {
     "data": {
      "text/plain": [
       "val min_three_zero_zero : (z s s s, z, z) min = MinZero2\n"
      ]
     },
     "execution_count": 36,
     "metadata": {},
     "output_type": "execute_result"
    },
    {
     "data": {
      "text/plain": [
       "val min_three_five_eq_three : (z s s s, z s s s s s, z s s s) min =\n",
       "  MinSucc (MinSucc (MinSucc MinZero1))\n"
      ]
     },
     "execution_count": 36,
     "metadata": {},
     "output_type": "execute_result"
    }
   ],
   "source": [
    "let min_three_zero_zero : (z s s s, z, z) min = \n",
    "  MinZero2\n",
    "\n",
    "let min_three_five_eq_three : (z s s s, z s s s s s, z s s s) min = \n",
    "  MinSucc(MinSucc(MinSucc(MinZero1)))"
   ]
  },
  {
   "cell_type": "code",
   "execution_count": 37,
   "metadata": {
    "deletable": false,
    "editable": false,
    "nbgrader": {
     "cell_type": "code",
     "checksum": "ae908fd9f24c20962079efd1911f0bb3",
     "grade": true,
     "grade_id": "cell-e75658a586a1e97b",
     "locked": true,
     "points": 10,
     "schema_version": 3,
     "solution": false,
     "task": false
    }
   },
   "outputs": [
    {
     "data": {
      "text/plain": [
       "val min_three_zero_zero : (z s s s, z, z) min = MinZero2\n"
      ]
     },
     "execution_count": 37,
     "metadata": {},
     "output_type": "execute_result"
    }
   ],
   "source": [
    "let min_three_zero_zero : (z s s s, z, z) min = min_three_zero_zero"
   ]
  },
  {
   "cell_type": "markdown",
   "metadata": {
    "deletable": false,
    "editable": false,
    "nbgrader": {
     "cell_type": "markdown",
     "checksum": "86019c132852ecd3783bffd88fa3f443",
     "grade": false,
     "grade_id": "cell-daf8b6fb13ce7d1b",
     "locked": true,
     "schema_version": 3,
     "solution": false,
     "task": false
    }
   },
   "source": [
    "## Problem 12\n",
    "\n",
    "Implement the `zip_matching` function on length-indexed list:"
   ]
  },
  {
   "cell_type": "code",
   "execution_count": 38,
   "metadata": {
    "deletable": false,
    "nbgrader": {
     "cell_type": "code",
     "checksum": "90cba907651aff0d54ce5662e5af4757",
     "grade": false,
     "grade_id": "cell-94b20ead0513282c",
     "locked": false,
     "schema_version": 3,
     "solution": true,
     "task": false
    }
   },
   "outputs": [
    {
     "data": {
      "text/plain": [
       "val zip_matching :\n",
       "  ('n, 'm, 'o) min -> ('a, 'n) list -> ('b, 'm) list -> ('a * 'b, 'o) list =\n",
       "  <fun>\n"
      ]
     },
     "execution_count": 38,
     "metadata": {},
     "output_type": "execute_result"
    }
   ],
   "source": [
    "let rec zip_matching : type n m o. (n,m,o) min -> ('a, n) list -> ('b, m) list -> ('a * 'b, o) list =\n",
    "  fun minptr l1 l2 -> match minptr,l1,l2 with\n",
    "  |MinZero1,Nil,_ -> Nil\n",
    "  |MinZero2,_,Nil -> Nil\n",
    "  |MinSucc(lol),Cons(x1,xl1),Cons(x2,xl2) -> Cons((x1,x2),zip_matching lol xl1 xl2)"
   ]
  },
  {
   "cell_type": "code",
   "execution_count": 39,
   "metadata": {
    "deletable": false,
    "editable": false,
    "nbgrader": {
     "cell_type": "code",
     "checksum": "78a15f8acea84582fcb5342d5abac461",
     "grade": true,
     "grade_id": "cell-0756c945ee08fed3",
     "locked": true,
     "points": 15,
     "schema_version": 3,
     "solution": false,
     "task": false
    }
   },
   "outputs": [
    {
     "data": {
      "text/plain": [
       "- : unit = ()\n"
      ]
     },
     "execution_count": 39,
     "metadata": {},
     "output_type": "execute_result"
    },
    {
     "data": {
      "text/plain": [
       "- : unit = ()\n"
      ]
     },
     "execution_count": 39,
     "metadata": {},
     "output_type": "execute_result"
    }
   ],
   "source": [
    "assert (zip_matching min_zero_four_zero Nil (Cons(1,(Cons(2,Cons(3,Cons(4,Nil)))))) = Nil);;\n",
    "assert (zip_matching min_three_zero_zero  (Cons(1,(Cons(2,Cons(3,Nil))))) Nil = Nil);;"
   ]
  },
  {
   "cell_type": "markdown",
   "metadata": {
    "deletable": false,
    "editable": false,
    "nbgrader": {
     "cell_type": "markdown",
     "checksum": "5a6825f198ec2d5482f648812dc43f10",
     "grade": false,
     "grade_id": "cell-cfe1b372c23f74ec",
     "locked": true,
     "schema_version": 3,
     "solution": false,
     "task": false
    }
   },
   "source": [
    "# Streams\n",
    "\n",
    "Consider the standard lazy stream definition."
   ]
  },
  {
   "cell_type": "code",
   "execution_count": 40,
   "metadata": {
    "deletable": false,
    "editable": false,
    "nbgrader": {
     "cell_type": "code",
     "checksum": "0d28b9f965e2308ea4aed3e11e0e229f",
     "grade": false,
     "grade_id": "cell-f08965ac167b65d5",
     "locked": true,
     "schema_version": 3,
     "solution": false,
     "task": false
    }
   },
   "outputs": [
    {
     "data": {
      "text/plain": [
       "type 'a stream = Cons of 'a * 'a stream Lazy.t\n"
      ]
     },
     "execution_count": 40,
     "metadata": {},
     "output_type": "execute_result"
    },
    {
     "data": {
      "text/plain": [
       "val hd : 'a stream -> 'a = <fun>\n"
      ]
     },
     "execution_count": 40,
     "metadata": {},
     "output_type": "execute_result"
    },
    {
     "data": {
      "text/plain": [
       "val tl : 'a stream -> 'a stream = <fun>\n"
      ]
     },
     "execution_count": 40,
     "metadata": {},
     "output_type": "execute_result"
    },
    {
     "data": {
      "text/plain": [
       "val take : int -> 'a stream -> 'a list = <fun>\n"
      ]
     },
     "execution_count": 40,
     "metadata": {},
     "output_type": "execute_result"
    }
   ],
   "source": [
    "type 'a stream = Cons of 'a * 'a stream Lazy.t\n",
    "\n",
    "let hd (Cons(x,_)) = x\n",
    "let tl (Cons(x,xs)) = Lazy.force xs\n",
    "let rec take n s =\n",
    "  if n = 0 then []\n",
    "  else hd s::(take (n-1) (tl s))"
   ]
  },
  {
   "cell_type": "markdown",
   "metadata": {
    "deletable": false,
    "editable": false,
    "nbgrader": {
     "cell_type": "markdown",
     "checksum": "05c3e84b2dbfbe218c0e7e52dfbce611",
     "grade": false,
     "grade_id": "cell-8e82b7e0a6662a3b",
     "locked": true,
     "schema_version": 3,
     "solution": false,
     "task": false
    }
   },
   "source": [
    "## Problem 13\n",
    "\n",
    "Define a value `pow2 : int stream` whose elements are the powers of two: `<1; 2; 4; 8; 16, ...>`"
   ]
  },
  {
   "cell_type": "code",
   "execution_count": 41,
   "metadata": {
    "deletable": false,
    "nbgrader": {
     "cell_type": "code",
     "checksum": "daaf7bc6e8b0c8bc7919824fbadcc030",
     "grade": false,
     "grade_id": "cell-828fb6b82d343541",
     "locked": false,
     "schema_version": 3,
     "solution": true,
     "task": false
    }
   },
   "outputs": [
    {
     "data": {
      "text/plain": [
       "val pow2 : int stream = Cons (1, <lazy>)\n"
      ]
     },
     "execution_count": 41,
     "metadata": {},
     "output_type": "execute_result"
    }
   ],
   "source": [
    "let pow2 = \n",
    "  let rec powaux acc = Cons(acc, lazy(powaux (2*acc))) in\n",
    "  powaux 1"
   ]
  },
  {
   "cell_type": "code",
   "execution_count": 42,
   "metadata": {
    "deletable": false,
    "editable": false,
    "nbgrader": {
     "cell_type": "code",
     "checksum": "8a3649f12dc9360cc77b00fc0bd1a6da",
     "grade": true,
     "grade_id": "cell-d5b80ce267a058d0",
     "locked": true,
     "points": 10,
     "schema_version": 3,
     "solution": false,
     "task": false
    }
   },
   "outputs": [
    {
     "data": {
      "text/plain": [
       "- : unit = ()\n"
      ]
     },
     "execution_count": 42,
     "metadata": {},
     "output_type": "execute_result"
    }
   ],
   "source": [
    "assert (List.hd (List.rev (take 10 pow2)) = 512);;"
   ]
  },
  {
   "cell_type": "markdown",
   "metadata": {
    "deletable": false,
    "editable": false,
    "nbgrader": {
     "cell_type": "markdown",
     "checksum": "8eae5891490b4d1563d175bde22b095e",
     "grade": false,
     "grade_id": "cell-ed97539f245b391f",
     "locked": true,
     "schema_version": 3,
     "solution": false,
     "task": false
    }
   },
   "source": [
    "## Problem 14\n",
    "\n",
    "Define a function `interleave : 'a stream -> 'a stream -> 'a stream`, such that `interleave <a1; a2; a3; ...> <b1; b2; b3; ...>` is the stream `<a1; b1; a2; b2; a3; b3; ...>`. For example, `interleave nats pow2` would be `<0; 1; 1; 2; 2; 4; 3; 8; ...>`."
   ]
  },
  {
   "cell_type": "code",
   "execution_count": 43,
   "metadata": {
    "deletable": false,
    "nbgrader": {
     "cell_type": "code",
     "checksum": "0aa9666ca8142d6dc21c0a90b24a003f",
     "grade": false,
     "grade_id": "cell-349b66b63065d086",
     "locked": false,
     "schema_version": 3,
     "solution": true,
     "task": false
    }
   },
   "outputs": [
    {
     "data": {
      "text/plain": [
       "val interleave : 'a stream -> 'a stream -> 'a stream = <fun>\n"
      ]
     },
     "execution_count": 43,
     "metadata": {},
     "output_type": "execute_result"
    }
   ],
   "source": [
    "let rec interleave s1 s2 = \n",
    "  Cons(hd s1,lazy(Cons(hd s2, lazy(interleave (tl s1) (tl s2)))))"
   ]
  },
  {
   "cell_type": "code",
   "execution_count": 44,
   "metadata": {
    "deletable": false,
    "editable": false,
    "nbgrader": {
     "cell_type": "code",
     "checksum": "40c348fe6e44eb62d8b5e467e7b93c29",
     "grade": true,
     "grade_id": "cell-19f182bb80fcb381",
     "locked": true,
     "points": 15,
     "schema_version": 3,
     "solution": false,
     "task": false
    }
   },
   "outputs": [
    {
     "data": {
      "text/plain": [
       "val zeros : int stream = Cons (0, <cycle>)\n"
      ]
     },
     "execution_count": 44,
     "metadata": {},
     "output_type": "execute_result"
    },
    {
     "data": {
      "text/plain": [
       "val ones : int stream = Cons (1, <cycle>)\n"
      ]
     },
     "execution_count": 44,
     "metadata": {},
     "output_type": "execute_result"
    },
    {
     "data": {
      "text/plain": [
       "- : unit = ()\n"
      ]
     },
     "execution_count": 44,
     "metadata": {},
     "output_type": "execute_result"
    }
   ],
   "source": [
    "let rec zeros = Cons(0,lazy zeros)\n",
    "let rec ones = Cons(1,lazy ones);;\n",
    "assert (take 10 (interleave zeros ones) = [0; 1; 0; 1; 0; 1; 0; 1; 0; 1]);;"
   ]
  },
  {
   "cell_type": "markdown",
   "metadata": {
    "deletable": false,
    "editable": false,
    "nbgrader": {
     "cell_type": "markdown",
     "checksum": "ab3fa84b833668c47a6a564d226dc4e3",
     "grade": false,
     "grade_id": "cell-b6e352e2d01a0963",
     "locked": true,
     "schema_version": 3,
     "solution": false,
     "task": false
    }
   },
   "source": [
    "## Approximately e\n",
    "\n",
    "The exponential function  $e^x$  can be computed by the following infinite sum:\n",
    "\n",
    "\\\\[\n",
    "e^x = \\frac{x^0}{0!} + \\frac{x^1}{1!} + \\frac{x^2}{2!} + \\ldots + \\frac{x^k}{k!} + \\ldots\n",
    "\\\\]\n",
    "\n",
    "## Problem 15\n",
    "\n",
    "Define a function `e_terms : float -> float stream`. Element `k` of the stream should be term `k` from the infinite sum. For example, `e_terms 1.0` is the stream `<1.0; 1.0; 0.5; 0.1666...; 0.041666...; ...>`. The easy way to compute that involves a function that computes $f(k)=\\frac{x^k}{k!}$. "
   ]
  },
  {
   "cell_type": "code",
   "execution_count": 45,
   "metadata": {
    "deletable": false,
    "nbgrader": {
     "cell_type": "code",
     "checksum": "70010d2f02cb425f03ccb09131f2b669",
     "grade": false,
     "grade_id": "cell-7e102fd383791cde",
     "locked": false,
     "schema_version": 3,
     "solution": true,
     "task": false
    }
   },
   "outputs": [
    {
     "data": {
      "text/plain": [
       "val e_terms : float -> float stream = <fun>\n"
      ]
     },
     "execution_count": 45,
     "metadata": {},
     "output_type": "execute_result"
    }
   ],
   "source": [
    "let e_terms x = \n",
    "  let rec zip f s1 s2 = Cons(f (hd s1) (hd s2), lazy(zip f (tl s1) (tl s2))) in\n",
    "  let rec factorial n acc = Cons(acc,lazy(factorial (n+.1.0) (acc*.n))) in\n",
    "  let rec xpower x acc = Cons(acc, lazy(xpower x (acc*.x))) in\n",
    "  zip (/.) (xpower x 1.0) (factorial 1.0 1.0)"
   ]
  },
  {
   "cell_type": "code",
   "execution_count": 46,
   "metadata": {
    "deletable": false,
    "editable": false,
    "nbgrader": {
     "cell_type": "code",
     "checksum": "8980d9be243dcf4b2061f0f56ee5832b",
     "grade": true,
     "grade_id": "cell-ec9522b7fab583a1",
     "locked": true,
     "points": 10,
     "schema_version": 3,
     "solution": false,
     "task": false
    }
   },
   "outputs": [
    {
     "data": {
      "text/plain": [
       "- : unit = ()\n"
      ]
     },
     "execution_count": 46,
     "metadata": {},
     "output_type": "execute_result"
    }
   ],
   "source": [
    "assert (List.hd (List.rev (take 10 (e_terms 1.0))) = 2.75573192239858925e-06);;"
   ]
  },
  {
   "cell_type": "markdown",
   "metadata": {
    "deletable": false,
    "editable": false,
    "nbgrader": {
     "cell_type": "markdown",
     "checksum": "793edb759037f0b872e9919678b11589",
     "grade": false,
     "grade_id": "cell-bf31f52d9eda85f3",
     "locked": true,
     "schema_version": 3,
     "solution": false,
     "task": false
    }
   },
   "source": [
    "## Problem 16\n",
    "\n",
    "Define a function `total : float stream -> float stream`, such that `total <a; b; c; ...>` is a running total of the input elements, i.e., `<a; a+.b; a+.b+.c; ...>`."
   ]
  },
  {
   "cell_type": "code",
   "execution_count": 47,
   "metadata": {
    "deletable": false,
    "nbgrader": {
     "cell_type": "code",
     "checksum": "93cfa4cb6384531d16bb8c589b1b3505",
     "grade": false,
     "grade_id": "cell-94741f61efb06414",
     "locked": false,
     "schema_version": 3,
     "solution": true,
     "task": false
    }
   },
   "outputs": [
    {
     "data": {
      "text/plain": [
       "val total : float stream -> float stream = <fun>\n"
      ]
     },
     "execution_count": 47,
     "metadata": {},
     "output_type": "execute_result"
    }
   ],
   "source": [
    "let total s = \n",
    "   let rec totaux acc s = Cons(acc,lazy(totaux (acc +. (hd s)) (tl s))) in\n",
    "   totaux (hd s) (tl s)"
   ]
  },
  {
   "cell_type": "code",
   "execution_count": 48,
   "metadata": {
    "deletable": false,
    "editable": false,
    "nbgrader": {
     "cell_type": "code",
     "checksum": "89756b3236450cade495b71242cd6e15",
     "grade": true,
     "grade_id": "cell-28dbf27382639535",
     "locked": true,
     "points": 15,
     "schema_version": 3,
     "solution": false,
     "task": false
    }
   },
   "outputs": [
    {
     "data": {
      "text/plain": [
       "- : unit = ()\n"
      ]
     },
     "execution_count": 48,
     "metadata": {},
     "output_type": "execute_result"
    }
   ],
   "source": [
    "let rec f x = Cons (x, lazy (f (x+.1.0))) in\n",
    "assert (take 10 (total (f 1.0)) = [1.; 3.; 6.; 10.; 15.; 21.; 28.; 36.; 45.; 55.]);;"
   ]
  },
  {
   "cell_type": "markdown",
   "metadata": {
    "deletable": false,
    "editable": false,
    "nbgrader": {
     "cell_type": "markdown",
     "checksum": "201999d444f9012941f85117e479c163",
     "grade": false,
     "grade_id": "cell-c70bc8fdf44beddb",
     "locked": true,
     "schema_version": 3,
     "solution": false,
     "task": false
    }
   },
   "source": [
    "## Problem 17\n",
    "\n",
    "Define a function `within : float -> float stream -> float`, such that `within eps s` is the first element of `s` for which the absolute difference between that element and the element before it is strictly less than `eps`. If there is no such element, within is permitted not to terminate (i.e., go into an \"infinite loop\"). As a precondition, the tolerance `eps` must be strictly positive. For example, `within 0.1 <1.0; 2.0; 2.5; 2.75; 2.875; 2.9375; 2.96875; ...>` is `2.9375`."
   ]
  },
  {
   "cell_type": "code",
   "execution_count": 49,
   "metadata": {
    "deletable": false,
    "nbgrader": {
     "cell_type": "code",
     "checksum": "a9924078aa28ed47e4cb699adf7840f2",
     "grade": false,
     "grade_id": "cell-f4e48967be8f9898",
     "locked": false,
     "schema_version": 3,
     "solution": true,
     "task": false
    }
   },
   "outputs": [
    {
     "data": {
      "text/plain": [
       "val within : float -> float stream -> float = <fun>\n"
      ]
     },
     "execution_count": 49,
     "metadata": {},
     "output_type": "execute_result"
    }
   ],
   "source": [
    "let rec within eps s =\n",
    "  if((hd (tl s))-.(hd s) < eps)then hd (tl s)\n",
    "  else within eps (tl s)"
   ]
  },
  {
   "cell_type": "code",
   "execution_count": 50,
   "metadata": {
    "deletable": false,
    "editable": false,
    "nbgrader": {
     "cell_type": "code",
     "checksum": "a1657eb488eaa922d09d8ed019318887",
     "grade": true,
     "grade_id": "cell-4caf946505d0634c",
     "locked": true,
     "points": 20,
     "schema_version": 3,
     "solution": false,
     "task": false
    }
   },
   "outputs": [
    {
     "data": {
      "text/plain": [
       "- : unit = ()\n"
      ]
     },
     "execution_count": 50,
     "metadata": {},
     "output_type": "execute_result"
    }
   ],
   "source": [
    "assert (within 1e-15 (total (e_terms 1.0)) = 2.71828182845904553);;"
   ]
  },
  {
   "cell_type": "markdown",
   "metadata": {
    "deletable": false,
    "editable": false,
    "nbgrader": {
     "cell_type": "markdown",
     "checksum": "e1976530791301456babb2a2ab9c13df",
     "grade": false,
     "grade_id": "cell-6ba13c71ecc62878",
     "locked": true,
     "schema_version": 3,
     "solution": false,
     "task": false
    }
   },
   "source": [
    "## Problem 18\n",
    "\n",
    "Finally, define a function `e : float -> float -> float` such that `e x eps` is  $e^x$  computed to within a tolerance of `eps`, which must be strictly positive. Note that there is an interesting boundary case where `x=1.0` for the first two terms of the sum; you could choose to drop the first term (which is always 1.0) from the stream before using `within`."
   ]
  },
  {
   "cell_type": "code",
   "execution_count": 51,
   "metadata": {
    "deletable": false,
    "nbgrader": {
     "cell_type": "code",
     "checksum": "9bf7ebe4226da4d5cfb3e400a1bb2b9a",
     "grade": false,
     "grade_id": "cell-c33b013820002d0c",
     "locked": false,
     "schema_version": 3,
     "solution": true,
     "task": false
    }
   },
   "outputs": [
    {
     "data": {
      "text/plain": [
       "val e : float -> float -> float = <fun>\n"
      ]
     },
     "execution_count": 51,
     "metadata": {},
     "output_type": "execute_result"
    }
   ],
   "source": [
    "let e x eps = \n",
    "  let taylor = total ( e_terms x) in\n",
    "  within eps taylor"
   ]
  },
  {
   "cell_type": "code",
   "execution_count": 52,
   "metadata": {
    "deletable": false,
    "editable": false,
    "nbgrader": {
     "cell_type": "code",
     "checksum": "9c6ab55e9d34179d033594e9f8faf39f",
     "grade": true,
     "grade_id": "cell-13a9b0ef092dddbe",
     "locked": true,
     "points": 10,
     "schema_version": 3,
     "solution": false,
     "task": false
    }
   },
   "outputs": [
    {
     "data": {
      "text/plain": [
       "- : unit = ()\n"
      ]
     },
     "execution_count": 52,
     "metadata": {},
     "output_type": "execute_result"
    }
   ],
   "source": [
    "assert (e 1.0 1e-15 = 2.71828182845904553);;"
   ]
  },
  {
   "cell_type": "code",
   "execution_count": null,
   "metadata": {},
   "outputs": [],
   "source": []
  },
  {
   "cell_type": "code",
   "execution_count": null,
   "metadata": {},
   "outputs": [],
   "source": []
  },
  {
   "cell_type": "code",
   "execution_count": null,
   "metadata": {},
   "outputs": [],
   "source": []
  }
 ],
 "metadata": {
  "kernelspec": {
   "display_name": "OCaml 4.07.1",
   "language": "OCaml",
   "name": "ocaml-jupyter"
  },
  "language_info": {
   "codemirror_mode": "text/x-ocaml",
   "file_extension": ".ml",
   "mimetype": "text/x-ocaml",
   "name": "OCaml",
   "nbconverter_exporter": null,
   "pygments_lexer": "OCaml",
   "version": "4.07.1"
  }
 },
 "nbformat": 4,
 "nbformat_minor": 2
}
