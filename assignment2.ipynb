{
 "cells": [
  {
   "cell_type": "markdown",
   "metadata": {},
   "source": [
    "Before you turn this problem in, make sure everything runs as expected. First, **restart the kernel** (in the menubar, select Kernel$\\rightarrow$Restart) and then **run all cells** (in the menubar, select Cell$\\rightarrow$Run All).\n",
    "\n",
    "Make sure you fill in any place that says `YOUR CODE HERE` or \"YOUR ANSWER HERE\", as well as your name below:"
   ]
  },
  {
   "cell_type": "code",
   "execution_count": 1,
   "metadata": {},
   "outputs": [
    {
     "name": "stdout",
     "output_type": "stream",
     "text": [
      "Findlib has been successfully loaded. Additional directives:\n",
      "  #require \"package\";;      to load a package\n",
      "  #list;;                   to list the available packages\n",
      "  #camlp4o;;                to load camlp4 (standard syntax)\n",
      "  #camlp4r;;                to load camlp4 (revised syntax)\n",
      "  #predicates \"p,q,...\";;   to set these predicates\n",
      "  Topfind.reset();;         to force that packages will be reloaded\n",
      "  #thread;;                 to enable threads\n",
      "\n"
     ]
    },
    {
     "data": {
      "text/plain": [
       "val name : string = \"Vimarsh Sathia\"\n"
      ]
     },
     "execution_count": 1,
     "metadata": {},
     "output_type": "execute_result"
    },
    {
     "data": {
      "text/plain": [
       "val rollno : string = \"CS17B046\"\n"
      ]
     },
     "execution_count": 1,
     "metadata": {},
     "output_type": "execute_result"
    }
   ],
   "source": [
    "let name = \"Vimarsh Sathia\"\n",
    "let rollno = \"CS17B046\""
   ]
  },
  {
   "cell_type": "markdown",
   "metadata": {},
   "source": [
    "## Important notes about grading:\n",
    "\n",
    "1. **Compiler errors:** All code you submit must compile. Programs that do not compile will probably receive an automatic zero. If you are having trouble getting your assignment to compile, please visit consulting hours. If you run out of time, it is better to comment out the parts that do not compile, than hand in a more complete file that does not compile.\n",
    "2. **Late assignments:** Please carefully review the course website's policy on late assignments, as all assignments handed in after the deadline will be considered late. Verify on moodle that you have submitted the correct version, before the deadline. Submitting the incorrect version before the deadline and realizing that you have done so after the deadline will be counted as a late submission."
   ]
  },
  {
   "cell_type": "markdown",
   "metadata": {
    "deletable": false,
    "editable": false,
    "nbgrader": {
     "checksum": "770eb84e794eb6ca02df6a1da06583f5",
     "grade": false,
     "grade_id": "cell-7c7cac7907d9700a",
     "locked": true,
     "schema_version": 1,
     "solution": false
    }
   },
   "source": [
    "# Lambda Calculus Interpreter\n",
    "\n",
    "In this assignment, you will implement lambda calculus interpreters that use different reduction strategies. The abstract syntax tree (AST) for lambda expressions is the one that we have seen in class:\n",
    "\n",
    "\n",
    "```ocaml\n",
    "type expr = \n",
    "  | Var of string\n",
    "  | Lam of string * expr\n",
    "  | App of expr * expr\n",
    "```\n",
    "\n",
    "\n",
    "You are provided a parser function `parse_string` that converts a string to this AST and a printer function `string_of_expr` that converts the AST to string. For example, "
   ]
  },
  {
   "cell_type": "code",
   "execution_count": 2,
   "metadata": {
    "deletable": false,
    "editable": false,
    "nbgrader": {
     "checksum": "52ec513522bbeea55ff57211ad27443f",
     "grade": false,
     "grade_id": "cell-23e1b5549d80c9d4",
     "locked": true,
     "schema_version": 1,
     "solution": false
    }
   },
   "outputs": [
    {
     "name": "stdout",
     "output_type": "stream",
     "text": [
      "val alpha_equiv : Syntax.expr -> Syntax.expr -> bool = <fun>\n"
     ]
    },
    {
     "data": {
      "text/plain": [
       "val parse_string : string -> Syntax.expr = <fun>\n"
      ]
     },
     "execution_count": 2,
     "metadata": {},
     "output_type": "execute_result"
    },
    {
     "data": {
      "text/plain": [
       "val string_of_expr : Syntax.expr -> string = <fun>\n"
      ]
     },
     "execution_count": 2,
     "metadata": {},
     "output_type": "execute_result"
    },
    {
     "data": {
      "text/plain": [
       "- : Syntax.expr = App (Lam (\"x\", Var \"x\"), Lam (\"y\", Var \"y\"))\n"
      ]
     },
     "execution_count": 2,
     "metadata": {},
     "output_type": "execute_result"
    },
    {
     "data": {
      "text/plain": [
       "- : string = \"x (λy.y x)\"\n"
      ]
     },
     "execution_count": 2,
     "metadata": {},
     "output_type": "execute_result"
    }
   ],
   "source": [
    "#use \"init.ml\"\n",
    "open Syntax\n",
    "let parse_string = Lambda_parse.parse_string\n",
    "let string_of_expr = string_of_expr\n",
    "\n",
    "let _ = parse_string \"(\\\\x.x) (\\\\y.y)\"\n",
    "let _ = string_of_expr (App (Var \"x\",Lam(\"y\",App(Var \"y\", Var \"x\"))))"
   ]
  },
  {
   "cell_type": "markdown",
   "metadata": {
    "deletable": false,
    "editable": false,
    "nbgrader": {
     "checksum": "ea998f1dd614d8045a3c365e5142a6fd",
     "grade": false,
     "grade_id": "cell-194c2c247afe7d06",
     "locked": true,
     "schema_version": 1,
     "solution": false
    }
   },
   "source": [
    "You will need some helper functions to operate over sets. Since we have not studied set data structure in OCaml. We will use lists instead and implement set functionality on top of lists. You can use the functions from the OCaml list standard library for this assignment. The documentation for OCaml list module is available in the [OCaml manual](https://caml.inria.fr/pub/docs/manual-ocaml/libref/List.html). "
   ]
  },
  {
   "cell_type": "markdown",
   "metadata": {
    "deletable": false,
    "editable": false,
    "nbgrader": {
     "checksum": "bf1003bf6e6578d15846a3309d6d4b36",
     "grade": false,
     "grade_id": "cell-32cbd4bef27f6b23",
     "locked": true,
     "schema_version": 1,
     "solution": false
    }
   },
   "source": [
    "## Problem 1\n",
    "\n",
    "Implement a function\n",
    "\n",
    "```ocaml\n",
    "mem : 'a -> 'a list -> bool\n",
    "```\n",
    "\n",
    "`mem e l` returns `true` if the element `e` is present in the list. Otherwise, it returns false. "
   ]
  },
  {
   "cell_type": "code",
   "execution_count": 3,
   "metadata": {
    "deletable": false,
    "nbgrader": {
     "checksum": "3060e7d02c9b25181a4a4bdb1d2c2952",
     "grade": false,
     "grade_id": "cell-206225a8fc096ef3",
     "locked": false,
     "schema_version": 1,
     "solution": true
    }
   },
   "outputs": [
    {
     "data": {
      "text/plain": [
       "val mem : 'a -> 'a list -> bool = <fun>\n"
      ]
     },
     "execution_count": 3,
     "metadata": {},
     "output_type": "execute_result"
    }
   ],
   "source": [
    "let rec mem e l = \n",
    "    match l with\n",
    "    |[] -> false\n",
    "    |h::t-> \n",
    "        if h=e then true\n",
    "        else (mem e t)  \n",
    ";;"
   ]
  },
  {
   "cell_type": "code",
   "execution_count": 4,
   "metadata": {
    "deletable": false,
    "editable": false,
    "nbgrader": {
     "checksum": "3395915a94cdf32977ccd1bda35c0a91",
     "grade": true,
     "grade_id": "cell-625148cc24b57f40",
     "locked": true,
     "points": 5,
     "schema_version": 1,
     "solution": false
    }
   },
   "outputs": [
    {
     "data": {
      "text/plain": [
       "- : unit = ()\n"
      ]
     },
     "execution_count": 4,
     "metadata": {},
     "output_type": "execute_result"
    }
   ],
   "source": [
    "assert (mem \"b\" [\"a\";\"b\";\"c\"] = true);\n",
    "assert (mem \"x\" [\"a\";\"b\";\"c\"] = false)"
   ]
  },
  {
   "cell_type": "markdown",
   "metadata": {
    "deletable": false,
    "editable": false,
    "nbgrader": {
     "checksum": "3430c0ab7718078909e38a05b8632a28",
     "grade": false,
     "grade_id": "cell-1ec7266a6b861156",
     "locked": true,
     "schema_version": 1,
     "solution": false
    }
   },
   "source": [
    "## Problem 2\n",
    "\n",
    "Implement a function\n",
    "\n",
    "```ocaml\n",
    "remove : 'a -> 'a list -> 'a list\n",
    "```\n",
    "\n",
    "`remove e l` returns a list `l'` with all the element in `l` except `e`. `remove` also preserves the order of the elements not removed. If `e` is not present in `l`, then return `l`."
   ]
  },
  {
   "cell_type": "code",
   "execution_count": 5,
   "metadata": {
    "deletable": false,
    "nbgrader": {
     "checksum": "53f1a34be37a26d5361a6e431e99c1e7",
     "grade": false,
     "grade_id": "cell-3d615242df1b1ad1",
     "locked": false,
     "schema_version": 1,
     "solution": true
    }
   },
   "outputs": [
    {
     "data": {
      "text/plain": [
       "val remove : 'a -> 'a list -> 'a list = <fun>\n"
      ]
     },
     "execution_count": 5,
     "metadata": {},
     "output_type": "execute_result"
    }
   ],
   "source": [
    "let rec remove e l = \n",
    "  match l with\n",
    "  |[] -> []\n",
    "  |h::t -> if h=e then t\n",
    "           else h::(remove e t) "
   ]
  },
  {
   "cell_type": "code",
   "execution_count": 6,
   "metadata": {
    "deletable": false,
    "editable": false,
    "nbgrader": {
     "checksum": "474f76c2feeb8fc99a50c0ce664321b6",
     "grade": true,
     "grade_id": "cell-815b5c339ce6eec3",
     "locked": true,
     "points": 5,
     "schema_version": 1,
     "solution": false
    }
   },
   "outputs": [
    {
     "data": {
      "text/plain": [
       "- : unit = ()\n"
      ]
     },
     "execution_count": 6,
     "metadata": {},
     "output_type": "execute_result"
    }
   ],
   "source": [
    "assert (remove \"b\" [\"a\";\"b\";\"c\"] = [\"a\";\"c\"]);\n",
    "assert (remove \"x\" [\"a\";\"b\";\"c\"] = [\"a\";\"b\";\"c\"])"
   ]
  },
  {
   "cell_type": "markdown",
   "metadata": {
    "deletable": false,
    "editable": false,
    "nbgrader": {
     "checksum": "2cc6e63bb83f6c5d644a0983f3993201",
     "grade": false,
     "grade_id": "cell-c33b1d8b7804ea79",
     "locked": true,
     "schema_version": 1,
     "solution": false
    }
   },
   "source": [
    "## Problem 3\n",
    "\n",
    "Implement a function\n",
    "\n",
    "```ocaml\n",
    "union : string list -> string list -> string list\n",
    "```\n",
    "\n",
    "`union l1 l2` performs set union of elements in `l1` and `l2`. The elements in the result list `l` must be lexicographically sorted. Hint: You may want to use the functions `List.sort` and `remove_stutter` from assignment 1 to implement union. Here is an example of using `List.sort`. "
   ]
  },
  {
   "cell_type": "code",
   "execution_count": 7,
   "metadata": {
    "deletable": false,
    "editable": false,
    "nbgrader": {
     "checksum": "7ffc0220b4463a829ac120e15090ee3a",
     "grade": false,
     "grade_id": "cell-873b9c400e58dce1",
     "locked": true,
     "schema_version": 1,
     "solution": false
    }
   },
   "outputs": [
    {
     "data": {
      "text/plain": [
       "- : unit = ()\n"
      ]
     },
     "execution_count": 7,
     "metadata": {},
     "output_type": "execute_result"
    }
   ],
   "source": [
    "assert (List.sort String.compare [\"x\";\"a\";\"b\";\"m\"] = [\"a\";\"b\";\"m\";\"x\"])"
   ]
  },
  {
   "cell_type": "code",
   "execution_count": 8,
   "metadata": {},
   "outputs": [
    {
     "data": {
      "text/plain": [
       "- : String.t list = [\"a\"; \"b\"; \"m\"; \"x\"]\n"
      ]
     },
     "execution_count": 8,
     "metadata": {},
     "output_type": "execute_result"
    }
   ],
   "source": [
    "List.sort String.compare [\"x\";\"a\";\"b\";\"m\"];;"
   ]
  },
  {
   "cell_type": "code",
   "execution_count": 9,
   "metadata": {
    "deletable": false,
    "nbgrader": {
     "checksum": "7b5e05e21bee06a5f15b188edd36fdac",
     "grade": false,
     "grade_id": "cell-e498f15f8517e45a",
     "locked": false,
     "schema_version": 1,
     "solution": true
    }
   },
   "outputs": [
    {
     "data": {
      "text/plain": [
       "val remove_stutter : 'a list -> 'a list = <fun>\n"
      ]
     },
     "execution_count": 9,
     "metadata": {},
     "output_type": "execute_result"
    },
    {
     "data": {
      "text/plain": [
       "val union : String.t list -> String.t list -> String.t list = <fun>\n"
      ]
     },
     "execution_count": 9,
     "metadata": {},
     "output_type": "execute_result"
    }
   ],
   "source": [
    "let rec remove_stutter l =\n",
    "  match l with \n",
    "  |[] -> []\n",
    "  |curr::next::t ->\n",
    "    if(curr=next)then remove_stutter ([curr]@t)\n",
    "    else [curr]@remove_stutter([next]@t)\n",
    "  |curr::[]->[curr]\n",
    ";;\n",
    "\n",
    "let rec union l1 l2 = \n",
    "  let a = l1@l2 in\n",
    "    let b = List.sort String.compare a in\n",
    "      remove_stutter b\n",
    ";;"
   ]
  },
  {
   "cell_type": "code",
   "execution_count": 10,
   "metadata": {
    "deletable": false,
    "editable": false,
    "nbgrader": {
     "checksum": "c6752b8dbb4a353bd075571dd102bb31",
     "grade": true,
     "grade_id": "cell-42c81525ae442418",
     "locked": true,
     "points": 5,
     "schema_version": 1,
     "solution": false
    }
   },
   "outputs": [
    {
     "data": {
      "text/plain": [
       "- : unit = ()\n"
      ]
     },
     "execution_count": 10,
     "metadata": {},
     "output_type": "execute_result"
    }
   ],
   "source": [
    "assert (union [\"a\"; \"c\"; \"b\"] [\"d\"; \"b\"; \"x\"; \"a\"] = [\"a\"; \"b\"; \"c\"; \"d\"; \"x\"])"
   ]
  },
  {
   "cell_type": "markdown",
   "metadata": {
    "deletable": false,
    "editable": false,
    "nbgrader": {
     "checksum": "610b8144a0c8533db3c7eb8664901eda",
     "grade": false,
     "grade_id": "cell-34fcea53b9616cb9",
     "locked": true,
     "schema_version": 1,
     "solution": false
    }
   },
   "source": [
    "## Problem 4\n",
    "\n",
    "Implement a function\n",
    "\n",
    "```ocaml\n",
    "add : 'a -> 'a list -> 'a list\n",
    "```\n",
    "\n",
    "`add e l` does a set addition of element `e` to list `l` and returns a list. The resultant list is sorted. "
   ]
  },
  {
   "cell_type": "code",
   "execution_count": 11,
   "metadata": {
    "deletable": false,
    "nbgrader": {
     "checksum": "93d2ecd4e5da7e475aaad9bc4f023ed5",
     "grade": false,
     "grade_id": "cell-de42368283c8797d",
     "locked": false,
     "schema_version": 1,
     "solution": true
    }
   },
   "outputs": [
    {
     "data": {
      "text/plain": [
       "val add : String.t -> String.t list -> String.t list = <fun>\n"
      ]
     },
     "execution_count": 11,
     "metadata": {},
     "output_type": "execute_result"
    }
   ],
   "source": [
    "let add e l =\n",
    "  let ans = [e]@l in\n",
    "    remove_stutter (List.sort String.compare ans)\n",
    ";;"
   ]
  },
  {
   "cell_type": "code",
   "execution_count": 12,
   "metadata": {
    "deletable": false,
    "editable": false,
    "nbgrader": {
     "checksum": "64e1b69f7d4f8e775d75d96d34f8e250",
     "grade": true,
     "grade_id": "cell-635dea866c593bca",
     "locked": true,
     "points": 5,
     "schema_version": 1,
     "solution": false
    }
   },
   "outputs": [
    {
     "data": {
      "text/plain": [
       "- : unit = ()\n"
      ]
     },
     "execution_count": 12,
     "metadata": {},
     "output_type": "execute_result"
    }
   ],
   "source": [
    "assert (add \"b\" [\"a\";\"c\"] = [\"a\";\"b\";\"c\"]);\n",
    "assert (add \"a\" [\"c\"; \"a\"] = [\"a\";\"c\"])"
   ]
  },
  {
   "cell_type": "markdown",
   "metadata": {
    "deletable": false,
    "editable": false,
    "nbgrader": {
     "checksum": "874843b413803eb8a2ace0de6417806b",
     "grade": false,
     "grade_id": "cell-f1dd9619dc756101",
     "locked": true,
     "schema_version": 1,
     "solution": false
    }
   },
   "source": [
    "## Substitution\n",
    "\n",
    "At the heart of reducing lambda expressions is substitution. Recall from the lecture that substitution requires us to generate fresh variable names that is different from every other name used in the current context. We will use the following helper function to generate fresh names."
   ]
  },
  {
   "cell_type": "code",
   "execution_count": 13,
   "metadata": {
    "deletable": false,
    "editable": false,
    "nbgrader": {
     "checksum": "9c31a25af601396b5f2822c275dd936e",
     "grade": false,
     "grade_id": "cell-3b59cbec9a54505f",
     "locked": true,
     "schema_version": 1,
     "solution": false
    }
   },
   "outputs": [
    {
     "data": {
      "text/plain": [
       "val r : int ref = {contents = 0}\n"
      ]
     },
     "execution_count": 13,
     "metadata": {},
     "output_type": "execute_result"
    },
    {
     "data": {
      "text/plain": [
       "val fresh : string -> string = <fun>\n"
      ]
     },
     "execution_count": 13,
     "metadata": {},
     "output_type": "execute_result"
    }
   ],
   "source": [
    "let r = ref 0                                                                       \n",
    "                                                                                    \n",
    "let fresh s =                                                                       \n",
    "  let v = !r in                                                                     \n",
    "  r := !r + 1;                                                                      \n",
    "  s ^ (string_of_int v)"
   ]
  },
  {
   "cell_type": "markdown",
   "metadata": {
    "deletable": false,
    "editable": false,
    "nbgrader": {
     "checksum": "f2a0457a468910ece58905ff5117eee0",
     "grade": false,
     "grade_id": "cell-74338145db045aa3",
     "locked": true,
     "schema_version": 1,
     "solution": false
    }
   },
   "source": [
    "It uses mutability features of OCaml which we will study in later lectures. You can use the `fresh` function as follows:"
   ]
  },
  {
   "cell_type": "code",
   "execution_count": 14,
   "metadata": {
    "deletable": false,
    "editable": false,
    "nbgrader": {
     "checksum": "d2d2e6ab5efd126ac6bba0b20306615d",
     "grade": false,
     "grade_id": "cell-5b0d0f27bb9cce3e",
     "locked": true,
     "schema_version": 1,
     "solution": false
    }
   },
   "outputs": [
    {
     "data": {
      "text/plain": [
       "val a : string = \"a0\"\n"
      ]
     },
     "execution_count": 14,
     "metadata": {},
     "output_type": "execute_result"
    },
    {
     "data": {
      "text/plain": [
       "val b : string = \"b1\"\n"
      ]
     },
     "execution_count": 14,
     "metadata": {},
     "output_type": "execute_result"
    }
   ],
   "source": [
    "let a = fresh \"a\"\n",
    "let b = fresh \"b\""
   ]
  },
  {
   "cell_type": "markdown",
   "metadata": {
    "deletable": false,
    "editable": false,
    "nbgrader": {
     "checksum": "5f8908994bdeb653bf6e80302ae264ee",
     "grade": false,
     "grade_id": "cell-f675a808f6af1a01",
     "locked": true,
     "schema_version": 1,
     "solution": false
    }
   },
   "source": [
    "## Problem 5\n",
    "\n",
    "Implement a function \n",
    "\n",
    "```ocaml\n",
    "free_variables: expr -> string list\n",
    "```\n",
    "\n",
    "that returns the free variables in the given lambda term."
   ]
  },
  {
   "cell_type": "code",
   "execution_count": 15,
   "metadata": {
    "deletable": false,
    "nbgrader": {
     "checksum": "bbbc57331ae306d5f6e5fbf6d82ac2dd",
     "grade": false,
     "grade_id": "cell-8ad0bb22f3fca6ed",
     "locked": false,
     "schema_version": 1,
     "solution": true
    }
   },
   "outputs": [
    {
     "data": {
      "text/plain": [
       "val free_variables : Syntax.expr -> String.t list = <fun>\n"
      ]
     },
     "execution_count": 15,
     "metadata": {},
     "output_type": "execute_result"
    }
   ],
   "source": [
    "let rec free_variables e = \n",
    "  match e with\n",
    "  |Var(x) -> [x]\n",
    "  |Lam(x,t1) -> remove x (free_variables t1)\n",
    "  |App(t1,t2) -> union (free_variables t1) (free_variables t2) "
   ]
  },
  {
   "cell_type": "code",
   "execution_count": 16,
   "metadata": {
    "deletable": false,
    "editable": false,
    "nbgrader": {
     "checksum": "99fc0aae0237f93d8e0343e46bc66178",
     "grade": true,
     "grade_id": "cell-67d38d859ec6173a",
     "locked": true,
     "points": 20,
     "schema_version": 1,
     "solution": false
    }
   },
   "outputs": [
    {
     "data": {
      "text/plain": [
       "- : unit = ()\n"
      ]
     },
     "execution_count": 16,
     "metadata": {},
     "output_type": "execute_result"
    }
   ],
   "source": [
    "assert (free_variables (parse_string \"\\\\x.x\") = []);\n",
    "assert (free_variables (parse_string \"\\\\x.y\") = [\"y\"])"
   ]
  },
  {
   "cell_type": "markdown",
   "metadata": {
    "deletable": false,
    "editable": false,
    "nbgrader": {
     "checksum": "732ac64fa5642a78b67989abd8d19f95",
     "grade": false,
     "grade_id": "cell-1c48542a53d45ed8",
     "locked": true,
     "schema_version": 1,
     "solution": false
    }
   },
   "source": [
    "## Problem 6\n",
    "\n",
    "Implement the function\n",
    "\n",
    "```ocaml\n",
    "substitute : expr -> string -> expr -> expr\n",
    "```\n",
    "\n",
    "where `substitute e x v` does `e[v/x]`. For renaming `x` in `Lam(x,y)` with a fresh name, use `Lam (fresh x, ...)`."
   ]
  },
  {
   "cell_type": "code",
   "execution_count": 17,
   "metadata": {
    "deletable": false,
    "nbgrader": {
     "checksum": "93aff9389a02e5135e33bafc9ef9dae2",
     "grade": false,
     "grade_id": "cell-c659e5c57a377290",
     "locked": false,
     "schema_version": 1,
     "solution": true
    }
   },
   "outputs": [
    {
     "data": {
      "text/plain": [
       "val substitute : Syntax.expr -> string -> Syntax.expr -> Syntax.expr = <fun>\n"
      ]
     },
     "execution_count": 17,
     "metadata": {},
     "output_type": "execute_result"
    }
   ],
   "source": [
    "let rec substitute expr x s =\n",
    "  match expr with\n",
    "  |Var(y) -> if(y=x)then s else Var(y)\n",
    "  |Lam(y,t1) -> if (y=x) then Lam(y,t1)\n",
    "                else \n",
    "                  if (mem y (free_variables s)) then \n",
    "                    let w = fresh y in\n",
    "                      let tw = substitute t1 y (Var(w)) in\n",
    "                        Lam(w, substitute tw x s) \n",
    "                else Lam(y,substitute t1 x s)\n",
    "  |App(t1,t2) -> App ((substitute t1 x s) , (substitute t2 x s))"
   ]
  },
  {
   "cell_type": "code",
   "execution_count": 18,
   "metadata": {
    "deletable": false,
    "editable": false,
    "nbgrader": {
     "checksum": "20f0d3915861882df8a0beab13a6ac92",
     "grade": true,
     "grade_id": "cell-d15558191ca8be99",
     "locked": true,
     "points": 20,
     "schema_version": 1,
     "solution": false
    }
   },
   "outputs": [
    {
     "data": {
      "text/plain": [
       "- : unit = ()\n"
      ]
     },
     "execution_count": 18,
     "metadata": {},
     "output_type": "execute_result"
    }
   ],
   "source": [
    "assert (alpha_equiv \n",
    "          (substitute (parse_string \"\\\\y.x\") \"x\" (parse_string \"\\\\z.z w\")) \n",
    "          (parse_string \"λy.λz.z w\"));\n",
    "assert (alpha_equiv \n",
    "          (substitute (parse_string \"\\\\x.x\") \"x\" (parse_string \"y\"))\n",
    "          (parse_string \"λx.x\"));\n",
    "assert (alpha_equiv \n",
    "          (substitute (parse_string \"\\\\x.y\") \"y\" (parse_string \"x\"))\n",
    "          (parse_string \"λx0.x\"))"
   ]
  },
  {
   "cell_type": "markdown",
   "metadata": {
    "deletable": false,
    "editable": false,
    "nbgrader": {
     "checksum": "642dfb1cfd354af09e0c75ce01b8e15f",
     "grade": false,
     "grade_id": "cell-3b42c7f4e25aa1eb",
     "locked": true,
     "schema_version": 1,
     "solution": false
    }
   },
   "source": [
    "## Problem 7\n",
    "\n",
    "Implement a single step of the call-by-value reduction. Implement the function\n",
    "\n",
    "```ocaml\n",
    "reduce_cbv : expr -> expr * bool\n",
    "```\n",
    "\n",
    "which does a single step of the call-by-value reduction. Recall that call-by-value reduction is determinisitic. Hence, if reduction is possible, then a single rule applies. `reduce e` returns `(e', true)` if reduction is possible and `e'` is the new expression. `reduce e` returns `(e, false)` if reduction is not possible."
   ]
  },
  {
   "cell_type": "code",
   "execution_count": 19,
   "metadata": {
    "deletable": false,
    "nbgrader": {
     "checksum": "5f9ae9f82e94ac618fb17a476f829850",
     "grade": false,
     "grade_id": "cell-f0a4289c56a6e0c2",
     "locked": false,
     "schema_version": 1,
     "solution": true
    }
   },
   "outputs": [
    {
     "data": {
      "text/plain": [
       "val first : 'a * 'b -> 'a = <fun>\n"
      ]
     },
     "execution_count": 19,
     "metadata": {},
     "output_type": "execute_result"
    },
    {
     "data": {
      "text/plain": [
       "val second : 'a * 'b -> 'b = <fun>\n"
      ]
     },
     "execution_count": 19,
     "metadata": {},
     "output_type": "execute_result"
    },
    {
     "data": {
      "text/plain": [
       "val reduce_cbv : Syntax.expr -> Syntax.expr * bool = <fun>\n"
      ]
     },
     "execution_count": 19,
     "metadata": {},
     "output_type": "execute_result"
    }
   ],
   "source": [
    "let first (e,flag) = e;;\n",
    "let second (e,flag) = flag;;\n",
    "\n",
    "let rec reduce_cbv e =\n",
    "  match e with\n",
    "  | Var(x)   -> (e,false)\n",
    "  | Lam(x,m) -> (e,false)\n",
    "  | App(m,n) -> \n",
    "      let m1 = reduce_cbv m in\n",
    "        let n1 = reduce_cbv n in\n",
    "          if second m1 then\n",
    "            (App((first m1),n),true)\n",
    "          else if second n1 then\n",
    "            (App(m,(first n1)),true)\n",
    "          else match m with \n",
    "              |Lam(x1,p1) ->((substitute p1 x1 n),true)(*actual reduction step*)\n",
    "              |Var(x) -> (e,false)\n",
    "              |App(t1,t2)  -> (e,false)"
   ]
  },
  {
   "cell_type": "code",
   "execution_count": 20,
   "metadata": {
    "deletable": false,
    "editable": false,
    "nbgrader": {
     "checksum": "786497fa0bffdd2cdeb34c5a8af91779",
     "grade": true,
     "grade_id": "cell-653a749cafdc8a78",
     "locked": true,
     "points": 20,
     "schema_version": 1,
     "solution": false
    }
   },
   "outputs": [
    {
     "data": {
      "text/plain": [
       "- : unit = ()\n"
      ]
     },
     "execution_count": 20,
     "metadata": {},
     "output_type": "execute_result"
    }
   ],
   "source": [
    "let expr, reduced = reduce_cbv (parse_string \"(\\\\x.x) ((\\\\x.x) (\\\\z.(\\\\x.x) z))\") in\n",
    "assert (reduced = true &&\n",
    "        alpha_equiv expr (parse_string \"(λx.x) (λz.(λx.x) z)\"));\n",
    "        \n",
    "let expr, reduced = reduce_cbv (parse_string \"(λx.x) (λz.(λx.x) z)\") in\n",
    "assert (reduced = true &&\n",
    "        alpha_equiv expr (parse_string \"λz.(λx.x) z\"));\n",
    "        \n",
    "let expr, reduced = reduce_cbv (parse_string \"λz.(λx.x) z\") in\n",
    "assert (reduced = false &&\n",
    "        alpha_equiv expr (parse_string \"λz.(λx.x) z\"));\n",
    "        \n",
    "let expr, reduced = reduce_cbv (parse_string \"(λx.y) ((λx.x x) (λx.x x))\") in\n",
    "assert (reduced = true &&\n",
    "        alpha_equiv expr (parse_string \"(λx.y) ((λx.x x) (λx.x x))\"));\n",
    "\n",
    "let expr, reduced = reduce_cbv (parse_string \"x y z\") in\n",
    "assert (reduced = false &&\n",
    "        alpha_equiv expr (parse_string \"x y z\"))\n"
   ]
  },
  {
   "cell_type": "markdown",
   "metadata": {
    "deletable": false,
    "editable": false,
    "nbgrader": {
     "checksum": "cc9a4606c477ad0a4de30757b618f920",
     "grade": false,
     "grade_id": "cell-1cdb7ff49469bd21",
     "locked": true,
     "schema_version": 1,
     "solution": false
    }
   },
   "source": [
    "## Problem 8\n",
    "\n",
    "Implement a single step of the call-by-name reduction. Implement the function\n",
    "\n",
    "```ocaml\n",
    "reduce_cbn : expr -> expr option\n",
    "```\n",
    "\n",
    "The rest of the instructions are same as `reduce_cbv`."
   ]
  },
  {
   "cell_type": "code",
   "execution_count": 21,
   "metadata": {
    "deletable": false,
    "nbgrader": {
     "checksum": "43518e62184360cdb1f2056a32efd18b",
     "grade": false,
     "grade_id": "cell-97e3a2c41734215b",
     "locked": false,
     "schema_version": 1,
     "solution": true
    }
   },
   "outputs": [
    {
     "data": {
      "text/plain": [
       "val reduce_cbn : Syntax.expr -> Syntax.expr * bool = <fun>\n"
      ]
     },
     "execution_count": 21,
     "metadata": {},
     "output_type": "execute_result"
    }
   ],
   "source": [
    "let rec reduce_cbn e =\n",
    "  match e with\n",
    "  |Var(x)   -> (e,false)\n",
    "  |Lam(x,t) -> (e,false)\n",
    "  |App(m,n) -> \n",
    "              match m with\n",
    "              | Var(x) -> (e,false)\n",
    "              | Lam(x1,m1)-> (substitute m1 x1 n,true)\n",
    "              | App(m1,n1) -> if second (reduce_cbn m) then (App(first (reduce_cbn m),n),true) else (e,false)"
   ]
  },
  {
   "cell_type": "code",
   "execution_count": 22,
   "metadata": {
    "deletable": false,
    "editable": false,
    "nbgrader": {
     "checksum": "fc37994aa3129e8fe051162f1bb7f648",
     "grade": true,
     "grade_id": "cell-e988e3a110046165",
     "locked": true,
     "points": 20,
     "schema_version": 1,
     "solution": false
    }
   },
   "outputs": [
    {
     "data": {
      "text/plain": [
       "- : unit = ()\n"
      ]
     },
     "execution_count": 22,
     "metadata": {},
     "output_type": "execute_result"
    }
   ],
   "source": [
    "let expr, reduced = reduce_cbn (parse_string \"(\\\\x.x) ((\\\\x.x) (\\\\z.(\\\\x.x) z))\") in\n",
    "assert (reduced = true &&\n",
    "        alpha_equiv expr (parse_string \"(λx.x) (λz.(λx.x) z)\"));\n",
    "        \n",
    "let expr, reduced = reduce_cbn (parse_string \"(λx.x) (λz.(λx.x) z)\") in\n",
    "assert (reduced = true &&\n",
    "        alpha_equiv expr (parse_string \"λz.(λx.x) z\"));\n",
    "        \n",
    "let expr, reduced = reduce_cbn (parse_string \"λz.(λx.x) z\") in\n",
    "assert (reduced = false &&\n",
    "        alpha_equiv expr (parse_string \"λz.(λx.x) z\"));\n",
    "        \n",
    "let expr, reduced = reduce_cbn (parse_string \"(λx.y) ((λx.x x) (λx.x x))\") in\n",
    "assert (reduced = true &&\n",
    "        alpha_equiv expr (parse_string \"y\"));\n",
    "\n",
    "let expr, reduced = reduce_cbn (parse_string \"(\\\\x.x x) ((\\\\z.z) y)\") in\n",
    "assert (reduced = true &&\n",
    "        alpha_equiv expr (parse_string \"(λz.z) y ((λz.z) y)\"));\n",
    "\n",
    "; let expr, reduced = reduce_cbn (parse_string \"x y z\") in\n",
    "assert (reduced = false &&\n",
    "        alpha_equiv expr (parse_string \"x y z\"))\n"
   ]
  },
  {
   "cell_type": "markdown",
   "metadata": {
    "deletable": false,
    "editable": false,
    "nbgrader": {
     "checksum": "74b237d161ea4b81f505bede10fa3f2b",
     "grade": false,
     "grade_id": "cell-db04235908ea8a26",
     "locked": true,
     "schema_version": 1,
     "solution": false
    }
   },
   "source": [
    "## Problem 9\n",
    "\n",
    "Implement a single step of the normal order reduction. Implement the function\n",
    "\n",
    "```ocaml\n",
    "reduce_normal : expr -> expr * bool\n",
    "```\n",
    "\n",
    "The rest of the instructions are same as `reduce_cbv`."
   ]
  },
  {
   "cell_type": "code",
   "execution_count": 23,
   "metadata": {
    "deletable": false,
    "nbgrader": {
     "checksum": "1d4c35f1c7c54e4aa514b209fd8a1f8e",
     "grade": false,
     "grade_id": "cell-ba11da6e2b5e2acc",
     "locked": false,
     "schema_version": 1,
     "solution": true
    }
   },
   "outputs": [
    {
     "data": {
      "text/plain": [
       "val reduce_normal : Syntax.expr -> Syntax.expr * bool = <fun>\n"
      ]
     },
     "execution_count": 23,
     "metadata": {},
     "output_type": "execute_result"
    }
   ],
   "source": [
    "let rec reduce_normal e =\n",
    "    match e with\n",
    "      |Var(x)   -> (e,false)\n",
    "      |Lam(x,t) -> if second (reduce_normal t) then (Lam(x, first (reduce_normal t)),true) else (e,false)\n",
    "      |App(Lam(x,m),n) -> (substitute m x n,true)\n",
    "      |App(m,n) ->  if second (reduce_normal m) then (App(first (reduce_normal m),n),true)\n",
    "                    else if  second (reduce_normal n) then (App(m,first (reduce_normal n)),true)\n",
    "                    else (e,false)\n",
    ";;"
   ]
  },
  {
   "cell_type": "code",
   "execution_count": 24,
   "metadata": {
    "deletable": false,
    "editable": false,
    "nbgrader": {
     "checksum": "58dfed291c1f0edbda04775b77423c22",
     "grade": true,
     "grade_id": "cell-ded05a8d3813e1e9",
     "locked": true,
     "points": 20,
     "schema_version": 1,
     "solution": false
    }
   },
   "outputs": [
    {
     "data": {
      "text/plain": [
       "- : unit = ()\n"
      ]
     },
     "execution_count": 24,
     "metadata": {},
     "output_type": "execute_result"
    }
   ],
   "source": [
    "let expr, reduced = reduce_normal (parse_string \"(\\\\x.x) ((\\\\x.x) (\\\\z.(\\\\x.x) z))\") in\n",
    "assert (reduced = true &&\n",
    "        alpha_equiv expr (parse_string \"(λx.x) (λz.(λx.x) z)\"));\n",
    "        \n",
    "let expr, reduced = reduce_normal (parse_string \"(λx.x) (λz.(λx.x) z)\") in\n",
    "assert (reduced = true &&\n",
    "        alpha_equiv expr (parse_string \"λz.(λx.x) z\"));\n",
    "        \n",
    "let expr, reduced = reduce_normal (parse_string \"λz.(λx.x) z\") in\n",
    "assert (reduced = true &&\n",
    "        alpha_equiv expr (parse_string \"λz. z\")); \n",
    "        \n",
    "let expr, reduced = reduce_normal (parse_string \"(λx.y) ((λx.x x) (λx.x x))\") in\n",
    "assert (reduced = true &&\n",
    "        alpha_equiv expr (parse_string \"y\"));\n",
    "\n",
    "let expr, reduced = reduce_normal (parse_string \"(\\\\x.x x) ((\\\\z.z) y)\") in\n",
    "assert (reduced = true &&\n",
    "        alpha_equiv expr (parse_string \"(λz.z) y ((λz.z) y)\"));\n",
    "        \n",
    "let expr, reduced = reduce_normal (parse_string \"f (\\\\x.x x) ((\\\\z.z) y)\") in\n",
    "assert (reduced = true &&\n",
    "        alpha_equiv expr (parse_string \"f (λx.x x) y\"));\n",
    "\n",
    "let expr, reduced = reduce_normal (parse_string \"(\\\\x.(\\\\z.z) y) (\\\\x.x x)\") in\n",
    "assert (reduced = true &&\n",
    "        alpha_equiv expr (parse_string \"(λz.z) y\"));\n"
   ]
  },
  {
   "cell_type": "code",
   "execution_count": 25,
   "metadata": {
    "deletable": false,
    "editable": false,
    "nbgrader": {
     "checksum": "0814608c482257fc8380f61a12ac299b",
     "grade": false,
     "grade_id": "cell-4e0b420ebe296901",
     "locked": true,
     "schema_version": 1,
     "solution": false
    }
   },
   "outputs": [
    {
     "data": {
      "text/plain": [
       "val eval :\n",
       "  bool ->\n",
       "  int -> (Syntax.expr -> Syntax.expr * bool) -> Syntax.expr -> Syntax.expr =\n",
       "  <fun>\n"
      ]
     },
     "execution_count": 25,
     "metadata": {},
     "output_type": "execute_result"
    },
    {
     "data": {
      "text/plain": [
       "val eval_cbv : Syntax.expr -> Syntax.expr = <fun>\n"
      ]
     },
     "execution_count": 25,
     "metadata": {},
     "output_type": "execute_result"
    },
    {
     "data": {
      "text/plain": [
       "val eval_cbn : Syntax.expr -> Syntax.expr = <fun>\n"
      ]
     },
     "execution_count": 25,
     "metadata": {},
     "output_type": "execute_result"
    },
    {
     "data": {
      "text/plain": [
       "val eval_normal : Syntax.expr -> Syntax.expr = <fun>\n"
      ]
     },
     "execution_count": 25,
     "metadata": {},
     "output_type": "execute_result"
    }
   ],
   "source": [
    "let rec eval log depth reduce expr =                     \n",
    "  if depth = 0 then failwith \"non-termination?\"                                  \n",
    "  else begin                                                                     \n",
    "    let expr', reduced = reduce expr in                                           \n",
    "    if not reduced then expr else begin                                          \n",
    "      if log then print_endline (\"= \" ^ (string_of_expr expr'));                 \n",
    "      eval log (depth-1) reduce expr'                                    \n",
    "    end                                                                          \n",
    "  end\n",
    "  \n",
    "let eval_cbv = eval true 1000 reduce_cbv\n",
    "let eval_cbn = eval true 1000 reduce_cbn\n",
    "let eval_normal = eval true 1000 reduce_normal"
   ]
  },
  {
   "cell_type": "code",
   "execution_count": 26,
   "metadata": {
    "deletable": false,
    "editable": false,
    "nbgrader": {
     "checksum": "c90a27ba2bb70ad5f276646ba7e36610",
     "grade": true,
     "grade_id": "cell-8d1c02b4a1ab2c2f",
     "locked": true,
     "points": 10,
     "schema_version": 1,
     "solution": false
    }
   },
   "outputs": [
    {
     "name": "stdout",
     "output_type": "stream",
     "text": [
      "= (λn.λs.λz.(λf.λx.f x) s (n s z)) (λf.λx.f (f x))\n",
      "= λs.λz.(λf.λx.f x) s ((λf.λx.f (f x)) s z)\n",
      "= λs.λz.(λx.s x) ((λf.λx.f (f x)) s z)\n",
      "= λs.λz.s ((λf.λx.f (f x)) s z)\n",
      "= λs.λz.s ((λx.s (s x)) z)\n",
      "= λs.λz.s (s (s z))\n",
      "\n",
      "= (λn.λs.λz.(λf.λx.f x) (n s) z) (λf.λx.f (f (f x)))\n",
      "= λs.λz.(λf.λx.f x) ((λf.λx.f (f (f x))) s) z\n",
      "= λs.λz.(λx.(λf.λx.f (f (f x))) s x) z\n",
      "= λs.λz.(λf.λx.f (f (f x))) s z\n",
      "= λs.λz.(λx.s (s (s x))) z\n",
      "= λs.λz.s (s (s z))\n",
      "\n",
      "= (λn.λs.λz.(λf.λx.x) (n s) z) (λf.λx.f (f (f x)))\n",
      "= λs.λz.(λf.λx.x) ((λf.λx.f (f (f x))) s) z\n",
      "= λs.λz.(λx.x) z\n",
      "= λs.λz.z\n"
     ]
    },
    {
     "data": {
      "text/plain": [
       "- : unit = ()\n"
      ]
     },
     "execution_count": 26,
     "metadata": {},
     "output_type": "execute_result"
    }
   ],
   "source": [
    "let zero = parse_string \"\\\\f.\\\\x. x\" in\n",
    "let one = parse_string \"\\\\f.\\\\x. f x\" in\n",
    "let two = parse_string \"\\\\f.\\\\x. f (f x)\" in\n",
    "let three = parse_string \"\\\\f.\\\\x. f (f (f x))\" in\n",
    "\n",
    "let plus = parse_string \"λm. λn. λs. λz. m s (n s z)\" in\n",
    "let mult = parse_string \"λm. λn. λs. λz. m (n s) z\" in\n",
    "\n",
    "assert (alpha_equiv (eval_normal (App (App (plus, one), two))) three);\n",
    "print_endline \"\";\n",
    "assert (alpha_equiv (eval_normal (App (App (mult, one), three))) three);\n",
    "print_endline \"\";\n",
    "assert (alpha_equiv (eval_normal (App (App (mult, zero), three))) zero)"
   ]
  },
  {
   "cell_type": "code",
   "execution_count": null,
   "metadata": {},
   "outputs": [],
   "source": []
  }
 ],
 "metadata": {
  "kernelspec": {
   "display_name": "OCaml 4.07.1",
   "language": "OCaml",
   "name": "ocaml-jupyter"
  },
  "language_info": {
   "codemirror_mode": "text/x-ocaml",
   "file_extension": ".ml",
   "mimetype": "text/x-ocaml",
   "name": "OCaml",
   "nbconverter_exporter": null,
   "pygments_lexer": "OCaml",
   "version": "4.07.1"
  }
 },
 "nbformat": 4,
 "nbformat_minor": 2
}
